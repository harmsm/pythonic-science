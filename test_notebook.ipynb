{
 "cells": [
  {
   "cell_type": "markdown",
   "metadata": {},
   "source": [
    "# Test notebook\n",
    "\n",
    "This notebook tests to make sure you have jupyter and the correct dependencies installed on your computer.  To run the test, click on the cell below and hit `shift+enter`.  Scroll down for output.\n"
   ]
  },
  {
   "cell_type": "code",
   "execution_count": null,
   "metadata": {},
   "outputs": [],
   "source": [
    "%matplotlib inline\n",
    "\n",
    "error_count = 0\n",
    "things_not_installed = []\n",
    "\n",
    "try:\n",
    "    import numpy as np\n",
    "except ImportError:\n",
    "    things_not_installed.append(\"numpy\")\n",
    "    \n",
    "try:\n",
    "    import scipy\n",
    "except ImportError:\n",
    "    things_not_installed.append(\"scipy\")\n",
    "    \n",
    "try:\n",
    "    import matplotlib\n",
    "    from matplotlib import pyplot as plt\n",
    "    plt.plot([-1.5,1.5],[15,15],\"o\",ms=20)\n",
    "    \n",
    "    x = [i*0.1 for i in range(-21,21)]\n",
    "    y = [i**2 for i in x]\n",
    "    \n",
    "    plt.plot(x,y,'r-',lw=15)\n",
    "    plt.title(\"plotting graphics installed correctly\")\n",
    "    \n",
    "    plt.xlim((-5,5))\n",
    "    plt.ylim((-5,20))\n",
    "    \n",
    "    plt.show()\n",
    "except ImportError:\n",
    "    things_not_installed.append(\"matplotlib\")\n",
    "\n",
    "try:\n",
    "    import pandas\n",
    "except ImportError:\n",
    "    things_not_installed.append(\"pandas\")\n",
    "    \n",
    "try:\n",
    "    import sklearn\n",
    "except ImportError:\n",
    "    things_not_installed.append(\"scikit-learn\")\n",
    "    \n",
    "if len(things_not_installed) == 0:\n",
    "    print(\"SUCCESS.  Environment is configured correctly.\")\n",
    "else:    \n",
    "    print(\"ERROR.  The following packages are not installed.\")\n",
    "    for t in things_not_installed:\n",
    "        print(\" * {}\".format(t))\n",
    "    print()\n",
    "    print(\"To install the missing packages, open your conda terminal and type:\")\n",
    "    print()\n",
    "    print(\"    conda install {}\".format(\" \".join(things_not_installed)))\n",
    "    print()\n",
    "    print(\"After this is finished.  Got to Kernel->Restart above and\")\n",
    "    print(\"try running the notebook again.\")"
   ]
  },
  {
   "cell_type": "code",
   "execution_count": null,
   "metadata": {},
   "outputs": [],
   "source": []
  }
 ],
 "metadata": {
  "kernelspec": {
   "display_name": "Python 3",
   "language": "python",
   "name": "python3"
  },
  "language_info": {
   "codemirror_mode": {
    "name": "ipython",
    "version": 3
   },
   "file_extension": ".py",
   "mimetype": "text/x-python",
   "name": "python",
   "nbconvert_exporter": "python",
   "pygments_lexer": "ipython3",
   "version": "3.7.3"
  }
 },
 "nbformat": 4,
 "nbformat_minor": 1
}
