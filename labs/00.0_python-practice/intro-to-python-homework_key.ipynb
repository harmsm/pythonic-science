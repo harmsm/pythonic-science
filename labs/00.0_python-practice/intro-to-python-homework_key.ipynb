{
 "cells": [
  {
   "cell_type": "markdown",
   "metadata": {},
   "source": [
    "# Intro to Python Homework"
   ]
  },
  {
   "cell_type": "markdown",
   "metadata": {},
   "source": [
    "+ Write a line of code that stores the value of the $atan(5)$ in the variable `y`."
   ]
  },
  {
   "cell_type": "code",
   "execution_count": 1,
   "metadata": {},
   "outputs": [],
   "source": [
    "import numpy as np\n",
    "y = np.arctan(5)"
   ]
  },
  {
   "cell_type": "markdown",
   "metadata": {},
   "source": [
    "+ In words, what the `math.ceil` and `math.floor` functions do?"
   ]
  },
  {
   "cell_type": "markdown",
   "metadata": {},
   "source": [
    "They return round down to the nearest integer (`ceil`) or up to the nearest integer (`floor`). "
   ]
  },
  {
   "cell_type": "markdown",
   "metadata": {},
   "source": [
    "+ Store the result of $5x^{4} - 3x^{2} + 0.5x - 20$ in the variable `y`, where $x$ is 2."
   ]
  },
  {
   "cell_type": "code",
   "execution_count": 2,
   "metadata": {},
   "outputs": [],
   "source": [
    "x = 2\n",
    "y = 5*(x**4) - 3*x**2 + 0.5*x - 20"
   ]
  },
  {
   "cell_type": "markdown",
   "metadata": {},
   "source": [
    "+ Construct a conditional that prints $x$ if it is smaller than 20 but greater than -5"
   ]
  },
  {
   "cell_type": "code",
   "execution_count": 3,
   "metadata": {},
   "outputs": [
    {
     "name": "stdout",
     "output_type": "stream",
     "text": [
      "2\n"
     ]
    }
   ],
   "source": [
    "if x > -5 and x < 20:\n",
    "    print(x)"
   ]
  },
  {
   "cell_type": "markdown",
   "metadata": {},
   "source": [
    "+ Construct a conditional that prints $x$ if it not between 5 and 12."
   ]
  },
  {
   "cell_type": "code",
   "execution_count": 4,
   "metadata": {},
   "outputs": [],
   "source": [
    "if x <= 5 and x >= 12:\n",
    "    print(x)"
   ]
  },
  {
   "cell_type": "markdown",
   "metadata": {},
   "source": [
    "+ What will the following code print? (Don't just copy and paste -- reason through it!)\n",
    "\n",
    "![.](complicated-conditional.png)"
   ]
  },
  {
   "cell_type": "markdown",
   "metadata": {},
   "source": [
    "It will print `c`.  `x` does not meet the first two conditionals (`x > 2 or x < 0` and `not x == 2`, so it will reach `x == 2`.  Since it equals 2, this will print `c` and skip the last line printing `d`. "
   ]
  },
  {
   "cell_type": "markdown",
   "metadata": {},
   "source": [
    "+ Write a loop that prints every 5th number between 1 and 2000. (HINT: try `help(range)`)"
   ]
  },
  {
   "cell_type": "code",
   "execution_count": 5,
   "metadata": {},
   "outputs": [
    {
     "name": "stdout",
     "output_type": "stream",
     "text": [
      "1\n",
      "6\n",
      "11\n",
      "16\n",
      "21\n",
      "26\n",
      "31\n",
      "36\n",
      "41\n",
      "46\n",
      "51\n",
      "56\n",
      "61\n",
      "66\n",
      "71\n",
      "76\n",
      "81\n",
      "86\n",
      "91\n",
      "96\n",
      "101\n",
      "106\n",
      "111\n",
      "116\n",
      "121\n",
      "126\n",
      "131\n",
      "136\n",
      "141\n",
      "146\n",
      "151\n",
      "156\n",
      "161\n",
      "166\n",
      "171\n",
      "176\n",
      "181\n",
      "186\n",
      "191\n",
      "196\n",
      "201\n",
      "206\n",
      "211\n",
      "216\n",
      "221\n",
      "226\n",
      "231\n",
      "236\n",
      "241\n",
      "246\n",
      "251\n",
      "256\n",
      "261\n",
      "266\n",
      "271\n",
      "276\n",
      "281\n",
      "286\n",
      "291\n",
      "296\n",
      "301\n",
      "306\n",
      "311\n",
      "316\n",
      "321\n",
      "326\n",
      "331\n",
      "336\n",
      "341\n",
      "346\n",
      "351\n",
      "356\n",
      "361\n",
      "366\n",
      "371\n",
      "376\n",
      "381\n",
      "386\n",
      "391\n",
      "396\n",
      "401\n",
      "406\n",
      "411\n",
      "416\n",
      "421\n",
      "426\n",
      "431\n",
      "436\n",
      "441\n",
      "446\n",
      "451\n",
      "456\n",
      "461\n",
      "466\n",
      "471\n",
      "476\n",
      "481\n",
      "486\n",
      "491\n",
      "496\n",
      "501\n",
      "506\n",
      "511\n",
      "516\n",
      "521\n",
      "526\n",
      "531\n",
      "536\n",
      "541\n",
      "546\n",
      "551\n",
      "556\n",
      "561\n",
      "566\n",
      "571\n",
      "576\n",
      "581\n",
      "586\n",
      "591\n",
      "596\n",
      "601\n",
      "606\n",
      "611\n",
      "616\n",
      "621\n",
      "626\n",
      "631\n",
      "636\n",
      "641\n",
      "646\n",
      "651\n",
      "656\n",
      "661\n",
      "666\n",
      "671\n",
      "676\n",
      "681\n",
      "686\n",
      "691\n",
      "696\n",
      "701\n",
      "706\n",
      "711\n",
      "716\n",
      "721\n",
      "726\n",
      "731\n",
      "736\n",
      "741\n",
      "746\n",
      "751\n",
      "756\n",
      "761\n",
      "766\n",
      "771\n",
      "776\n",
      "781\n",
      "786\n",
      "791\n",
      "796\n",
      "801\n",
      "806\n",
      "811\n",
      "816\n",
      "821\n",
      "826\n",
      "831\n",
      "836\n",
      "841\n",
      "846\n",
      "851\n",
      "856\n",
      "861\n",
      "866\n",
      "871\n",
      "876\n",
      "881\n",
      "886\n",
      "891\n",
      "896\n",
      "901\n",
      "906\n",
      "911\n",
      "916\n",
      "921\n",
      "926\n",
      "931\n",
      "936\n",
      "941\n",
      "946\n",
      "951\n",
      "956\n",
      "961\n",
      "966\n",
      "971\n",
      "976\n",
      "981\n",
      "986\n",
      "991\n",
      "996\n",
      "1001\n",
      "1006\n",
      "1011\n",
      "1016\n",
      "1021\n",
      "1026\n",
      "1031\n",
      "1036\n",
      "1041\n",
      "1046\n",
      "1051\n",
      "1056\n",
      "1061\n",
      "1066\n",
      "1071\n",
      "1076\n",
      "1081\n",
      "1086\n",
      "1091\n",
      "1096\n",
      "1101\n",
      "1106\n",
      "1111\n",
      "1116\n",
      "1121\n",
      "1126\n",
      "1131\n",
      "1136\n",
      "1141\n",
      "1146\n",
      "1151\n",
      "1156\n",
      "1161\n",
      "1166\n",
      "1171\n",
      "1176\n",
      "1181\n",
      "1186\n",
      "1191\n",
      "1196\n",
      "1201\n",
      "1206\n",
      "1211\n",
      "1216\n",
      "1221\n",
      "1226\n",
      "1231\n",
      "1236\n",
      "1241\n",
      "1246\n",
      "1251\n",
      "1256\n",
      "1261\n",
      "1266\n",
      "1271\n",
      "1276\n",
      "1281\n",
      "1286\n",
      "1291\n",
      "1296\n",
      "1301\n",
      "1306\n",
      "1311\n",
      "1316\n",
      "1321\n",
      "1326\n",
      "1331\n",
      "1336\n",
      "1341\n",
      "1346\n",
      "1351\n",
      "1356\n",
      "1361\n",
      "1366\n",
      "1371\n",
      "1376\n",
      "1381\n",
      "1386\n",
      "1391\n",
      "1396\n",
      "1401\n",
      "1406\n",
      "1411\n",
      "1416\n",
      "1421\n",
      "1426\n",
      "1431\n",
      "1436\n",
      "1441\n",
      "1446\n",
      "1451\n",
      "1456\n",
      "1461\n",
      "1466\n",
      "1471\n",
      "1476\n",
      "1481\n",
      "1486\n",
      "1491\n",
      "1496\n",
      "1501\n",
      "1506\n",
      "1511\n",
      "1516\n",
      "1521\n",
      "1526\n",
      "1531\n",
      "1536\n",
      "1541\n",
      "1546\n",
      "1551\n",
      "1556\n",
      "1561\n",
      "1566\n",
      "1571\n",
      "1576\n",
      "1581\n",
      "1586\n",
      "1591\n",
      "1596\n",
      "1601\n",
      "1606\n",
      "1611\n",
      "1616\n",
      "1621\n",
      "1626\n",
      "1631\n",
      "1636\n",
      "1641\n",
      "1646\n",
      "1651\n",
      "1656\n",
      "1661\n",
      "1666\n",
      "1671\n",
      "1676\n",
      "1681\n",
      "1686\n",
      "1691\n",
      "1696\n",
      "1701\n",
      "1706\n",
      "1711\n",
      "1716\n",
      "1721\n",
      "1726\n",
      "1731\n",
      "1736\n",
      "1741\n",
      "1746\n",
      "1751\n",
      "1756\n",
      "1761\n",
      "1766\n",
      "1771\n",
      "1776\n",
      "1781\n",
      "1786\n",
      "1791\n",
      "1796\n",
      "1801\n",
      "1806\n",
      "1811\n",
      "1816\n",
      "1821\n",
      "1826\n",
      "1831\n",
      "1836\n",
      "1841\n",
      "1846\n",
      "1851\n",
      "1856\n",
      "1861\n",
      "1866\n",
      "1871\n",
      "1876\n",
      "1881\n",
      "1886\n",
      "1891\n",
      "1896\n",
      "1901\n",
      "1906\n",
      "1911\n",
      "1916\n",
      "1921\n",
      "1926\n",
      "1931\n",
      "1936\n",
      "1941\n",
      "1946\n",
      "1951\n",
      "1956\n",
      "1961\n",
      "1966\n",
      "1971\n",
      "1976\n",
      "1981\n",
      "1986\n",
      "1991\n",
      "1996\n"
     ]
    }
   ],
   "source": [
    "for i in range(1,2001,5):\n",
    "    print(i)"
   ]
  },
  {
   "cell_type": "markdown",
   "metadata": {},
   "source": [
    "+ What will the following program print out?\n",
    "\n",
    "![.](conditional-loop.png)"
   ]
  },
  {
   "cell_type": "markdown",
   "metadata": {},
   "source": [
    "It will print `0 to 9` and then `-10 to -99`. "
   ]
  },
  {
   "cell_type": "markdown",
   "metadata": {},
   "source": [
    "+ Write a loop that calculates a Riemann sum for $x^2$ for $x \\in [-5,5]$."
   ]
  },
  {
   "cell_type": "code",
   "execution_count": 6,
   "metadata": {},
   "outputs": [
    {
     "name": "stdout",
     "output_type": "stream",
     "text": [
      "85\n",
      "83.33333250005565\n"
     ]
    }
   ],
   "source": [
    "\n",
    "# left hand integral\n",
    "dx = 1\n",
    "integral = 0\n",
    "for x in range(-5,5):\n",
    "    integral = integral + dx*x**2\n",
    "print(integral)\n",
    "\n",
    "## A better, higher accuracy way\n",
    "dx = 0.001\n",
    "midpoints = np.arange(-5,5,dx) + dx/2\n",
    "print(np.sum(midpoints**2)*dx)\n",
    "\n"
   ]
  },
  {
   "cell_type": "markdown",
   "metadata": {},
   "source": [
    "+ Create a list of all integers between 2 and 30."
   ]
  },
  {
   "cell_type": "code",
   "execution_count": 7,
   "metadata": {},
   "outputs": [],
   "source": [
    "some_list = []\n",
    "for i in range(2,31):\n",
    "    some_list.append(i)\n",
    "    \n",
    "## another (better!) way is to cast it; faster\n",
    "some_list = list(range(2,31))"
   ]
  },
  {
   "cell_type": "markdown",
   "metadata": {},
   "source": [
    "+ Create a list called **some_list** that has all `sin(x)` for `x` $\\in$ [$0$, $\\pi/4$, $\\pi /2$, $3 \\pi /4$... $2 \\pi$]."
   ]
  },
  {
   "cell_type": "code",
   "execution_count": 8,
   "metadata": {},
   "outputs": [],
   "source": [
    "import numpy as np\n",
    "some_list = []\n",
    "for i in range(0,9):\n",
    "    some_list.append(np.sin(np.pi*i/4))\n",
    "    "
   ]
  },
  {
   "cell_type": "markdown",
   "metadata": {},
   "source": [
    " \n",
    "+ Create a list called **some_list** from -100 to 0 and then replace every even number with its positive value. (You'll want to use the (modulo operator)[https://stackoverflow.com/questions/4432208/how-does-work-in-python]). The output should look like:\n",
    "\n",
    "```python\n",
    "print(some_list)\n",
    "\n",
    "[100,-99,98,-97,96,...,0]\n",
    "```"
   ]
  },
  {
   "cell_type": "code",
   "execution_count": 9,
   "metadata": {},
   "outputs": [],
   "source": [
    "some_list = []\n",
    "for i in range(-100,1):\n",
    "    if i % 2:\n",
    "        some_list.append(i)\n",
    "    else:\n",
    "        some_list.append(-i)\n",
    "    "
   ]
  },
  {
   "cell_type": "markdown",
   "metadata": {},
   "source": [
    "+ Write a loop that creates a dictionary that uses the letters A-E as keys to the values 0-4."
   ]
  },
  {
   "cell_type": "code",
   "execution_count": 10,
   "metadata": {},
   "outputs": [],
   "source": [
    "letters = \"ABCDE\"\n",
    "some_dict = {}\n",
    "for i in range(5):\n",
    "    some_dict[letters[i]] = i\n",
    "\n",
    "## A different way using a cool function called enumerate\n",
    "some_dict = {}\n",
    "for number, letter in enumerate(\"ABCDE\"):\n",
    "    some_dict[letter] = number\n",
    "    \n",
    "## Or even MORE compact using list comprehension\n",
    "some_dict = dict([(letter,number) for number, letter in enumerate(\"ABCDE\")])"
   ]
  },
  {
   "cell_type": "markdown",
   "metadata": {},
   "source": [
    "+ Create a $3 \\times 3$ numpy array with the integers 0-8:\n",
    "\n",
    "  ```python\n",
    "    [[0,1,2],\n",
    "     [3,4,5],\n",
    "     [6,7,8]]\n",
    "  ```\n",
    "  Multiply the whole array by 5 and then take the natural log of all values (elementwise).  What is the sum of the right-most column?"
   ]
  },
  {
   "cell_type": "code",
   "execution_count": 11,
   "metadata": {},
   "outputs": [
    {
     "name": "stdout",
     "output_type": "stream",
     "text": [
      "9.210340371976182\n"
     ]
    },
    {
     "name": "stderr",
     "output_type": "stream",
     "text": [
      "/Users/harmsm/miniconda3/lib/python3.7/site-packages/ipykernel_launcher.py:5: RuntimeWarning: divide by zero encountered in log\n",
      "  \"\"\"\n"
     ]
    }
   ],
   "source": [
    "some_list = [[0,1,2],[3,4,5],[6,7,8]]\n",
    "for i in range(3):\n",
    "    for j in range(3):\n",
    "        some_list[i][j] = some_list[i][j]*5\n",
    "        some_list[i][j] = np.log(some_list[i][j])\n",
    "\n",
    "total = 0\n",
    "for j in range(3):\n",
    "    total = total + some_list[j][2]\n",
    "    \n",
    "print(total)\n",
    "\n",
    "\n"
   ]
  },
  {
   "cell_type": "markdown",
   "metadata": {},
   "source": [
    "+ Repeat the exercise above using a numpy array.  Use a numpy array to calcualte all `sin(x)` for `x` $\\in$ [$0$, $\\pi/4$, $\\pi /2$, $3 \\pi /4$... $2 \\pi$]."
   ]
  },
  {
   "cell_type": "code",
   "execution_count": 12,
   "metadata": {},
   "outputs": [
    {
     "name": "stdout",
     "output_type": "stream",
     "text": [
      "9.210340371976182\n"
     ]
    },
    {
     "name": "stderr",
     "output_type": "stream",
     "text": [
      "/Users/harmsm/miniconda3/lib/python3.7/site-packages/ipykernel_launcher.py:15: RuntimeWarning: divide by zero encountered in log\n",
      "  from ipykernel import kernelapp as app\n",
      "/Users/harmsm/miniconda3/lib/python3.7/site-packages/ipykernel_launcher.py:17: RuntimeWarning: divide by zero encountered in log\n"
     ]
    },
    {
     "data": {
      "text/plain": [
       "array([[      -inf, 1.60943791, 2.30258509],\n",
       "       [2.7080502 , 2.99573227, 3.21887582],\n",
       "       [3.40119738, 3.55534806, 3.68887945]])"
      ]
     },
     "execution_count": 12,
     "metadata": {},
     "output_type": "execute_result"
    }
   ],
   "source": [
    "some_array = np.array([[0,1,2],[3,4,5],[6,7,8]],dtype=np.int)\n",
    "\n",
    "## OR\n",
    "some_array = np.zeros((3,3),dtype=np.int)\n",
    "total = 0\n",
    "for i in range(3):\n",
    "    for j in range(3):\n",
    "        some_array[i,j] = total\n",
    "        total += 1\n",
    "\n",
    "## OR (probably most efficient of the set)\n",
    "some_array = np.array(range(9),dtype=np.int)\n",
    "some_array = some_array.reshape((3,3))\n",
    "        \n",
    "print(np.sum(np.log((5*some_array))[:,2]))\n",
    "\n",
    "np.log(some_array*5)"
   ]
  },
  {
   "cell_type": "markdown",
   "metadata": {},
   "source": [
    "+ Write a function that takes a string and returns it in all uppercase. (Hint, google this one)"
   ]
  },
  {
   "cell_type": "code",
   "execution_count": 13,
   "metadata": {},
   "outputs": [
    {
     "data": {
      "text/plain": [
       "'TEST'"
      ]
     },
     "execution_count": 13,
     "metadata": {},
     "output_type": "execute_result"
    }
   ],
   "source": [
    "def capitalize(some_string):\n",
    "    return some_string.upper()\n",
    "capitalize(\"test\")"
   ]
  },
  {
   "cell_type": "markdown",
   "metadata": {},
   "source": [
    "+ Use `matplotlib` to plot $sin(x)$ for `x` $\\in$ [$0$, $\\pi/4$, $\\pi /2$, $3 \\pi /4$... $2 \\pi$].  Use both orange points and a green line."
   ]
  },
  {
   "cell_type": "code",
   "execution_count": 14,
   "metadata": {},
   "outputs": [
    {
     "data": {
      "text/plain": [
       "[<matplotlib.lines.Line2D at 0x1100892e8>]"
      ]
     },
     "execution_count": 14,
     "metadata": {},
     "output_type": "execute_result"
    },
    {
     "data": {
      "image/png": "[encoded data removed]",
      "text/plain": [
       "<Figure size 432x288 with 1 Axes>"
      ]
     },
     "metadata": {
      "needs_background": "light"
     },
     "output_type": "display_data"
    }
   ],
   "source": [
    "%matplotlib inline\n",
    "from matplotlib import pyplot as plt\n",
    "import numpy as np\n",
    "\n",
    "x = np.arange(0,2.25*np.pi,0.25*np.pi)\n",
    "y = np.sin(x)\n",
    "plt.plot(x,y,\"-\",color=\"green\")\n",
    "plt.plot(x,y,\"1\",color=\"orange\",markersize=12)\n"
   ]
  },
  {
   "cell_type": "markdown",
   "metadata": {},
   "source": [
    "You measure the doubling times of bacterial strains A-D under identical conditions.  \n",
    "\n",
    "| strain | doubling time (min) | \n",
    "|:------:|:-------------------:|\n",
    "|  A     | 20                  |\n",
    "|  B     | 25                  |\n",
    "|  C     | 39                  |\n",
    "|  D     | 53                  |\n",
    "\n",
    "Assuming you start with a single cell and have nutrients in excess, you can calculate the number of bacteria $N(t)$ in a culture after $t$ minutes according to: \n",
    "\n",
    " $$N(t) = 2^{t/d}$$\n",
    "\n",
    "\n",
    " + Write a function called **num_bacteria** that takes the time and doubling time and returns the number of bacteria present. "
   ]
  },
  {
   "cell_type": "code",
   "execution_count": 15,
   "metadata": {},
   "outputs": [],
   "source": [
    "def num_bacteria(t,doubling_time):\n",
    "    \n",
    "    return 2**(t/doubling_time)\n",
    "    "
   ]
  },
  {
   "cell_type": "markdown",
   "metadata": {},
   "source": [
    " + Create a dictionary called **doubling** that keys the name of each strain to its population after 12 hours."
   ]
  },
  {
   "cell_type": "code",
   "execution_count": 16,
   "metadata": {},
   "outputs": [
    {
     "data": {
      "text/plain": [
       "{'A': 68719476736.0, 'B': 467373274.8589041, 'C': 360974.76557387016}"
      ]
     },
     "execution_count": 16,
     "metadata": {},
     "output_type": "execute_result"
    }
   ],
   "source": [
    "doubling = {}\n",
    "doubling[\"A\"] = num_bacteria(12*60,20)\n",
    "doubling[\"B\"] = num_bacteria(12*60,25)\n",
    "doubling[\"C\"] = num_bacteria(12*60,39)\n",
    "\n",
    "doubling"
   ]
  },
  {
   "cell_type": "markdown",
   "metadata": {
    "collapsed": true
   },
   "source": [
    " + Use `matplotlib` to create a single graph that shows $N(t)$ for all four bacterial strains from 0 to 18 hr.  Make sure you label your axes appropriately. "
   ]
  },
  {
   "cell_type": "code",
   "execution_count": 17,
   "metadata": {},
   "outputs": [
    {
     "name": "stdout",
     "output_type": "stream",
     "text": [
      "A\n",
      "B\n",
      "C\n"
     ]
    }
   ],
   "source": [
    "for k in doubling.keys():\n",
    "    print(k)"
   ]
  },
  {
   "cell_type": "code",
   "execution_count": 18,
   "metadata": {},
   "outputs": [
    {
     "data": {
      "image/png": "[encoded data removed]",
      "text/plain": [
       "<Figure size 432x288 with 1 Axes>"
      ]
     },
     "metadata": {
      "needs_background": "light"
     },
     "output_type": "display_data"
    }
   ],
   "source": [
    "%matplotlib inline\n",
    "from matplotlib import pyplot as plt\n",
    "import numpy as np\n",
    "\n",
    "t = np.arange(0,18*60+1,1)\n",
    "some_dict = {\"A\":20.0,\"B\":25.0}\n",
    "for k in some_dict.keys():\n",
    "    plt.plot(t,num_bacteria(t,some_dict[k]),\".\")\n",
    "    \n",
    "plt.yscale(\"log\")"
   ]
  },
  {
   "cell_type": "code",
   "execution_count": null,
   "metadata": {},
   "outputs": [],
   "source": []
  }
 ],
 "metadata": {
  "kernelspec": {
   "display_name": "Python 3",
   "language": "python",
   "name": "python3"
  },
  "language_info": {
   "codemirror_mode": {
    "name": "ipython",
    "version": 3
   },
   "file_extension": ".py",
   "mimetype": "text/x-python",
   "name": "python",
   "nbconvert_exporter": "python",
   "pygments_lexer": "ipython3",
   "version": "3.7.3"
  }
 },
 "nbformat": 4,
 "nbformat_minor": 1
}
