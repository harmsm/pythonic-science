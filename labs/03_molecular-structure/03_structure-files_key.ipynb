{
 "cells": [
  {
   "cell_type": "markdown",
   "metadata": {},
   "source": [
    "## Parsing and manipulating PDB files"
   ]
  },
  {
   "cell_type": "code",
   "execution_count": 1,
   "metadata": {},
   "outputs": [],
   "source": [
    "%matplotlib inline\n",
    "from matplotlib import pyplot as plt\n",
    "\n",
    "import numpy as np\n",
    "import pandas as pd"
   ]
  },
  {
   "cell_type": "markdown",
   "metadata": {},
   "source": [
    "+ Two important pieces of metadata for a crystal structure are $R$ and $R_{free}$.  These measure how well the crystallographic model fits experimental data used to generate the model.  The location of these numbers are indicated in pdb files by the following text.\n",
    "\n",
    "  ```\n",
    "  REMARK   3   R VALUE     (WORKING + TEST SET)\n",
    "\n",
    "  and \n",
    "\n",
    "  REMARK   3   FREE R VALUE\n",
    "  ```\n",
    "\n",
    "  Write a function called **get_R** that takes a string specifying a pdb file as an argument, extracts $R$ and $R_{free}$ from the file, and then returns them as a tuple of floats `(R,R_free)`.\n",
    "\n"
   ]
  },
  {
   "cell_type": "code",
   "execution_count": 2,
   "metadata": {},
   "outputs": [
    {
     "data": {
      "text/plain": [
       "(0.195, 0.221)"
      ]
     },
     "execution_count": 2,
     "metadata": {},
     "output_type": "execute_result"
    }
   ],
   "source": [
    "def get_R(pdb_file):\n",
    "    \n",
    "    f = open(pdb_file,\"r\")\n",
    "    lines = f.readlines()\n",
    "    f.close()\n",
    "    \n",
    "    for l in lines:\n",
    "        if l.startswith(\"REMARK   3   R VALUE     (WORKING + TEST SET)\"):\n",
    "            R = float(l[47:55])\n",
    "        \n",
    "        if l.startswith(\"REMARK   3   FREE R VALUE                    \"):\n",
    "            R_free = float(l[47:55])\n",
    "            \n",
    "    return (R,R_free)\n",
    "\n",
    "            \n",
    "get_R(\"1gzx.pdb\")"
   ]
  },
  {
   "cell_type": "markdown",
   "metadata": {},
   "source": [
    "+ Create a histogram of all $C_{\\alpha,i} \\rightarrow C_{\\alpha,i+1}$ distances in the pdb file `1stn.pdb`, where $i$ counts along residues in the sequence.  (This means the distance between $C_{\\alpha}$ for residue 1 and 2, then for 2 and 3, etc.)"
   ]
  },
  {
   "cell_type": "code",
   "execution_count": 3,
   "metadata": {},
   "outputs": [
    {
     "data": {
      "text/plain": [
       "(array([  1.,   0.,   0.,   0.,   0.,   0.,   0.,   0.,   5., 129.]),\n",
       " array([2.96503373, 3.05462498, 3.14421623, 3.23380749, 3.32339874,\n",
       "        3.41298999, 3.50258124, 3.5921725 , 3.68176375, 3.771355  ,\n",
       "        3.86094626]),\n",
       " <a list of 10 Patch objects>)"
      ]
     },
     "execution_count": 3,
     "metadata": {},
     "output_type": "execute_result"
    },
    {
     "data": {
      "image/png": "[encoded data removed]",
      "text/plain": [
       "<Figure size 432x288 with 1 Axes>"
      ]
     },
     "metadata": {
      "needs_background": "light"
     },
     "output_type": "display_data"
    }
   ],
   "source": [
    "# Load file\n",
    "f = open(\"1stn.pdb\")\n",
    "lines = f.readlines()\n",
    "f.close()\n",
    "\n",
    "# Loop through lines\n",
    "out = []\n",
    "for l in lines:\n",
    "    \n",
    "    # Grab ATOM entries\n",
    "    if l[:4] == \"ATOM\":\n",
    "        \n",
    "        # Grab CA atoms\n",
    "        if l[13:15] == \"CA\":\n",
    "            \n",
    "            # Grab coordinates\n",
    "            x = float(l[30:38])\n",
    "            y = float(l[38:46])\n",
    "            z = float(l[46:54])\n",
    "            \n",
    "            out.append((x,y,z))\n",
    "\n",
    "# Convert to an Nx3 numpy array \n",
    "coord = np.array(out)\n",
    "\n",
    "# dx, dy, dz\n",
    "steps = coord[1:,:] - coord[:-1,:]\n",
    "\n",
    "# rmsd\n",
    "rmsd = np.sqrt(np.sum((steps)**2,axis=1))\n",
    "\n",
    "fig, ax = plt.subplots()\n",
    "ax.hist(rmsd)\n"
   ]
  },
  {
   "cell_type": "markdown",
   "metadata": {},
   "source": [
    "Write a function called **center_of_mass** that calculates the center of mass for a pdb file.  It should take a string specifying the pdb file as an argument and return a tuple with the center of mass in (x, y, z).  The center of mass is the average of the coordinates of the protein atoms, weighted by their mass.  The type of each atom is given on the far right of each line of the pdb.  You should use the following masses for the atoms:\n",
    "\n",
    "|atom | mass     |\n",
    "|-----|----------|\n",
    "| `C` | 12.0107  |\n",
    "| `N` | 14.0067  |\n",
    "| `O` | 15.9994  |\n",
    "| `S` | 32.065   |"
   ]
  },
  {
   "cell_type": "code",
   "execution_count": 4,
   "metadata": {},
   "outputs": [
    {
     "data": {
      "text/plain": [
       "array([ 4.78272072, 22.42250936, 14.50265476])"
      ]
     },
     "execution_count": 4,
     "metadata": {},
     "output_type": "execute_result"
    }
   ],
   "source": [
    "\n",
    "\n",
    "def center_of_mass(pdb_file):\n",
    "    \"\"\"\n",
    "    Get the center of mass from a pdb file.\n",
    "    \n",
    "    center of mass is for coordinate D over all atoms i is:\n",
    "        sum(mass_i*D_i)/sum(mass_i) \n",
    "    \n",
    "    pdb_file: string indicating the pdb file to analyze\n",
    "    \"\"\"\n",
    "    \n",
    "    # Masses of atom times\n",
    "    mass_dict = {\"C\":12.0107,\n",
    "                 \"N\":14.0067,\n",
    "                 \"O\":15.9994,\n",
    "                 \"S\":32.065}\n",
    "    \n",
    "    # Read lines from file\n",
    "    f = open(pdb_file,'r')\n",
    "    lines = f.readlines()\n",
    "    f.close()\n",
    "    \n",
    "    # Initialize variables\n",
    "    com = np.zeros(3,dtype=np.float)\n",
    "    total_mass = 0.0\n",
    "    \n",
    "    # Go through every line\n",
    "    for l in lines:\n",
    "        \n",
    "        # Grab ATOM entries\n",
    "        if l[:4] == \"ATOM\":\n",
    "\n",
    "            # Get atom type, atom mass\n",
    "            atom_type = l[77]\n",
    "            atom_mass = mass_dict[atom_type]\n",
    "\n",
    "            # Extract x, y, and z and multiply by atom mass\n",
    "            # Append each of these to the center of mass\n",
    "            com[0] += float(l[30:38])*atom_mass\n",
    "            com[1] += float(l[38:46])*atom_mass\n",
    "            com[2] += float(l[46:54])*atom_mass\n",
    "\n",
    "            total_mass += atom_mass\n",
    "                        \n",
    "    return com/total_mass\n",
    "            \n",
    "center_of_mass(\"1stn.pdb\")"
   ]
  },
  {
   "cell_type": "markdown",
   "metadata": {},
   "source": [
    "The `HN` hydrogen atom attached to the `N` is often not in crystal structures because it is invisible in the diffraction experiment used to make the model.   Unfortunately, the `HN` atom coordinates are necessary to calculate things like structural biologists care about like [Ramachandran plots](https://en.wikipedia.org/wiki/Ramachandran_plot).  The missing atom is indicated with the red arrow in the figure below.\n",
    "\n",
    "![hn_definition](https://raw.githubusercontent.com/harmsm/pythonic-science/master/labs/03_molecular-structure/NH_proton.png)\n",
    "\n",
    "The function below (`calc_hn`) calculates the position of the `HN` atom for the $i^{th}$ residue given the coordinates of the $(i-1)^{th}$ `C` atom (red sphere in picture), the $i^{th}$ `N` atom (cyan sphere in picture) and the $i^{th}$ `CA` atom (cyan sphere in picture).  Write a program that takes a pdb file as input, calculates the position of each `HN` atom, and then writes out a new pdb file with the `HN` atoms written out as lines just after the `N` atoms.  This means the line encoding the position of `N` for residue 46 would be followed by a new line encoding the position of `HN` for residue 46.  You do not have to renumber the atoms in the file (but bonus points if you do).  "
   ]
  },
  {
   "cell_type": "code",
   "execution_count": 5,
   "metadata": {},
   "outputs": [],
   "source": [
    "\n",
    "def calc_hn(CO_i_minus_one,N_i,CA_i):\n",
    "    \"\"\"\n",
    "    Calculate the position of the HN proton. \n",
    "    \n",
    "    CO_i_minus_one: array of x,y,z coordinates for *previous* \n",
    "                    \"C\" atom\n",
    "    N_i: array of x,y,z coordinates for current \"N\" atom.\n",
    "    CA_i: array of x,y,z coordinates for current \"CA\" atom.\n",
    "    \n",
    "    Returns: x,y,z array for HN proton.\n",
    "    \"\"\"\n",
    "    \n",
    "    # Center on N\n",
    "    Ca = CA_i           - N_i\n",
    "    Co = CO_i_minus_one - N_i\n",
    "\n",
    "    # Get length of relevant vectors\n",
    "    length_HN = 1.02\n",
    "    length_Ca = np.sqrt(np.sum(Ca**2))\n",
    "    length_Co = np.sqrt(np.sum(Co**2))\n",
    "\n",
    "    # Dot product of H and C\n",
    "    H_dot_C = length_HN*length_Co*np.cos(119.0*np.pi/180.0)\n",
    "\n",
    "    xo = Co[0]\n",
    "    yo = Co[1]\n",
    "    zo = Co[2]\n",
    "\n",
    "    xa = Ca[0]\n",
    "    ya = Ca[1]\n",
    "    za = Ca[2]\n",
    "    \n",
    "    Q = length_Ca/length_Co\n",
    "    A = (xo + Q*xa)\n",
    "    B = (yo + Q*ya)\n",
    "    C = (zo + Q*za)\n",
    "\n",
    "    xh = H_dot_C/(xo + yo*B/A + zo*C/A)\n",
    "    yh = xh*B/A\n",
    "    zh = xh*C/A\n",
    "\n",
    "    # Translate HN back to original coordinates\n",
    "    HN_i = np.array((xh,yh,zh)) + N_i\n",
    "    \n",
    "    return HN_i\n",
    "    \n"
   ]
  },
  {
   "cell_type": "code",
   "execution_count": 6,
   "metadata": {},
   "outputs": [],
   "source": [
    "\n",
    "def add_hn(pdb_file,output_pdb_file):\n",
    "    \"\"\"\n",
    "    Calculate the positions of the HN atom in a protein pdb file\n",
    "    and write them to a new pdb file.\n",
    "    \n",
    "    pdb_file: pdb file without HN atoms\n",
    "    output_pdb_file: pdb file to write out.  Warning: if this exists,\n",
    "                     it will be overwritten. \n",
    "    \"\"\"\n",
    "    \n",
    "    # Read lines from pdb file\n",
    "    f = open(pdb_file)\n",
    "    lines = f.readlines()\n",
    "    f.close()\n",
    "    \n",
    "    # Dictionary to store information for calculation\n",
    "    df_dict = {\"atom\":[],\n",
    "                \"resid\":[],\n",
    "                \"x\":[],\n",
    "                \"y\":[],\n",
    "                \"z\":[]}\n",
    "    \n",
    "    # Grab relevant atoms from the lines\n",
    "    for l in lines:\n",
    "        if l[:4] == \"ATOM\":\n",
    "            \n",
    "            # Grab atoms of interest\n",
    "            if l[13:16] in [\"N  \",\"CA \",\"C  \"]:\n",
    "                \n",
    "                # Grab atom and residue number\n",
    "                atom = l[13:16].strip()\n",
    "                resid = l[21:26].strip()\n",
    "            \n",
    "                # Record in df_dict\n",
    "                df_dict[\"atom\"].append(atom)\n",
    "                df_dict[\"resid\"].append(resid)\n",
    "                df_dict[\"x\"].append(float(l[30:38]))\n",
    "                df_dict[\"y\"].append(float(l[38:46]))\n",
    "                df_dict[\"z\"].append(float(l[46:54]))\n",
    "    \n",
    "    # Convert to data frame\n",
    "    df = pd.DataFrame(df_dict)\n",
    "    \n",
    "    # Dict will hold HN positions\n",
    "    HN_dict = {}\n",
    "    \n",
    "    # Go over all residues seen\n",
    "    resids = np.unique(df.resid)\n",
    "    for i in range(1,len(resids)):\n",
    "        \n",
    "        # Name of i and i-1 residues\n",
    "        r_i = resids[i]\n",
    "        r_i_minus_one = resids[i-1]\n",
    "\n",
    "        # Grab previous CO, N and CA from the data frame\n",
    "        CO_i_minus_one = np.array(df[np.logical_and(df.resid == r_i_minus_one,\n",
    "                                                    df.atom == \"C\") ].iloc[0,2:])\n",
    "        N_i =            np.array(df[np.logical_and(df.resid == r_i,\n",
    "                                                    df.atom == \"N\") ].iloc[0,2:])\n",
    "        CA_i =           np.array(df[np.logical_and(df.resid == r_i,\n",
    "                                                    df.atom == \"CA\")].iloc[0,2:])\n",
    "        \n",
    "        # Calculate position of the HN atom\n",
    "        HN_i = calc_hn(CO_i_minus_one,N_i,CA_i)\n",
    "     \n",
    "        # Record it in the dictionary\n",
    "        HN_dict[r_i] = HN_i\n",
    "        \n",
    "    out = []\n",
    "    for l in lines:\n",
    "        out.append(l)\n",
    "        \n",
    "        # Look for \"N\" atom and and \"HN after that\"\n",
    "        if l[:4] == \"ATOM\" and l[13:16] == \"N  \":\n",
    "            \n",
    "            # See if we calculated HN for this residue\n",
    "            resid = l[21:26].strip()\n",
    "            try:\n",
    "                HN_i = HN_dict[l[21:26].strip()]\n",
    "            except KeyError:\n",
    "                pass\n",
    "                \n",
    "            \n",
    "            out.append(\"{}HN {}{:8.3f}{:8.3f}{:8.3f}{}H\\n\".format(l[:13],l[16:30],\n",
    "                                                                  HN_i[0],HN_i[1],HN_i[2],\n",
    "                                                                  l[54:77]))\n",
    "    g = open(output_pdb_file,\"w\")\n",
    "    g.write(\"\".join(out))\n",
    "    g.close()\n",
    "                \n",
    "    \n",
    "add_hn(\"1stn.pdb\",\"junk.pdb\")"
   ]
  },
  {
   "cell_type": "code",
   "execution_count": null,
   "metadata": {},
   "outputs": [],
   "source": []
  }
 ],
 "metadata": {
  "kernelspec": {
   "display_name": "Python 3",
   "language": "python",
   "name": "python3"
  },
  "language_info": {
   "codemirror_mode": {
    "name": "ipython",
    "version": 3
   },
   "file_extension": ".py",
   "mimetype": "text/x-python",
   "name": "python",
   "nbconvert_exporter": "python",
   "pygments_lexer": "ipython3",
   "version": "3.7.3"
  }
 },
 "nbformat": 4,
 "nbformat_minor": 1
}
