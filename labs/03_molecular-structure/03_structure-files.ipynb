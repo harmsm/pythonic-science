{
 "cells": [
  {
   "cell_type": "markdown",
   "metadata": {},
   "source": [
    "## Parsing and manipulating PDB files"
   ]
  },
  {
   "cell_type": "code",
   "execution_count": null,
   "metadata": {},
   "outputs": [],
   "source": [
    "%matplotlib inline\n",
    "from matplotlib import pyplot as plt\n",
    "\n",
    "import numpy as np\n",
    "import pandas as pd"
   ]
  },
  {
   "cell_type": "markdown",
   "metadata": {},
   "source": [
    "+ Two important pieces of metadata for a crystal structure are $R$ and $R_{free}$.  These measure how well the crystallographic model fits experimental data used to generate the model.  The location of these numbers are indicated in pdb files by the following text.\n",
    "\n",
    "  ```\n",
    "  REMARK   3   R VALUE     (WORKING + TEST SET)\n",
    "\n",
    "  and \n",
    "\n",
    "  REMARK   3   FREE R VALUE\n",
    "  ```\n",
    "\n",
    "  Write a function called **get_R** that takes a string specifying a pdb file as an argument, extracts $R$ and $R_{free}$ from the file, and then returns them as a tuple of floats `(R,R_free)`.\n",
    "\n"
   ]
  },
  {
   "cell_type": "code",
   "execution_count": null,
   "metadata": {},
   "outputs": [],
   "source": []
  },
  {
   "cell_type": "markdown",
   "metadata": {},
   "source": [
    "+ Create a histogram of all $C_{\\alpha,i} \\rightarrow C_{\\alpha,i+1}$ distances in the pdb file `1stn.pdb`, where $i$ counts along residues in the sequence.  (This means the distance between $C_{\\alpha}$ for residue 1 and 2, then for 2 and 3, etc.)"
   ]
  },
  {
   "cell_type": "code",
   "execution_count": null,
   "metadata": {},
   "outputs": [],
   "source": []
  },
  {
   "cell_type": "markdown",
   "metadata": {},
   "source": [
    "Write a function called **center_of_mass** that calculates the center of mass for a pdb file.  It should take a string specifying the pdb file as an argument and return a tuple with the center of mass in (x, y, z).  The center of mass is the average of the coordinates of the protein atoms, weighted by their mass.  The type of each atom is given on the far right of each line of the pdb.  You should use the following masses for the atoms:\n",
    "\n",
    "|atom | mass     |\n",
    "|-----|----------|\n",
    "| `C` | 12.0107  |\n",
    "| `N` | 14.0067  |\n",
    "| `O` | 15.9994  |\n",
    "| `S` | 32.065   |"
   ]
  },
  {
   "cell_type": "code",
   "execution_count": null,
   "metadata": {},
   "outputs": [],
   "source": []
  },
  {
   "cell_type": "markdown",
   "metadata": {},
   "source": [
    "The `HN` hydrogen atom attached to the `N` is often not in crystal structures because it is invisible in the diffraction experiment used to make the model.   Unfortunately, the `HN` atom coordinates are necessary to calculate things like structural biologists care about like [Ramachandran plots](https://en.wikipedia.org/wiki/Ramachandran_plot).  The missing atom is indicated with the red arrow in the figure below.\n",
    "\n",
    "![hn_definition](https://raw.githubusercontent.com/harmsm/pythonic-science/master/labs/03_molecular-structure/NH_proton.png)\n",
    "\n",
    "The function below (`calc_hn`) calculates the position of the `HN` atom for the $i^{th}$ residue given the coordinates of the $(i-1)^{th}$ `C` atom (red sphere in picture), the $i^{th}$ `N` atom (cyan sphere in picture) and the $i^{th}$ `CA` atom (cyan sphere in picture).  Write a program that takes a pdb file as input, calculates the position of each `HN` atom, and then writes out a new pdb file with the `HN` atoms written out as lines just after the `N` atoms.  This means the line encoding the position of `N` for residue 46 would be followed by a new line encoding the position of `HN` for residue 46.  You do not have to renumber the atoms in the file (but bonus points if you do).  "
   ]
  },
  {
   "cell_type": "code",
   "execution_count": null,
   "metadata": {},
   "outputs": [],
   "source": [
    "\n",
    "def calc_hn(CO_i_minus_one,N_i,CA_i):\n",
    "    \"\"\"\n",
    "    Calculate the position of the HN proton. \n",
    "    \n",
    "    CO_i_minus_one: array of x,y,z coordinates for *previous* \n",
    "                    \"C\" atom\n",
    "    N_i: array of x,y,z coordinates for current \"N\" atom.\n",
    "    CA_i: array of x,y,z coordinates for current \"CA\" atom.\n",
    "    \n",
    "    Returns: x,y,z array for HN proton.\n",
    "    \"\"\"\n",
    "    \n",
    "    # Center on N\n",
    "    Ca = CA_i           - N_i\n",
    "    Co = CO_i_minus_one - N_i\n",
    "\n",
    "    # Get length of relevant vectors\n",
    "    length_HN = 1.02\n",
    "    length_Ca = np.sqrt(np.sum(Ca**2))\n",
    "    length_Co = np.sqrt(np.sum(Co**2))\n",
    "\n",
    "    # Dot product of H and C\n",
    "    H_dot_C = length_HN*length_Co*np.cos(119.0*np.pi/180.0)\n",
    "\n",
    "    xo = Co[0]\n",
    "    yo = Co[1]\n",
    "    zo = Co[2]\n",
    "\n",
    "    xa = Ca[0]\n",
    "    ya = Ca[1]\n",
    "    za = Ca[2]\n",
    "    \n",
    "    Q = length_Ca/length_Co\n",
    "    A = (xo + Q*xa)\n",
    "    B = (yo + Q*ya)\n",
    "    C = (zo + Q*za)\n",
    "\n",
    "    xh = H_dot_C/(xo + yo*B/A + zo*C/A)\n",
    "    yh = xh*B/A\n",
    "    zh = xh*C/A\n",
    "\n",
    "    # Translate HN back to original coordinates\n",
    "    HN_i = np.array((xh,yh,zh)) + N_i\n",
    "    \n",
    "    return HN_i\n",
    "    \n"
   ]
  },
  {
   "cell_type": "code",
   "execution_count": null,
   "metadata": {},
   "outputs": [],
   "source": []
  },
  {
   "cell_type": "code",
   "execution_count": null,
   "metadata": {},
   "outputs": [],
   "source": []
  }
 ],
 "metadata": {
  "kernelspec": {
   "display_name": "Python 3",
   "language": "python",
   "name": "python3"
  },
  "language_info": {
   "codemirror_mode": {
    "name": "ipython",
    "version": 3
   },
   "file_extension": ".py",
   "mimetype": "text/x-python",
   "name": "python",
   "nbconvert_exporter": "python",
   "pygments_lexer": "ipython3",
   "version": "3.7.3"
  }
 },
 "nbformat": 4,
 "nbformat_minor": 1
}
