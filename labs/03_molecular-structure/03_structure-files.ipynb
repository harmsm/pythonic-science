{
 "cells": [
  {
   "cell_type": "markdown",
   "metadata": {},
   "source": [
    "## Parsing and manipulating PDB files"
   ]
  },
  {
   "cell_type": "code",
   "execution_count": null,
   "metadata": {
    "collapsed": true
   },
   "outputs": [],
   "source": [
    "%matplotlib inline\n",
    "from matplotlib import pyplot as plt\n",
    "\n",
    "import numpy as np\n",
    "import pandas as pd"
   ]
  },
  {
   "cell_type": "markdown",
   "metadata": {},
   "source": [
    "+ Two important pieces of metadata for a crystal structure are $R$ and $R_{free}$.  These measure how well the crystallographic model fits experimental data used to generate the model.  The location of these numbers are indicated in pdb files by the following text.\n",
    "\n",
    "  ```\n",
    "  R VALUE          (WORKING SET, NO CUTOFF)\n",
    "\n",
    "  and \n",
    "\n",
    "  FREE R VALUE                  (NO CUTOFF)\n",
    "  ```\n",
    "\n",
    "  Write a function called **get_R** that takes a string specifying a pdb file as an argument, extracts $R$ and $R_{free}$ from the file, and then returns them as a tuple of floats `(R,R_free)`.\n",
    "\n"
   ]
  },
  {
   "cell_type": "code",
   "execution_count": null,
   "metadata": {
    "collapsed": true
   },
   "outputs": [],
   "source": []
  },
  {
   "cell_type": "code",
   "execution_count": null,
   "metadata": {
    "collapsed": true
   },
   "outputs": [],
   "source": [
    "R_values = get_R(\"1g9u.pdb\")\n",
    "assert round(R_values[0],2) == 0.17\n",
    "assert round(R_values[1],2) == 0.23"
   ]
  },
  {
   "cell_type": "markdown",
   "metadata": {},
   "source": [
    "+ Create a histogram of all $C_{\\alpha,i} \\rightarrow C_{\\alpha,i+1}$ distances in the pdb file `1stn.pdb`, where $i$ counts along residues in the sequence.  (This means the distance between $C_{\\alpha}$ for residue 1 and 2, then for 2 and 3, etc.)"
   ]
  },
  {
   "cell_type": "code",
   "execution_count": null,
   "metadata": {
    "collapsed": true
   },
   "outputs": [],
   "source": []
  },
  {
   "cell_type": "markdown",
   "metadata": {},
   "source": [
    "Write a function called **center_of_mass** that calculates the center of mass for a pdb file.  It should take a string specifying the pdb file as an argument and return a tuple with the center of mass in (x, y, z).  The center of mass is the average of the coordinates of the protein atoms, weighted by their mass.  The type of each atom is given on the far right of each line of the pdb.  You should use the following masses for the atoms:\n",
    "\n",
    "|atom | mass     |\n",
    "|-----|----------|\n",
    "| `C` | 12.0107  |\n",
    "| `N` | 14.0067  |\n",
    "| `O` | 15.9994  |\n",
    "| `S` | 32.065   |"
   ]
  },
  {
   "cell_type": "code",
   "execution_count": null,
   "metadata": {
    "collapsed": true
   },
   "outputs": [],
   "source": []
  },
  {
   "cell_type": "code",
   "execution_count": null,
   "metadata": {},
   "outputs": [],
   "source": [
    "com = center_of_mass(\"1stn.pdb\")\n",
    "assert round(com[0],1) == 4.8\n",
    "assert round(com[1],1) == 22.4\n",
    "assert round(com[2],1) == 14.5"
   ]
  },
  {
   "cell_type": "markdown",
   "metadata": {},
   "source": [
    "The `HN` hydrogen atom attached to the `N` is often not in crystal structures because it is invisible in the diffraction experiment used to make the model.   Unfortunately, the `HN` atom coordinates are necessary to calculate things like structural biologists care about like [Ramachandran plots](https://en.wikipedia.org/wiki/Ramachandran_plot).  The missing atom is indicated with the red arrow in the figure below.\n",
    "\n",
    "![hn_definition](https://raw.githubusercontent.com/harmsm/pythonic-science/master/labs/03_molecular-structure/NH_proton.png)\n",
    "\n",
    "Write a program that adds missing `HN` atoms and writes them out to a pdb file. \n",
    "   + `HN` will be in the plane formed by `C` atom from the *previous* resiude and the `N` and `CA` from its residue. (gray plane in image).  \n",
    "   + `{\"C\",\"N\",\"HN\"}` forms an angle of $119\\ ^{\\circ}$.\n",
    "   + `{\"CA\",\"N\",\"HN\"}` forms an angle of $119\\ ^{\\circ}$.\n",
    "   + The distance between `N` and `HN` is 1.02 angstrom.\n",
    "    "
   ]
  },
  {
   "cell_type": "code",
   "execution_count": null,
   "metadata": {
    "collapsed": true
   },
   "outputs": [],
   "source": []
  }
 ],
 "metadata": {
  "kernelspec": {
   "display_name": "Python 3",
   "language": "python",
   "name": "python3"
  },
  "language_info": {
   "codemirror_mode": {
    "name": "ipython",
    "version": 3
   },
   "file_extension": ".py",
   "mimetype": "text/x-python",
   "name": "python",
   "nbconvert_exporter": "python",
   "pygments_lexer": "ipython3",
   "version": "3.6.6"
  }
 },
 "nbformat": 4,
 "nbformat_minor": 1
}
