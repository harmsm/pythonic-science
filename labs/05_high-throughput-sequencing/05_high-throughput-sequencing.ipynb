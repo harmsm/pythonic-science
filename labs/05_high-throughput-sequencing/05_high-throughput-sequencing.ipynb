{
 "cells": [
  {
   "cell_type": "code",
   "execution_count": null,
   "metadata": {
    "collapsed": true
   },
   "outputs": [],
   "source": [
    "%matplotlib inline \n",
    "import numpy as np\n",
    "from matplotlib import pyplot as plt\n",
    "\n",
    "import gzip"
   ]
  },
  {
   "cell_type": "markdown",
   "metadata": {},
   "source": [
    "## Binding Specificity by High-Throughput Sequencing"
   ]
  },
  {
   "cell_type": "markdown",
   "metadata": {},
   "source": [
    "You are studying a protein that binds to DNA. You want to know \"rules\" that the protein uses to recognize DNA it binds to.  You create a library of DNA sequences that looks like the following:\n",
    "\n",
    "`TCGATAACCxxxxxxCCAGACCTCAC`\n",
    "\n",
    "where `x` is any one of the bases `A`, `C`, `T`, or `G`.  You take a sample of this library and then use high-throughput sequencing to characterize it.  These results are in `naive.fastq.gz`.  You then treat the library with your protein, pulling out sequences that bind to your protein.  You sequence the sequences that were pulled out.  These results are in `experimental.fastq.gz`. \n",
    "\n",
    "Write code to read in these libraries.  It should:\n",
    "+ Read the sequences from each library.\n",
    "+ Remove any sequence with a `Q` score for *any* base < 15.\n",
    "+ Make sure that the sequence has the form `TCGATAACCxxxxxxCCAGACCTCAC`.  (Some sequences might have extra bases inserted or deleted).\n",
    "+ Return the counts for each `xxxxxx` sequence within the library."
   ]
  },
  {
   "cell_type": "code",
   "execution_count": null,
   "metadata": {},
   "outputs": [],
   "source": []
  },
  {
   "cell_type": "markdown",
   "metadata": {},
   "source": [
    "Calculate the enrichment of each base at each position in the `xxxxxx` region.  The enrichment should be a 6x4 matrix, where each row is a position (1-6) and each column is a a base (ACTG).  For each position, enrichment is defined as the change in the relative frequency of a base at that position. For example, the enrichment for base `A` at site 1 is:\n",
    "\n",
    "$$E_{A,1} = \\frac{f_{A,1,experimental}}{f_{A,1,naive}}$$\n",
    "\n",
    "where $f_{A,1} = \\frac{C_{A,1}}{C_{all,1}}$.  $C_{A,1}$ is the number of times $A$ is seen at site one; $C_{all,1}$ is the number of times *any* base is seen at site 1.  \n",
    "\n",
    "According to your analysis, what are the *rules* for recognition at sites 1-6?\n"
   ]
  },
  {
   "cell_type": "code",
   "execution_count": null,
   "metadata": {
    "collapsed": true
   },
   "outputs": [],
   "source": []
  }
 ],
 "metadata": {
  "kernelspec": {
   "display_name": "Python 3",
   "language": "python",
   "name": "python3"
  },
  "language_info": {
   "codemirror_mode": {
    "name": "ipython",
    "version": 3
   },
   "file_extension": ".py",
   "mimetype": "text/x-python",
   "name": "python",
   "nbconvert_exporter": "python",
   "pygments_lexer": "ipython3",
   "version": "3.7.3"
  }
 },
 "nbformat": 4,
 "nbformat_minor": 1
}
