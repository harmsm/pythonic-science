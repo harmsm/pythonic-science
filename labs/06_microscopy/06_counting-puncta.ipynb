{
 "cells": [
  {
   "cell_type": "code",
   "execution_count": 10,
   "metadata": {
    "collapsed": true
   },
   "outputs": [],
   "source": [
    "%matplotlib inline\n",
    "from matplotlib import pyplot as plt\n",
    "import numpy as np"
   ]
  },
  {
   "cell_type": "markdown",
   "metadata": {},
   "source": [
    "## Fluorescence Microscopy\n",
    "Diana Libuda's lab studies DNA double-strand break repair in *C. elegans* worms.  She uses microscopy to image the worms, using a specific fluoresence marker of double strand breaks. We are going to analyze some of her data and ask whether there is a difference in the number of double strand breaks between her control and experimental conditions. \n",
    "\n",
    "For each condition, we have a collection of images that are *slices* through a worm.  If you flip through them quickly, you pass through the worm.  These images are stitched into short videos below."
   ]
  },
  {
   "cell_type": "code",
   "execution_count": 4,
   "metadata": {
    "collapsed": false,
    "scrolled": false
   },
   "outputs": [
    {
     "data": {
      "text/html": [
       "<video width=\"600\" height=\"600\" controls loop autoplay>\n",
       "  <source src=\"videos/control.mp4\" type=\"video/mp4\">\n",
       "</video>"
      ],
      "text/plain": [
       "<IPython.core.display.HTML object>"
      ]
     },
     "metadata": {},
     "output_type": "display_data"
    }
   ],
   "source": [
    "%%HTML\n",
    "<video width=\"600\" height=\"600\" controls loop autoplay>\n",
    "  <source src=\"videos/control.mp4\" type=\"video/mp4\">\n",
    "</video>"
   ]
  },
  {
   "cell_type": "code",
   "execution_count": 5,
   "metadata": {
    "collapsed": false
   },
   "outputs": [
    {
     "data": {
      "text/html": [
       "<video width=\"600\" height=\"600\" controls loop autoplay>\n",
       "  <source src=\"videos/experimental.mp4\" type=\"video/mp4\">\n",
       "</video>"
      ],
      "text/plain": [
       "<IPython.core.display.HTML object>"
      ]
     },
     "metadata": {},
     "output_type": "display_data"
    }
   ],
   "source": [
    "%%HTML\n",
    "<video width=\"600\" height=\"600\" controls loop autoplay>\n",
    "  <source src=\"videos/experimental.mp4\" type=\"video/mp4\">\n",
    "</video>"
   ]
  },
  {
   "cell_type": "markdown",
   "metadata": {},
   "source": [
    "### Task\n",
    "The red globs are chromosomes, the green dots are double strand breaks.  Your goal is to count the number of double strand breaks per chromosome under these treatment conditions.\n",
    "\n",
    "+ Choose 5 chromsomes from the control worm and 5 chromosomes from the experimental worm.\n",
    "+ Count the number of bright green puncta on each chromosome.\n",
    "+ Report the mean and standard deviation of the number of puncta per chromosome between your 5 control and 5 experimental chromosomes.  \n",
    "+ Are the differences you observed statistically significant? (A t-test seems like a reasonable way to go about this...)\n",
    "\n",
    "### Hints:\n",
    "\n",
    "+ Define a circular mask for each chromosome you want to study.\n",
    "+ The *same* puncta can occur across multiple slices, but not all puncta appear in all slices.  (This is a 3D chromosome blob).  You'll have to make sure you don't count the same point twice.  \n",
    "\n",
    "### Data\n",
    "The collection of images are available here:\n",
    "\n",
    "http://spock.uoregon.edu/worm-images.zip\n",
    "\n",
    "If you unzip the directory, it has the following files and directories.\n",
    "\n",
    "+ worm-images\n",
    "    + experimental\n",
    "        + z000.png\n",
    "        + z001.png\n",
    "        + ...\n",
    "        + z066.png\n",
    "    + control\n",
    "        + z011.png\n",
    "        + z012.png\n",
    "        + ...\n",
    "        + z054.png\n",
    "        \n",
    "+ Each `zxxx.png` file is a slice.  \n",
    "+ The R, G, and B channels have different information:\n",
    "    + R: chromosome marker\n",
    "    + G: double-strand break marker\n",
    "    + B: nucleus marker"
   ]
  },
  {
   "cell_type": "code",
   "execution_count": null,
   "metadata": {
    "collapsed": true
   },
   "outputs": [],
   "source": []
  }
 ],
 "metadata": {
  "kernelspec": {
   "display_name": "Python 3",
   "language": "python",
   "name": "python3"
  },
  "language_info": {
   "codemirror_mode": {
    "name": "ipython",
    "version": 3
   },
   "file_extension": ".py",
   "mimetype": "text/x-python",
   "name": "python",
   "nbconvert_exporter": "python",
   "pygments_lexer": "ipython3",
   "version": "3.5.2"
  }
 },
 "nbformat": 4,
 "nbformat_minor": 1
}
