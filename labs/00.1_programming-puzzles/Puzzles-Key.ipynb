{
 "cells": [
  {
   "cell_type": "code",
   "execution_count": 2,
   "metadata": {
    "collapsed": true
   },
   "outputs": [],
   "source": [
    "%matplotlib inline\n",
    "import numpy as np\n",
    "from matplotlib import pyplot as plt"
   ]
  },
  {
   "cell_type": "markdown",
   "metadata": {},
   "source": [
    "# PART I"
   ]
  },
  {
   "cell_type": "markdown",
   "metadata": {},
   "source": [
    "## Simple functions\n",
    "\n",
    "+ Write a function called **`palindrome`** that will take any list and decide whether or not is a palindrome. (A palindrome is something that is the same read forwards or backwards like \"RACECAR\").  "
   ]
  },
  {
   "cell_type": "code",
   "execution_count": 12,
   "metadata": {
    "collapsed": false
   },
   "outputs": [],
   "source": [
    "import copy\n",
    "\n",
    "def palindrome(a_list):\n",
    "    \"\"\"\n",
    "    Determine whether a list is a palindrome.\n",
    "    \"\"\"\n",
    "    \n",
    "    a_list = list(a_list)\n",
    "    \n",
    "    b_list = copy.deepcopy(a_list)\n",
    "    b_list.reverse()\n",
    "    for i in range(len(a_list)):\n",
    "        if a_list[i] != b_list[i]:\n",
    "            return False\n",
    "    \n",
    "    return True\n",
    "    "
   ]
  },
  {
   "cell_type": "code",
   "execution_count": 14,
   "metadata": {
    "collapsed": false
   },
   "outputs": [],
   "source": [
    "# do not erase this cell; it is for the autograder\n",
    "assert palindrome(\"RACECAR\") == True\n",
    "assert palindrome(\"TEST\") == False"
   ]
  },
  {
   "cell_type": "markdown",
   "metadata": {},
   "source": [
    "+ Write a function called **`prime`** that determines whether an integer number is prime. (Hint: you might want to use the [modulo operator](http://stackoverflow.com/questions/4432208/how-does-work-in-python))"
   ]
  },
  {
   "cell_type": "code",
   "execution_count": 17,
   "metadata": {
    "collapsed": false,
    "scrolled": true
   },
   "outputs": [],
   "source": [
    "def prime(number):\n",
    "    \"\"\"\n",
    "    Determine if the number is prime.\n",
    "    \"\"\"\n",
    "    \n",
    "    # Start at 2 because a prime is only divisible by 1 and itself. \n",
    "    for i in range(2,number):\n",
    "        if number % i == 0:\n",
    "            return False\n",
    "    return True"
   ]
  },
  {
   "cell_type": "code",
   "execution_count": 16,
   "metadata": {
    "collapsed": false
   },
   "outputs": [],
   "source": [
    "# do not erase this cell; it is for the autograder\n",
    "assert prime(20) == False\n",
    "assert prime(42979) == True"
   ]
  },
  {
   "cell_type": "markdown",
   "metadata": {},
   "source": [
    " + Write a function called **`reverse_complement`** that returns the reverse complement of any DNA sequence."
   ]
  },
  {
   "cell_type": "code",
   "execution_count": 22,
   "metadata": {
    "collapsed": true
   },
   "outputs": [],
   "source": [
    "def reverse_complement(dna):\n",
    "    \n",
    "    converter = {\"A\":\"T\",\n",
    "                 \"T\":\"A\",\n",
    "                 \"C\":\"G\",\n",
    "                 \"G\":\"C\"}\n",
    "    \n",
    "    output = []\n",
    "    for d in dna:\n",
    "        output.append(converter[d])\n",
    "    output.reverse()\n",
    "    \n",
    "    return \"\".join(output)"
   ]
  },
  {
   "cell_type": "code",
   "execution_count": 23,
   "metadata": {
    "collapsed": false
   },
   "outputs": [],
   "source": [
    "# do not erase this cell; it is for the autograder\n",
    "assert reverse_complement(\"ATGCTCGAA\") == \"TTCGAGCAT\""
   ]
  },
  {
   "cell_type": "markdown",
   "metadata": {},
   "source": [
    "## Battle Royale\n",
    "\n",
    "In a distant, war-torn land, there are 10 castles. There are two warlords: you and your archenemy. Each castle has its own strategic value for a would-be conqueror. Specifically, the castles are worth 1, 2, 3, …, 9, and 10 victory points. You and your enemy each have 100 soldiers to distribute, any way you like, to fight at any of the 10 castles. Whoever sends more soldiers to a given castle conquers that castle and wins its victory points. If you each send the same number of troops, you split the points. You don’t know what distribution of forces your enemy has chosen until the battles begin. Whoever wins the most points wins the war.\n",
    "\n",
    "Create a list called **battle_plan** that distributes your 100 soldiers among the 10 castles. Once I receive all your battle plans, I’ll adjudicate all the possible one-on-one matchups. Whoever wins the most wars wins the battle royale and is crowned king or queen of, er, something.\n",
    "\n",
    "Source: [fivethirtyeight](https://fivethirtyeight.com/features/can-you-rule-riddler-nation/)"
   ]
  },
  {
   "cell_type": "code",
   "execution_count": 24,
   "metadata": {
    "collapsed": false
   },
   "outputs": [
    {
     "name": "stderr",
     "output_type": "stream",
     "text": [
      "/usr/local/lib/python3.5/dist-packages/ipykernel/__main__.py:72: FutureWarning: comparison to `None` will result in an elementwise object comparison in the future.\n"
     ]
    },
    {
     "name": "stdout",
     "output_type": "stream",
     "text": [
      "0.013245 (2, 3, 4, 5, 7, 9, 11, 15, 19, 25)\n",
      "0.006795 (2, 2, 3, 4, 6, 8, 11, 15, 21, 28)\n",
      "0.005909 (2, 3, 4, 5, 6, 8, 11, 15, 20, 26)\n",
      "0.005212 (3, 4, 5, 6, 7, 9, 11, 14, 18, 23)\n",
      "0.005007 (3, 3, 4, 5, 7, 9, 11, 15, 19, 24)\n",
      "0.004255 (1, 2, 3, 4, 5, 8, 11, 15, 21, 30)\n",
      "0.003758 (2, 3, 3, 5, 6, 8, 11, 15, 20, 27)\n",
      "0.003208 (2, 2, 3, 4, 6, 8, 11, 15, 20, 29)\n",
      "0.00281 (2, 3, 4, 5, 6, 9, 11, 15, 20, 25)\n",
      "0.002448 (1, 2, 3, 4, 5, 7, 11, 15, 22, 30)\n",
      "0.002399 (4, 5, 6, 7, 8, 10, 11, 14, 16, 19)\n",
      "0.002391 (3, 4, 5, 6, 8, 9, 12, 14, 17, 22)\n",
      "0.002345 (1, 2, 3, 4, 6, 8, 11, 15, 21, 29)\n",
      "0.002242 (1, 1, 2, 3, 4, 6, 10, 15, 23, 35)\n",
      "0.002038 (1, 2, 2, 3, 5, 7, 10, 15, 22, 33)\n",
      "0.001687 (4, 4, 5, 6, 8, 9, 12, 14, 17, 21)\n",
      "0.001454 (3, 3, 4, 6, 7, 9, 11, 15, 18, 24)\n",
      "0.001398 (1, 1, 2, 3, 4, 7, 10, 15, 23, 34)\n",
      "0.001396 (1, 1, 2, 3, 5, 7, 10, 15, 22, 34)\n",
      "0.001324 (1, 2, 2, 4, 5, 7, 11, 15, 22, 31)\n",
      "0.001291 (1, 1, 1, 2, 4, 6, 9, 15, 24, 37)\n",
      "0.001212 (3, 3, 4, 6, 7, 9, 11, 15, 19, 23)\n",
      "0.001155 (11, 5, 1, 0, 2, 7, 13, 18, 21, 22)\n",
      "0.001085 (5, 6, 7, 8, 9, 10, 11, 13, 15, 16)\n",
      "0.001046 (4, 5, 5, 7, 8, 10, 12, 14, 17, 18)\n",
      "0.000972 (4, 5, 6, 7, 8, 10, 12, 14, 17, 17)\n",
      "0.00094 (2, 2, 3, 5, 6, 8, 11, 15, 20, 28)\n",
      "0.000892 (3, 4, 5, 6, 8, 9, 11, 14, 18, 22)\n",
      "0.000876 (4, 4, 5, 7, 8, 10, 12, 14, 17, 19)\n",
      "0.00083 (3, 4, 5, 6, 8, 9, 11, 14, 17, 23)\n",
      "0.000786 (3, 4, 4, 6, 7, 9, 11, 14, 18, 24)\n",
      "0.000738 (0, 1, 1, 2, 3, 5, 9, 15, 24, 40)\n",
      "0.000714 (4, 5, 6, 7, 8, 10, 11, 13, 16, 20)\n",
      "0.000681 (8, 8, 9, 9, 10, 10, 11, 11, 12, 12)\n",
      "0.000647 (6, 6, 7, 8, 9, 10, 11, 13, 14, 16)\n",
      "0.000623 (7, 7, 8, 9, 9, 10, 11, 12, 13, 14)\n",
      "0.000619 (0, 1, 1, 2, 3, 5, 8, 14, 24, 42)\n",
      "0.000596 (0, 0, 1, 1, 2, 4, 7, 13, 25, 47)\n",
      "0.00058 (9, 11, 6, 14, 3, 17, 1, 18, 0, 21)\n",
      "0.000549 (4, 4, 5, 6, 8, 10, 12, 14, 17, 20)\n",
      "0.000515 (9, 11, 6, 15, 3, 17, 1, 19, 0, 19)\n",
      "0.000501 (0, 0, 1, 1, 2, 4, 8, 14, 25, 45)\n",
      "0.00048 (10, 5, 1, 0, 3, 8, 14, 19, 21, 19)\n",
      "0.000469 (0, 0, 0, 1, 1, 3, 6, 12, 25, 52)\n",
      "0.000464 (6, 7, 7, 8, 9, 10, 11, 12, 14, 16)\n",
      "0.000456 (0, 1, 1, 2, 3, 5, 9, 14, 24, 41)\n",
      "0.000451 (12, 6, 2, 0, 1, 5, 11, 17, 22, 24)\n",
      "0.000448 (10, 4, 1, 0, 3, 9, 15, 19, 20, 19)\n",
      "0.000435 (5, 6, 6, 7, 9, 10, 11, 13, 15, 18)\n",
      "0.000434 (10, 4, 0, 1, 6, 13, 18, 20, 17, 11)\n"
     ]
    }
   ],
   "source": [
    "def head_to_head(a_soldiers,b_soldiers):\n",
    "    \"\"\"\n",
    "    Calculate the score for a battle between the a and b soldier\n",
    "    arrangements. \n",
    "    \"\"\"\n",
    "    \n",
    "    points = np.arange(1,11)\n",
    "    \n",
    "    a = np.array(a_soldiers)\n",
    "    b = np.array(b_soldiers)\n",
    "    \n",
    "    a_points = np.sum(points[np.array(a > b)])\n",
    "    b_points = np.sum(points[np.array(a < b)])\n",
    "    \n",
    "    if a_points > b_points:\n",
    "        return a_soldiers\n",
    "    elif a_points < b_points:\n",
    "        return b_soldiers\n",
    "    else:\n",
    "        return None\n",
    "\n",
    "    \n",
    "def gen_armies(army_type=None):\n",
    "    \"\"\"\n",
    "    Randomly generate armies by a variety of strategies.  \n",
    "    \"\"\"\n",
    "    \n",
    "    # Generate initial weights\n",
    "    if army_type == \"exp\":\n",
    "        armies = np.exp(np.random.random()*np.arange(10))\n",
    "    elif army_type == \"flat\":\n",
    "        armies = np.random.rand(10)\n",
    "    elif army_type == \"flat_sorted\":\n",
    "        armies = np.random.rand(10)\n",
    "        armies.sort()\n",
    "    elif army_type == \"comb\":\n",
    "        armies = np.sin(np.arange(10)/np.random.random()) + 1        \n",
    "    else:\n",
    "        armies = np.ones(10)\n",
    "    \n",
    "    # round off so armies now have 100 soldiers, distributed \n",
    "    # according to weights above\n",
    "    armies = armies/np.sum(armies)        \n",
    "    armies = np.round(armies*100,0)\n",
    "    \n",
    "    # Trim to deal with numerical errors in round call above\n",
    "    if np.sum(armies) > 100:\n",
    "        armies[9] = armies[9] - (np.sum(armies) - 100)\n",
    "    if np.sum(armies) < 100:\n",
    "        armies[9] = armies[9] + (100 - np.sum(armies))\n",
    "        \n",
    "    return np.array(armies,dtype=np.int)\n",
    "\n",
    "strategies = [\"exp\",\"flat\",\"flat_sorted\",\"comb\"]\n",
    "\n",
    "# Create initial winner\n",
    "winner_strategy = np.random.choice(strategies)\n",
    "winner = gen_armies(winner_strategy)\n",
    "\n",
    "# Run 1,000,000 times \n",
    "out = {}\n",
    "for i in range(1000000):\n",
    "    \n",
    "    # Create a challenger\n",
    "    challenger_strategy = np.random.choice(strategies)\n",
    "    challenger = gen_armies(challenger_strategy)\n",
    "\n",
    "    # Do battle\n",
    "    result = head_to_head(winner,challenger)\n",
    "    \n",
    "    # Replace winner if there is a new winner\n",
    "    if result != None:\n",
    "        if not np.array_equal(winner,result):\n",
    "            winner = np.copy(result)\n",
    "            winner_strategy = challenger_strategy\n",
    "    \n",
    "    # Count the winners\n",
    "    try:\n",
    "        out[tuple(winner)] += 1\n",
    "    except KeyError:\n",
    "        out[tuple(winner)] = 1\n",
    "\n",
    "\n",
    "# Sort output and print out top 50 most common solutions\n",
    "sorted_out = [(out[k],k) for k in out.keys()]\n",
    "sorted_out.sort(reverse=True)\n",
    "for i in range(50):\n",
    "    print(sorted_out[i][0]/1000000,sorted_out[i][1])\n",
    "    \n",
    "    \n",
    "battle_plan = sorted_out[0][1]"
   ]
  },
  {
   "cell_type": "code",
   "execution_count": null,
   "metadata": {
    "collapsed": false
   },
   "outputs": [],
   "source": [
    "assert len(battle_plan) == 10\n",
    "assert sum(battle_plan) == 100"
   ]
  },
  {
   "cell_type": "markdown",
   "metadata": {},
   "source": [
    "## Deadly Board Game\n",
    "\n",
    "While traveling in the Kingdom of Arbitraria, you are accused of a heinous crime. Arbitraria decides who’s guilty or innocent not through a court system, but a board game. It’s played on a simple board: a track with sequential spaces numbered from 0 to 9. The zero space is marked “start,” and your token is placed on it. You are handed a fair six-sided die and three coins. You are allowed to place the coins on three different (nonzero) spaces. Once placed, the coins may not be moved.\n",
    "\n",
    "After placing the three coins, you roll the dice and move your token forward the appropriate number of spaces. If, after moving the token, it lands on a space with a coin on it, you are freed. If not, you roll again and continue moving forward. If your token passes all three coins without landing on one, you are executed. On which three spaces should you place the coins to maximize your chances of survival?\n",
    "\n",
    "Create a list called **coin_placement** that has the three spaces on which you should place the coins.\n",
    "\n",
    "Hint: you might want to check out `random.choice` [here](https://docs.python.org/3/library/random.html) and `itertools.combinations` [here](https://docs.python.org/2/library/itertools.html).\n",
    "\n",
    "Source: [fivethirtyeight](https://fivethirtyeight.com/features/can-you-survive-this-deadly-board-game/)"
   ]
  },
  {
   "cell_type": "code",
   "execution_count": null,
   "metadata": {
    "collapsed": false
   },
   "outputs": [],
   "source": [
    "import random\n",
    "import itertools\n",
    "\n",
    "def simulate(coin_positions):\n",
    "    \"\"\"\n",
    "    Simulate playing the game.  Roll a fair dice until you either\n",
    "    land on a coin in coin_positions (alive, return 1) or pass \n",
    "    all of the coins (dead, return 0).\n",
    "    \"\"\"\n",
    "    \n",
    "    # current position\n",
    "    current = 0\n",
    "    \n",
    "    # Roll until you pass the last coin\n",
    "    while current < coin_positions[-1]:\n",
    "        current = current + random.choice([1,2,3,4,5,6])\n",
    "        \n",
    "        # If you've landed on a coin, you win -- return 1\n",
    "        if current in coin_positions:\n",
    "            return 1\n",
    "        \n",
    "    return 0\n",
    "            \n",
    "# Iterate over all possible 3-coin placements\n",
    "possibilities = []\n",
    "for c in itertools.combinations(list(range(1,10)),3):\n",
    "    \n",
    "    # Simulate rolling the dice 100,000 times for that placement,\n",
    "    # recording the number of times you did not die as \"score\"\n",
    "    score = 0\n",
    "    for i in range(100000):\n",
    "        score = score + simulate(c)\n",
    "        \n",
    "    # Record the result as a tuple (score,coin_arrangement)\n",
    "    possibilities.append((score,c))\n",
    "\n",
    "# Sort the results with the highest score first\n",
    "possibilities.sort(reverse=True)\n",
    "\n",
    "# Print the top 10\n",
    "print(possibilities[:10])"
   ]
  },
  {
   "cell_type": "code",
   "execution_count": 9,
   "metadata": {
    "collapsed": false
   },
   "outputs": [],
   "source": [
    "# do not erase this cell; it is for the autograder\n",
    "assert len(coin_placement) == 3\n",
    "assert coin_placement[0] == 4\n",
    "assert coin_placement[1] == 5\n",
    "assert coin_placement[2] == 6\n"
   ]
  },
  {
   "cell_type": "markdown",
   "metadata": {},
   "source": [
    "# PART II\n",
    "\n",
    "### Goals\n",
    "\n",
    "#### Conceptual\n",
    " + Understand how docs are built in python for figuring out how functions and other programing elements \"on-the-fly.\"\n",
    " + Learn that it's okay to mess around to figure out a program.\n",
    "\n",
    "#### Skill\n",
    " + Be able to figure out the parts of a library you need to be successful given that library and its documentation.\n",
    " + Learn how to land a rocket in an emergency."
   ]
  },
  {
   "cell_type": "markdown",
   "metadata": {},
   "source": [
    "## Rocket Landing\n",
    "\n",
    "You are in a rocket falling from 1000 m above the surface of an alien world.  You need to program the computer to fire the thrusters to land safely. Fortunately the rocket is controlled by python.  Unfortunately, you don't have a software manual. You'll have to figure out how to land the rocket given only the code itself. \n",
    "\n",
    "### Objective\n",
    "\n",
    "Modify the code below so the rocket lands safely.  We'll test your approach using a fresh version of `rocket.Rocket`, so no [hacking the rocket to win](https://en.wikipedia.org/wiki/Kobayashi_Maru).  \n",
    "\n",
    "### Hints\n",
    "\n",
    "#### API:\n",
    " + Tab-complete and `help()` are your friends\n",
    " + Feel free to mess around and explore the code\n",
    "\n",
    "#### Rocket:\n",
    " + Graphs will help a lot\n",
    " + Use different thrust levels for different altitudes\n",
    " + Make the amount of thrust depend on the velocity"
   ]
  },
  {
   "cell_type": "code",
   "execution_count": 27,
   "metadata": {
    "collapsed": false
   },
   "outputs": [
    {
     "name": "stdout",
     "output_type": "stream",
     "text": [
      "LANDED: Houston, the Eagle has Landed!\n"
     ]
    },
    {
     "data": {
      "image/png": "[encoded data removed]",
      "text/plain": [
       "<matplotlib.figure.Figure at 0x7f5110d4c3c8>"
      ]
     },
     "metadata": {},
     "output_type": "display_data"
    }
   ],
   "source": [
    "import rocket\n",
    "\n",
    "%matplotlib inline\n",
    "from matplotlib import pyplot as plt\n",
    "\n",
    "R = rocket.Rocket()\n",
    "while R.alive and not R.landed:\n",
    "    \n",
    "    R.y_thruster = np.abs(R.velocity[1])*1.08\n",
    "    plt.plot(R.time,R.position[1],'ro')\n",
    "        \n",
    "    R.update()\n",
    "    \n"
   ]
  },
  {
   "cell_type": "code",
   "execution_count": 26,
   "metadata": {
    "collapsed": false
   },
   "outputs": [
    {
     "name": "stdout",
     "output_type": "stream",
     "text": [
      "LANDED: Houston, the Eagle has Landed!\n"
     ]
    },
    {
     "data": {
      "image/png": "[encoded data removed]",
      "text/plain": [
       "<matplotlib.figure.Figure at 0x7f50f975d208>"
      ]
     },
     "metadata": {},
     "output_type": "display_data"
    }
   ],
   "source": [
    "import rocket\n",
    "\n",
    "%matplotlib inline\n",
    "from matplotlib import pyplot as plt\n",
    "\n",
    "R = rocket.Rocket()\n",
    "while R.alive and not R.landed:\n",
    "    \n",
    "    #R.y_thruster = np.abs(R.velocity[1])*1.08\n",
    "    \n",
    "    ## High altitude regime\n",
    "    if R.position[1] > 100:\n",
    "        R.y_thruster = (2-R.velocity[1])\n",
    "    else:\n",
    "        R.y_thruster = (0.5-R.velocity[1])\n",
    "\n",
    "    plt.plot(R.time,R.position[1],'ro')\n",
    "        \n",
    "    R.update()\n",
    "    \n",
    "\n"
   ]
  },
  {
   "cell_type": "code",
   "execution_count": 25,
   "metadata": {
    "collapsed": false
   },
   "outputs": [
    {
     "name": "stdout",
     "output_type": "stream",
     "text": [
      "LANDED: Hopefully you have enough fuel to go home.\n"
     ]
    },
    {
     "data": {
      "image/png": "[encoded data removed]",
      "text/plain": [
       "<matplotlib.figure.Figure at 0x7f50f282c780>"
      ]
     },
     "metadata": {},
     "output_type": "display_data"
    }
   ],
   "source": [
    "R = rocket.Rocket()\n",
    "while R.alive and not R.landed:\n",
    "    \n",
    "    R.y_thruster = 100\n",
    "    if R.position[1] < 800:\n",
    "        R.y_thruster = 30\n",
    "\n",
    "    if R.position[1] < 700:\n",
    "        R.y_thruster = 25\n",
    "    \n",
    "    if R.position[1] < 600:\n",
    "        R.y_thruster = 12.\n",
    "    \n",
    "    if R.position[1] < 500:\n",
    "        R.y_thruster = 10.\n",
    "    \n",
    "    if R.position[1] < 400:\n",
    "        R.y_thruster = 6.\n",
    "    \n",
    "    if R.position[1] < 250:\n",
    "        R.y_thruster = 3.\n",
    "    \n",
    "    if R.position[1] < 180:\n",
    "        R.y_thruster = 1.5\n",
    "    \n",
    "    if R.position[1] < 10:\n",
    "        R.y_thruster = .9\n",
    "        \n",
    "    if R.position[1] < 2:\n",
    "        R.y_thruster = 0.6\n",
    "    \n",
    "    plt.plot(R.time,R.position[1],'ro')\n",
    "    \n",
    "    R.update()\n",
    "    \n",
    "    \n",
    "    "
   ]
  },
  {
   "cell_type": "code",
   "execution_count": null,
   "metadata": {
    "collapsed": false
   },
   "outputs": [],
   "source": [
    "# do not erase this cell; it is for the autograder\n",
    "assert R.alive and R.landed"
   ]
  }
 ],
 "metadata": {
  "kernelspec": {
   "display_name": "Python 3",
   "language": "python",
   "name": "python3"
  },
  "language_info": {
   "codemirror_mode": {
    "name": "ipython",
    "version": 3
   },
   "file_extension": ".py",
   "mimetype": "text/x-python",
   "name": "python",
   "nbconvert_exporter": "python",
   "pygments_lexer": "ipython3",
   "version": "3.5.2"
  }
 },
 "nbformat": 4,
 "nbformat_minor": 1
}
