{
 "cells": [
  {
   "cell_type": "markdown",
   "metadata": {},
   "source": [
    "# Machine Learning"
   ]
  },
  {
   "cell_type": "code",
   "execution_count": null,
   "metadata": {
    "collapsed": true
   },
   "outputs": [],
   "source": [
    "%matplotlib inline\n",
    "from matplotlib import pyplot as plt\n",
    "import numpy as np\n",
    "\n",
    "from sklearn import datasets\n",
    "from sklearn.decomposition import PCA"
   ]
  },
  {
   "cell_type": "markdown",
   "metadata": {},
   "source": [
    "## Protein structures\n",
    "+ Write a function that loads in the `x`, `y`, and `z` coordinates for all `CA` atoms from a pdb file."
   ]
  },
  {
   "cell_type": "code",
   "execution_count": null,
   "metadata": {
    "collapsed": true
   },
   "outputs": [],
   "source": [
    "def load_pdb(pdb_file):\n",
    "    \n",
    "    f = open(pdb_file,'r')\n",
    "    lines = f.readlines()\n",
    "    f.close()\n",
    "    \n",
    "    all_coord = []\n",
    "    for l in lines:\n",
    "        if l[0:4] == \"ATOM\" and l[13:16] == \"CA \":\n",
    "            coord = [float(l[(30 + i*8):(38 + i*8)]) for i in range(3)]\n",
    "            all_coord.append(coord)\n",
    "            \n",
    "    return np.array(all_coord)"
   ]
  },
  {
   "cell_type": "markdown",
   "metadata": {},
   "source": [
    "+ Load in the pdb files `homolog-1.pdb` and `homolog-2.pdb` into separate numpy arrays."
   ]
  },
  {
   "cell_type": "code",
   "execution_count": null,
   "metadata": {
    "collapsed": true
   },
   "outputs": [],
   "source": [
    "hm1 = load_pdb(\"homolog-1.pdb\")\n",
    "hm2 = load_pdb(\"homolog-2.pdb\")"
   ]
  },
  {
   "cell_type": "markdown",
   "metadata": {},
   "source": [
    "+ Plot `x` vs. `y` for the two proteins on the same graph."
   ]
  },
  {
   "cell_type": "code",
   "execution_count": null,
   "metadata": {
    "collapsed": false
   },
   "outputs": [],
   "source": [
    "plt.plot(hm1[:,0],hm1[:,1])\n",
    "plt.plot(hm2[:,0],hm2[:,1])"
   ]
  },
  {
   "cell_type": "markdown",
   "metadata": {},
   "source": [
    "+ Perform a principle component analysis using `sklearn.decomposition.PCA` on each individual set of coordinates and then transform them individually onto their PCA axes."
   ]
  },
  {
   "cell_type": "code",
   "execution_count": null,
   "metadata": {
    "collapsed": true
   },
   "outputs": [],
   "source": [
    "pca1 = PCA(n_components=3)\n",
    "pca1_fit = pca1.fit(hm1)\n",
    "t_hm1 = pca1_fit.transform(hm1)\n",
    "\n",
    "pca2 = PCA(n_components=3)\n",
    "pca2_fit = pca2.fit(hm2)\n",
    "t_hm2 = pca2_fit.transform(hm2)"
   ]
  },
  {
   "cell_type": "markdown",
   "metadata": {},
   "source": [
    "+ Plot the transformed coordinates on top of one another."
   ]
  },
  {
   "cell_type": "code",
   "execution_count": null,
   "metadata": {
    "collapsed": false
   },
   "outputs": [],
   "source": [
    "plt.plot(t_hm1[:,0],t_hm1[:,1])\n",
    "plt.plot(t_hm2[:,0],t_hm2[:,1])"
   ]
  },
  {
   "cell_type": "markdown",
   "metadata": {},
   "source": [
    "+ Can you explain the result?"
   ]
  },
  {
   "cell_type": "code",
   "execution_count": null,
   "metadata": {
    "collapsed": false,
    "scrolled": true
   },
   "outputs": [],
   "source": []
  },
  {
   "cell_type": "markdown",
   "metadata": {},
   "source": [
    "## Worm Population\n",
    "\n",
    "You are studying a mixed population of *C. elegans* worms and would like to figure out how many classes of worms are present.  You measure 10 different features (things like worm length, fecundity, etc.) for 50,000 individual.  You have a dataset in `pca_dataset.csv`, with the parameters in columns the top (numbered `0` to `9`) and the individuals in rows.  \n",
    "\n",
    "+ Use a PCA analysis to decide how many worm classes you can discriminate. **NOTE: Make sure you exclude the worm number (leftmost column) from the analysis**"
   ]
  },
  {
   "cell_type": "code",
   "execution_count": null,
   "metadata": {
    "collapsed": false
   },
   "outputs": [],
   "source": [
    "import pandas\n",
    "\n",
    "X = np.array(pandas.read_csv(\"pca_dataset.csv\"))[:,1:]\n",
    "\n",
    "ndim = 10\n",
    "bound = 50\n",
    "num_data_sets = 5 ### THEY WON'T KNOW THIS, but it makes it pretty\n",
    "\n",
    "\n",
    "pca = PCA(n_components=10)\n",
    "pca_fit = pca.fit(X)\n",
    "Q = pca_fit.transform(X)\n",
    "\n",
    "a = X.shape[0]/num_data_sets\n",
    "for i in range(X.shape[1]):\n",
    "    plt.plot(X[(i*a):((i+1)*a),3],\n",
    "             X[(i*a):((i+1)*a),4],\"o\")\n",
    "plt.xlim((-bound,bound))\n",
    "plt.ylim((-bound,bound))\n",
    "plt.show()\n",
    "\n",
    "for i in range(Q.shape[1]):\n",
    "    plt.plot(Q[(i*a):((i+1)*a),0],\n",
    "             Q[(i*a):((i+1)*a),1],\"o\")\n",
    "plt.xlim((-bound,bound))\n",
    "plt.ylim((-bound,bound))\n",
    "plt.show()"
   ]
  },
  {
   "cell_type": "markdown",
   "metadata": {},
   "source": [
    "+ How many principle components do you have to look at to capture 90% of the variation in the worm features?"
   ]
  },
  {
   "cell_type": "code",
   "execution_count": null,
   "metadata": {
    "collapsed": false
   },
   "outputs": [],
   "source": [
    "pca_fit.explained_variance_ratio_"
   ]
  },
  {
   "cell_type": "markdown",
   "metadata": {},
   "source": [
    "+ You measure the features of a new worm that was sent to the lab.  It's feature set is below.  Does this worm belong to one of your classes?  If so, which one?"
   ]
  },
  {
   "cell_type": "code",
   "execution_count": null,
   "metadata": {
    "collapsed": true
   },
   "outputs": [],
   "source": [
    "new_worm = [  3.6515213, -4.08529885, -6.88944367, 14.65016314, -11.77903051,\n",
    "              0.8635548, -6.81508493, -5.45759634, 10.27459884, -5.07160515]"
   ]
  },
  {
   "cell_type": "code",
   "execution_count": null,
   "metadata": {
    "collapsed": false
   },
   "outputs": [],
   "source": [
    "for i in range(Q.shape[1]):\n",
    "    plt.plot(Q[(i*a):((i+1)*a),0],\n",
    "             Q[(i*a):((i+1)*a),1],\"o\")\n",
    "    \n",
    "new_col = pca_fit.transform(new_worm)\n",
    "print(new_col)\n",
    "plt.plot(new_col[0,0],new_col[0,1],\"+\",color=\"yellow\")\n",
    "    \n",
    "plt.xlim((-bound,bound))\n",
    "plt.ylim((-bound,bound))\n",
    "plt.show()"
   ]
  },
  {
   "cell_type": "markdown",
   "metadata": {},
   "source": [
    "###  Generate Worm Population"
   ]
  },
  {
   "cell_type": "code",
   "execution_count": null,
   "metadata": {
    "collapsed": true
   },
   "outputs": [],
   "source": [
    "import scipy.ndimage\n",
    "\n",
    "def gen_samples(ndim=10,nsam=10000,num_data_sets=4,scale=5):\n",
    "    \n",
    "    out = []\n",
    "    for i in range(num_data_sets):\n",
    "        cov = np.abs(np.random.randn(ndim,ndim))\n",
    "        np.fill_diagonal(cov,0.0)\n",
    "        cov = scipy.ndimage.interpolation.rotate(cov,angle=180*np.random.random(),\n",
    "                                                 reshape=False,mode='reflect')\n",
    "    \n",
    "        out.append(np.dot(np.random.normal(size=(nsam,cov.shape[0])),cov) + np.random.normal(size=ndim)*scale)\n",
    "    return np.concatenate(out)\n",
    "\n",
    "\n",
    "ndim = 10\n",
    "num_data_sets = 5\n",
    "scale = 10\n",
    "bound = 50\n",
    "\n",
    "X = gen_samples(ndim=ndim,num_data_sets=num_data_sets,scale=scale)\n",
    "\n",
    "import pandas\n",
    "y = pandas.DataFrame(X)\n",
    "y.to_csv(\"junk.csv\")"
   ]
  },
  {
   "cell_type": "markdown",
   "metadata": {},
   "source": [
    "### Generate random worm"
   ]
  },
  {
   "cell_type": "code",
   "execution_count": null,
   "metadata": {
    "collapsed": false
   },
   "outputs": [],
   "source": [
    "f = open(\"pca_dataset.csv\")\n",
    "lines = f.readlines()\n",
    "f.close()\n",
    "\n",
    "to_take = int(np.random.random()*50000)\n",
    "col = np.array([float(c) for c in lines[to_take].split(\",\")[1:]])\n",
    "print(col)"
   ]
  }
 ],
 "metadata": {
  "kernelspec": {
   "display_name": "Python 3",
   "language": "python",
   "name": "python3"
  },
  "language_info": {
   "codemirror_mode": {
    "name": "ipython",
    "version": 3
   },
   "file_extension": ".py",
   "mimetype": "text/x-python",
   "name": "python",
   "nbconvert_exporter": "python",
   "pygments_lexer": "ipython3",
   "version": "3.5.2"
  }
 },
 "nbformat": 4,
 "nbformat_minor": 1
}
