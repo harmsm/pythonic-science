{
 "cells": [
  {
   "cell_type": "code",
   "execution_count": 1,
   "metadata": {
    "collapsed": false,
    "scrolled": true,
    "slideshow": {
     "slide_type": "slide"
    }
   },
   "outputs": [
    {
     "data": {
      "text/html": [
       "<iframe width=\"560\" height=\"315\" src=\"https://www.youtube.com/embed/zV949buXdSg?autoplay=1&loop=1\" frameborder=\"0\" allowfullscreen></iframe>"
      ],
      "text/plain": [
       "<IPython.core.display.HTML object>"
      ]
     },
     "execution_count": 1,
     "metadata": {},
     "output_type": "execute_result"
    }
   ],
   "source": [
    "from IPython.display import HTML\n",
    "HTML('<iframe width=\"560\" height=\"315\" src=\"https://www.youtube.com/embed/zV949buXdSg?autoplay=1&loop=1\" frameborder=\"0\" allowfullscreen></iframe>')"
   ]
  },
  {
   "cell_type": "markdown",
   "metadata": {
    "slideshow": {
     "slide_type": "slide"
    }
   },
   "source": [
    "### Structures like these are encoded in \"PDB\" files"
   ]
  },
  {
   "cell_type": "markdown",
   "metadata": {
    "slideshow": {
     "slide_type": "slide"
    }
   },
   "source": [
    "![pdb_atoms](https://raw.githubusercontent.com/harmsm/pythonic-science/master/chapters/03_dealing-with-files/data/pdb_header.png)"
   ]
  },
  {
   "cell_type": "markdown",
   "metadata": {
    "slideshow": {
     "slide_type": "slide"
    }
   },
   "source": [
    "![pdb_atoms](https://raw.githubusercontent.com/harmsm/pythonic-science/master/chapters/03_dealing-with-files/data/pdb_atoms.png)"
   ]
  },
  {
   "cell_type": "markdown",
   "metadata": {
    "slideshow": {
     "slide_type": "slide"
    }
   },
   "source": [
    "### How can we parse a complicted file like this one?"
   ]
  },
  {
   "cell_type": "code",
   "execution_count": 2,
   "metadata": {
    "collapsed": false,
    "scrolled": false,
    "slideshow": {
     "slide_type": "slide"
    }
   },
   "outputs": [
    {
     "data": {
      "text/html": [
       "<div>\n",
       "<table border=\"1\" class=\"dataframe\">\n",
       "  <thead>\n",
       "    <tr style=\"text-align: right;\">\n",
       "      <th></th>\n",
       "      <th>HEADER    HYDROLASE(PHOSPHORIC DIESTER)           17-FEB-93   1STN</th>\n",
       "    </tr>\n",
       "  </thead>\n",
       "  <tbody>\n",
       "    <tr>\n",
       "      <th>0</th>\n",
       "      <td>TITLE     THE CRYSTAL STRUCTURE OF STAPHYLOCOC...</td>\n",
       "    </tr>\n",
       "    <tr>\n",
       "      <th>1</th>\n",
       "      <td>TITLE    2 1.7 ANGSTROMS RESOLUTION           ...</td>\n",
       "    </tr>\n",
       "    <tr>\n",
       "      <th>2</th>\n",
       "      <td>COMPND    MOL_ID: 1;                          ...</td>\n",
       "    </tr>\n",
       "    <tr>\n",
       "      <th>3</th>\n",
       "      <td>COMPND   2 MOLECULE: STAPHYLOCOCCAL NUCLEASE; ...</td>\n",
       "    </tr>\n",
       "    <tr>\n",
       "      <th>4</th>\n",
       "      <td>COMPND   3 CHAIN: A;                          ...</td>\n",
       "    </tr>\n",
       "    <tr>\n",
       "      <th>5</th>\n",
       "      <td>COMPND   4 EC: 3.1.31.1;                      ...</td>\n",
       "    </tr>\n",
       "    <tr>\n",
       "      <th>6</th>\n",
       "      <td>COMPND   5 ENGINEERED: YES                    ...</td>\n",
       "    </tr>\n",
       "    <tr>\n",
       "      <th>7</th>\n",
       "      <td>SOURCE    MOL_ID: 1;                          ...</td>\n",
       "    </tr>\n",
       "    <tr>\n",
       "      <th>8</th>\n",
       "      <td>SOURCE   2 ORGANISM_SCIENTIFIC: STAPHYLOCOCCUS...</td>\n",
       "    </tr>\n",
       "    <tr>\n",
       "      <th>9</th>\n",
       "      <td>SOURCE   3 ORGANISM_TAXID: 1280               ...</td>\n",
       "    </tr>\n",
       "    <tr>\n",
       "      <th>10</th>\n",
       "      <td>KEYWDS    HYDROLASE(PHOSPHORIC DIESTER)       ...</td>\n",
       "    </tr>\n",
       "    <tr>\n",
       "      <th>11</th>\n",
       "      <td>EXPDTA    X-RAY DIFFRACTION                   ...</td>\n",
       "    </tr>\n",
       "    <tr>\n",
       "      <th>12</th>\n",
       "      <td>AUTHOR    T.R.HYNES,R.O.FOX                   ...</td>\n",
       "    </tr>\n",
       "    <tr>\n",
       "      <th>13</th>\n",
       "      <td>REVDAT   3   24-FEB-09 1STN    1       VERSN  ...</td>\n",
       "    </tr>\n",
       "    <tr>\n",
       "      <th>14</th>\n",
       "      <td>REVDAT   2   01-APR-03 1STN    1       JRNL   ...</td>\n",
       "    </tr>\n",
       "    <tr>\n",
       "      <th>15</th>\n",
       "      <td>REVDAT   1   31-JUL-94 1STN    0              ...</td>\n",
       "    </tr>\n",
       "    <tr>\n",
       "      <th>16</th>\n",
       "      <td>JRNL        AUTH   T.R.HYNES,R.O.FOX          ...</td>\n",
       "    </tr>\n",
       "    <tr>\n",
       "      <th>17</th>\n",
       "      <td>JRNL        TITL   THE CRYSTAL STRUCTURE OF ST...</td>\n",
       "    </tr>\n",
       "    <tr>\n",
       "      <th>18</th>\n",
       "      <td>JRNL        TITL 2 REFINED AT 1.7 A RESOLUTION...</td>\n",
       "    </tr>\n",
       "    <tr>\n",
       "      <th>19</th>\n",
       "      <td>JRNL        REF    PROTEINS                   ...</td>\n",
       "    </tr>\n",
       "    <tr>\n",
       "      <th>20</th>\n",
       "      <td>JRNL        REFN                   ISSN 0887-3...</td>\n",
       "    </tr>\n",
       "    <tr>\n",
       "      <th>21</th>\n",
       "      <td>JRNL        PMID   1896431                    ...</td>\n",
       "    </tr>\n",
       "    <tr>\n",
       "      <th>22</th>\n",
       "      <td>JRNL        DOI    10.1002/PROT.340100203     ...</td>\n",
       "    </tr>\n",
       "    <tr>\n",
       "      <th>23</th>\n",
       "      <td>REMARK   1                                    ...</td>\n",
       "    </tr>\n",
       "    <tr>\n",
       "      <th>24</th>\n",
       "      <td>REMARK   1 REFERENCE 1                        ...</td>\n",
       "    </tr>\n",
       "    <tr>\n",
       "      <th>25</th>\n",
       "      <td>REMARK   1  AUTH   T.R.HYNES,R.A.KAUTZ,M.A.GOO...</td>\n",
       "    </tr>\n",
       "    <tr>\n",
       "      <th>26</th>\n",
       "      <td>REMARK   1  TITL   TRANSFER OF A BETA-TURN STR...</td>\n",
       "    </tr>\n",
       "    <tr>\n",
       "      <th>27</th>\n",
       "      <td>REMARK   1  TITL 2 CONTEXT                    ...</td>\n",
       "    </tr>\n",
       "    <tr>\n",
       "      <th>28</th>\n",
       "      <td>REMARK   1  REF    NATURE                     ...</td>\n",
       "    </tr>\n",
       "    <tr>\n",
       "      <th>29</th>\n",
       "      <td>REMARK   1  REFN                   ISSN 0028-0...</td>\n",
       "    </tr>\n",
       "    <tr>\n",
       "      <th>...</th>\n",
       "      <td>...</td>\n",
       "    </tr>\n",
       "    <tr>\n",
       "      <th>1468</th>\n",
       "      <td>HETATM 1148  O   HOH A 257      -1.140  35.534...</td>\n",
       "    </tr>\n",
       "    <tr>\n",
       "      <th>1469</th>\n",
       "      <td>HETATM 1149  O   HOH A 258      -0.407  26.283...</td>\n",
       "    </tr>\n",
       "    <tr>\n",
       "      <th>1470</th>\n",
       "      <td>HETATM 1150  O   HOH A 259      -5.780  26.293...</td>\n",
       "    </tr>\n",
       "    <tr>\n",
       "      <th>1471</th>\n",
       "      <td>HETATM 1151  O   HOH A 260      -7.787  17.043...</td>\n",
       "    </tr>\n",
       "    <tr>\n",
       "      <th>1472</th>\n",
       "      <td>HETATM 1152  O   HOH A 261      -8.447  18.012...</td>\n",
       "    </tr>\n",
       "    <tr>\n",
       "      <th>1473</th>\n",
       "      <td>HETATM 1153  O   HOH A 262     -10.695  23.722...</td>\n",
       "    </tr>\n",
       "    <tr>\n",
       "      <th>1474</th>\n",
       "      <td>HETATM 1154  O   HOH A 263     -12.384  23.983...</td>\n",
       "    </tr>\n",
       "    <tr>\n",
       "      <th>1475</th>\n",
       "      <td>HETATM 1155  O   HOH A 264     -13.337  17.069...</td>\n",
       "    </tr>\n",
       "    <tr>\n",
       "      <th>1476</th>\n",
       "      <td>HETATM 1156  O   HOH A 266      -4.256  11.264...</td>\n",
       "    </tr>\n",
       "    <tr>\n",
       "      <th>1477</th>\n",
       "      <td>HETATM 1157  O   HOH A 268      -1.614  38.141...</td>\n",
       "    </tr>\n",
       "    <tr>\n",
       "      <th>1478</th>\n",
       "      <td>HETATM 1158  O   HOH A 269      16.019  35.386...</td>\n",
       "    </tr>\n",
       "    <tr>\n",
       "      <th>1479</th>\n",
       "      <td>HETATM 1159  O   HOH A 270      -2.931  12.470...</td>\n",
       "    </tr>\n",
       "    <tr>\n",
       "      <th>1480</th>\n",
       "      <td>HETATM 1160  O   HOH A 271      -1.408  29.532...</td>\n",
       "    </tr>\n",
       "    <tr>\n",
       "      <th>1481</th>\n",
       "      <td>HETATM 1161  O   HOH A 272      -3.445  26.522...</td>\n",
       "    </tr>\n",
       "    <tr>\n",
       "      <th>1482</th>\n",
       "      <td>HETATM 1162  O   HOH A 273      -1.396  32.841...</td>\n",
       "    </tr>\n",
       "    <tr>\n",
       "      <th>1483</th>\n",
       "      <td>HETATM 1163  O   HOH A 274       4.593  40.576...</td>\n",
       "    </tr>\n",
       "    <tr>\n",
       "      <th>1484</th>\n",
       "      <td>HETATM 1164  O   HOH A 275      15.477  16.437...</td>\n",
       "    </tr>\n",
       "    <tr>\n",
       "      <th>1485</th>\n",
       "      <td>HETATM 1165  O   HOH A 277      -1.308   4.849...</td>\n",
       "    </tr>\n",
       "    <tr>\n",
       "      <th>1486</th>\n",
       "      <td>HETATM 1166  O   HOH A 278      19.453  19.739...</td>\n",
       "    </tr>\n",
       "    <tr>\n",
       "      <th>1487</th>\n",
       "      <td>HETATM 1167  O   HOH A 282       4.220  22.492...</td>\n",
       "    </tr>\n",
       "    <tr>\n",
       "      <th>1488</th>\n",
       "      <td>HETATM 1168  O   HOH A 288     -13.260  21.971...</td>\n",
       "    </tr>\n",
       "    <tr>\n",
       "      <th>1489</th>\n",
       "      <td>HETATM 1169  O   HOH A 290     -12.514  20.441...</td>\n",
       "    </tr>\n",
       "    <tr>\n",
       "      <th>1490</th>\n",
       "      <td>HETATM 1170  O   HOH A 291       1.579  20.013...</td>\n",
       "    </tr>\n",
       "    <tr>\n",
       "      <th>1491</th>\n",
       "      <td>HETATM 1171  O   HOH A 293     -12.939  22.716...</td>\n",
       "    </tr>\n",
       "    <tr>\n",
       "      <th>1492</th>\n",
       "      <td>HETATM 1172  O   HOH A 294      -1.246  31.951...</td>\n",
       "    </tr>\n",
       "    <tr>\n",
       "      <th>1493</th>\n",
       "      <td>HETATM 1173  O   HOH A 295      -0.008  11.458...</td>\n",
       "    </tr>\n",
       "    <tr>\n",
       "      <th>1494</th>\n",
       "      <td>HETATM 1174  O   HOH A 298       4.548   6.606...</td>\n",
       "    </tr>\n",
       "    <tr>\n",
       "      <th>1495</th>\n",
       "      <td>HETATM 1175  O   HOH A 300       4.737  13.224...</td>\n",
       "    </tr>\n",
       "    <tr>\n",
       "      <th>1496</th>\n",
       "      <td>MASTER      267    1    0    3    6   10    0 ...</td>\n",
       "    </tr>\n",
       "    <tr>\n",
       "      <th>1497</th>\n",
       "      <td>END                                           ...</td>\n",
       "    </tr>\n",
       "  </tbody>\n",
       "</table>\n",
       "<p>1498 rows × 1 columns</p>\n",
       "</div>"
      ],
      "text/plain": [
       "     HEADER    HYDROLASE(PHOSPHORIC DIESTER)           17-FEB-93   1STN              \n",
       "0     TITLE     THE CRYSTAL STRUCTURE OF STAPHYLOCOC...                              \n",
       "1     TITLE    2 1.7 ANGSTROMS RESOLUTION           ...                              \n",
       "2     COMPND    MOL_ID: 1;                          ...                              \n",
       "3     COMPND   2 MOLECULE: STAPHYLOCOCCAL NUCLEASE; ...                              \n",
       "4     COMPND   3 CHAIN: A;                          ...                              \n",
       "5     COMPND   4 EC: 3.1.31.1;                      ...                              \n",
       "6     COMPND   5 ENGINEERED: YES                    ...                              \n",
       "7     SOURCE    MOL_ID: 1;                          ...                              \n",
       "8     SOURCE   2 ORGANISM_SCIENTIFIC: STAPHYLOCOCCUS...                              \n",
       "9     SOURCE   3 ORGANISM_TAXID: 1280               ...                              \n",
       "10    KEYWDS    HYDROLASE(PHOSPHORIC DIESTER)       ...                              \n",
       "11    EXPDTA    X-RAY DIFFRACTION                   ...                              \n",
       "12    AUTHOR    T.R.HYNES,R.O.FOX                   ...                              \n",
       "13    REVDAT   3   24-FEB-09 1STN    1       VERSN  ...                              \n",
       "14    REVDAT   2   01-APR-03 1STN    1       JRNL   ...                              \n",
       "15    REVDAT   1   31-JUL-94 1STN    0              ...                              \n",
       "16    JRNL        AUTH   T.R.HYNES,R.O.FOX          ...                              \n",
       "17    JRNL        TITL   THE CRYSTAL STRUCTURE OF ST...                              \n",
       "18    JRNL        TITL 2 REFINED AT 1.7 A RESOLUTION...                              \n",
       "19    JRNL        REF    PROTEINS                   ...                              \n",
       "20    JRNL        REFN                   ISSN 0887-3...                              \n",
       "21    JRNL        PMID   1896431                    ...                              \n",
       "22    JRNL        DOI    10.1002/PROT.340100203     ...                              \n",
       "23    REMARK   1                                    ...                              \n",
       "24    REMARK   1 REFERENCE 1                        ...                              \n",
       "25    REMARK   1  AUTH   T.R.HYNES,R.A.KAUTZ,M.A.GOO...                              \n",
       "26    REMARK   1  TITL   TRANSFER OF A BETA-TURN STR...                              \n",
       "27    REMARK   1  TITL 2 CONTEXT                    ...                              \n",
       "28    REMARK   1  REF    NATURE                     ...                              \n",
       "29    REMARK   1  REFN                   ISSN 0028-0...                              \n",
       "...                                                 ...                              \n",
       "1468  HETATM 1148  O   HOH A 257      -1.140  35.534...                              \n",
       "1469  HETATM 1149  O   HOH A 258      -0.407  26.283...                              \n",
       "1470  HETATM 1150  O   HOH A 259      -5.780  26.293...                              \n",
       "1471  HETATM 1151  O   HOH A 260      -7.787  17.043...                              \n",
       "1472  HETATM 1152  O   HOH A 261      -8.447  18.012...                              \n",
       "1473  HETATM 1153  O   HOH A 262     -10.695  23.722...                              \n",
       "1474  HETATM 1154  O   HOH A 263     -12.384  23.983...                              \n",
       "1475  HETATM 1155  O   HOH A 264     -13.337  17.069...                              \n",
       "1476  HETATM 1156  O   HOH A 266      -4.256  11.264...                              \n",
       "1477  HETATM 1157  O   HOH A 268      -1.614  38.141...                              \n",
       "1478  HETATM 1158  O   HOH A 269      16.019  35.386...                              \n",
       "1479  HETATM 1159  O   HOH A 270      -2.931  12.470...                              \n",
       "1480  HETATM 1160  O   HOH A 271      -1.408  29.532...                              \n",
       "1481  HETATM 1161  O   HOH A 272      -3.445  26.522...                              \n",
       "1482  HETATM 1162  O   HOH A 273      -1.396  32.841...                              \n",
       "1483  HETATM 1163  O   HOH A 274       4.593  40.576...                              \n",
       "1484  HETATM 1164  O   HOH A 275      15.477  16.437...                              \n",
       "1485  HETATM 1165  O   HOH A 277      -1.308   4.849...                              \n",
       "1486  HETATM 1166  O   HOH A 278      19.453  19.739...                              \n",
       "1487  HETATM 1167  O   HOH A 282       4.220  22.492...                              \n",
       "1488  HETATM 1168  O   HOH A 288     -13.260  21.971...                              \n",
       "1489  HETATM 1169  O   HOH A 290     -12.514  20.441...                              \n",
       "1490  HETATM 1170  O   HOH A 291       1.579  20.013...                              \n",
       "1491  HETATM 1171  O   HOH A 293     -12.939  22.716...                              \n",
       "1492  HETATM 1172  O   HOH A 294      -1.246  31.951...                              \n",
       "1493  HETATM 1173  O   HOH A 295      -0.008  11.458...                              \n",
       "1494  HETATM 1174  O   HOH A 298       4.548   6.606...                              \n",
       "1495  HETATM 1175  O   HOH A 300       4.737  13.224...                              \n",
       "1496  MASTER      267    1    0    3    6   10    0 ...                              \n",
       "1497  END                                           ...                              \n",
       "\n",
       "[1498 rows x 1 columns]"
      ]
     },
     "execution_count": 2,
     "metadata": {},
     "output_type": "execute_result"
    }
   ],
   "source": [
    "import pandas as pd\n",
    "pd.read_table(\"data/1stn.pdb\")"
   ]
  },
  {
   "cell_type": "markdown",
   "metadata": {
    "slideshow": {
     "slide_type": "slide"
    }
   },
   "source": [
    "### We can do better by manually *parsing* the file."
   ]
  },
  {
   "cell_type": "markdown",
   "metadata": {
    "slideshow": {
     "slide_type": "-"
    }
   },
   "source": [
    "### Our test file\n",
    "![pdb_atoms](https://raw.githubusercontent.com/harmsm/pythonic-science/master/chapters/03_dealing-with-files/data/test-file.png)"
   ]
  },
  {
   "cell_type": "markdown",
   "metadata": {
    "slideshow": {
     "slide_type": "slide"
    }
   },
   "source": [
    "### Predict what this will print"
   ]
  },
  {
   "cell_type": "code",
   "execution_count": 8,
   "metadata": {
    "collapsed": false,
    "scrolled": true,
    "slideshow": {
     "slide_type": "-"
    }
   },
   "outputs": [
    {
     "name": "stdout",
     "output_type": "stream",
     "text": [
      "['Line 1 of a file\\n', 'It can be a very long line -- up to a basically unlimited number of characters.\\n', '\\n', 'just passed a blank line!\\n', '1.5 2 20,32|5']\n"
     ]
    }
   ],
   "source": [
    "f = open(\"test-file.txt\")\n",
    "print(f.readlines())\n",
    "f.close()"
   ]
  },
  {
   "cell_type": "markdown",
   "metadata": {
    "slideshow": {
     "slide_type": "slide"
    }
   },
   "source": [
    "### Predict what this will print"
   ]
  },
  {
   "cell_type": "code",
   "execution_count": 9,
   "metadata": {
    "collapsed": false,
    "slideshow": {
     "slide_type": "-"
    }
   },
   "outputs": [
    {
     "name": "stdout",
     "output_type": "stream",
     "text": [
      "Line 1 of a file\n",
      "\n",
      "It can be a very long line -- up to a basically unlimited number of characters.\n",
      "\n",
      "\n",
      "\n",
      "just passed a blank line!\n",
      "\n",
      "1.5 2 20,32|5\n"
     ]
    }
   ],
   "source": [
    "f = open(\"test-file.txt\")\n",
    "for line in f.readlines():\n",
    "    print(line)\n",
    "f.close()"
   ]
  },
  {
   "cell_type": "markdown",
   "metadata": {
    "slideshow": {
     "slide_type": "slide"
    }
   },
   "source": [
    "### Predict what this will print"
   ]
  },
  {
   "cell_type": "code",
   "execution_count": 12,
   "metadata": {
    "collapsed": false,
    "slideshow": {
     "slide_type": "-"
    }
   },
   "outputs": [
    {
     "name": "stdout",
     "output_type": "stream",
     "text": [
      "Line 1 of a file\n",
      "It can be a very long line -- up to a basically unlimited number of characters.\n",
      "\n",
      "just passed a blank line!\n",
      "1.5 2 20,32|5"
     ]
    }
   ],
   "source": [
    "f = open(\"test-file.txt\")\n",
    "for line in f.readlines():\n",
    "    print(line,end=\"\")\n",
    "f.close()"
   ]
  },
  {
   "cell_type": "markdown",
   "metadata": {
    "slideshow": {
     "slide_type": "slide"
    }
   },
   "source": [
    "### Basic file reading operations: \n",
    "\n",
    "+ Open a file for reading: `f = open(SOME_FILE_NAME)` \n",
    "+ Read lines of file sequentially: `f.readlines()`\n",
    "+ Read one line from the file: `f.readline()`\n",
    "+ Read the whole file into a string: `f.read()`\n",
    "+ Close the file: `f.close()`\n",
    "\n"
   ]
  },
  {
   "cell_type": "markdown",
   "metadata": {
    "slideshow": {
     "slide_type": "slide"
    }
   },
   "source": [
    "### Now what do we do with each line?"
   ]
  },
  {
   "cell_type": "markdown",
   "metadata": {
    "slideshow": {
     "slide_type": "slide"
    }
   },
   "source": [
    "### Predict what the following program will do"
   ]
  },
  {
   "cell_type": "code",
   "execution_count": 13,
   "metadata": {
    "collapsed": false,
    "slideshow": {
     "slide_type": "-"
    }
   },
   "outputs": [
    {
     "name": "stdout",
     "output_type": "stream",
     "text": [
      "['Line', '1', 'of', 'a', 'file']\n",
      "['It', 'can', 'be', 'a', 'very', 'long', 'line', '--', 'up', 'to', 'a', 'basically', 'unlimited', 'number', 'of', 'characters.']\n",
      "[]\n",
      "['just', 'passed', 'a', 'blank', 'line!']\n",
      "['1.5', '2', '20,32|5']\n"
     ]
    }
   ],
   "source": [
    "f = open(\"test-file.txt\")\n",
    "for line in f.readlines():\n",
    "    print(line.split())\n",
    "f.close()   "
   ]
  },
  {
   "cell_type": "markdown",
   "metadata": {
    "slideshow": {
     "slide_type": "slide"
    }
   },
   "source": [
    "### Predict what the following program will do"
   ]
  },
  {
   "cell_type": "code",
   "execution_count": 14,
   "metadata": {
    "collapsed": false,
    "slideshow": {
     "slide_type": "-"
    }
   },
   "outputs": [
    {
     "name": "stdout",
     "output_type": "stream",
     "text": [
      "['Line ', ' of a file\\n']\n",
      "['It can be a very long line -- up to a basically unlimited number of characters.\\n']\n",
      "['\\n']\n",
      "['just passed a blank line!\\n']\n",
      "['', '.5 2 20,32|5']\n"
     ]
    }
   ],
   "source": [
    "f = open(\"test-file.txt\")\n",
    "for line in f.readlines():\n",
    "    print(line.split(\"1\"))\n",
    "f.close()   "
   ]
  },
  {
   "cell_type": "markdown",
   "metadata": {
    "collapsed": false,
    "scrolled": true,
    "slideshow": {
     "slide_type": "slide"
    }
   },
   "source": [
    "### Splitting strings\n",
    "\n",
    "+ `SOME_STRING.split(CHAR_TO_SPLIT_ON)` allows you to split strings into a list.  \n",
    "+ If `CHAR_TO_SPLIT_ON` is not defined, it will split on *all* whitespace (\" \",\"\\t\",\"\\n\",\"\\r\")\n",
    "+ \"\\t\" is TAB, \"\\n\" is NEWLINE, \"\\r\" is CARRIAGE_RETURN. "
   ]
  },
  {
   "cell_type": "markdown",
   "metadata": {
    "slideshow": {
     "slide_type": "slide"
    }
   },
   "source": [
    "### Predict what the following will do\n",
    "![test_file](https://raw.githubusercontent.com/harmsm/pythonic-science/master/chapters/03_dealing-with-files/data/test-file.png)"
   ]
  },
  {
   "cell_type": "code",
   "execution_count": 16,
   "metadata": {
    "collapsed": false,
    "slideshow": {
     "slide_type": "-"
    }
   },
   "outputs": [
    {
     "name": "stdout",
     "output_type": "stream",
     "text": [
      "1.5\n"
     ]
    }
   ],
   "source": [
    "f = open(\"test-file.txt\")\n",
    "lines = f.readlines()\n",
    "f.close()\n",
    "\n",
    "line_of_interest = lines[-1]\n",
    "value = line_of_interest.split()[0]\n",
    "print(value)"
   ]
  },
  {
   "cell_type": "markdown",
   "metadata": {
    "slideshow": {
     "slide_type": "slide"
    }
   },
   "source": [
    "### Predict what will happen:"
   ]
  },
  {
   "cell_type": "code",
   "execution_count": 17,
   "metadata": {
    "collapsed": false,
    "slideshow": {
     "slide_type": "-"
    }
   },
   "outputs": [
    {
     "name": "stdout",
     "output_type": "stream",
     "text": [
      "1.51.51.51.51.5\n"
     ]
    }
   ],
   "source": [
    "print(value*5)"
   ]
  },
  {
   "cell_type": "markdown",
   "metadata": {
    "slideshow": {
     "slide_type": "fragment"
    }
   },
   "source": [
    "`value` is a string of \"1.5\".  You can't do math on it yet. "
   ]
  },
  {
   "cell_type": "markdown",
   "metadata": {
    "slideshow": {
     "slide_type": "slide"
    }
   },
   "source": [
    "### The solution is to *cast* it into a float"
   ]
  },
  {
   "cell_type": "code",
   "execution_count": 19,
   "metadata": {
    "collapsed": false,
    "slideshow": {
     "slide_type": "-"
    }
   },
   "outputs": [
    {
     "name": "stdout",
     "output_type": "stream",
     "text": [
      "7.5\n"
     ]
    }
   ],
   "source": [
    "value_as_float = float(value) \n",
    "print(value_as_float*5)"
   ]
  },
  {
   "cell_type": "markdown",
   "metadata": {
    "slideshow": {
     "slide_type": "slide"
    }
   },
   "source": [
    "### Cast calls:\n",
    "\n",
    "`float`, `int`, `str`, `list`, `tuple`"
   ]
  },
  {
   "cell_type": "code",
   "execution_count": 20,
   "metadata": {
    "collapsed": false,
    "slideshow": {
     "slide_type": "-"
    }
   },
   "outputs": [
    {
     "data": {
      "text/plain": [
       "['1', '.', '5']"
      ]
     },
     "execution_count": 20,
     "metadata": {},
     "output_type": "execute_result"
    }
   ],
   "source": [
    "list(\"1.5\")"
   ]
  },
  {
   "cell_type": "markdown",
   "metadata": {
    "slideshow": {
     "slide_type": "slide"
    }
   },
   "source": [
    "### Write a program that grabs the \"1\" from the first line in the file and multiplies it by 75. "
   ]
  },
  {
   "cell_type": "code",
   "execution_count": 21,
   "metadata": {
    "collapsed": false,
    "slideshow": {
     "slide_type": "fragment"
    }
   },
   "outputs": [
    {
     "name": "stdout",
     "output_type": "stream",
     "text": [
      "75\n"
     ]
    }
   ],
   "source": [
    "f = open(\"test-file.txt\")\n",
    "lines = f.readlines()\n",
    "f.close()\n",
    "\n",
    "value = lines[0].split(\" \")[1]\n",
    "value_as_int = int(value)\n",
    "print(value_as_int*75)"
   ]
  },
  {
   "cell_type": "markdown",
   "metadata": {
    "slideshow": {
     "slide_type": "slide"
    }
   },
   "source": [
    "## What about *writing* to files?"
   ]
  },
  {
   "cell_type": "markdown",
   "metadata": {
    "slideshow": {
     "slide_type": "fragment"
    }
   },
   "source": [
    "### Basic file writing operations: \n",
    "\n",
    "+ Open a file for writing: `f = open(SOME_FILE_NAME,'w')` **will wipe out file immediately!**\n",
    "+ Open a file to append: `f = open(SOME_FILE_NAME,'a')`\n",
    "+ Write a string to a file: `f.write(SOME_STRING)`\n",
    "+ Write a list of strings: `f.writelines([STRING1,STRING2,...])`\n",
    "+ Close the file: `f.close()`"
   ]
  },
  {
   "cell_type": "code",
   "execution_count": 22,
   "metadata": {
    "collapsed": true,
    "slideshow": {
     "slide_type": "slide"
    }
   },
   "outputs": [],
   "source": [
    "def file_printer(file_name):\n",
    "    f = open(file_name)\n",
    "    for line in f.readlines():\n",
    "        print(line,end=\"\")\n",
    "    f.close()"
   ]
  },
  {
   "cell_type": "markdown",
   "metadata": {
    "slideshow": {
     "slide_type": "slide"
    }
   },
   "source": [
    "### Predict what this code will do"
   ]
  },
  {
   "cell_type": "code",
   "execution_count": 23,
   "metadata": {
    "collapsed": false,
    "slideshow": {
     "slide_type": "-"
    }
   },
   "outputs": [
    {
     "name": "stdout",
     "output_type": "stream",
     "text": [
      "abc"
     ]
    }
   ],
   "source": [
    "a_list = [\"a\",\"b\",\"c\"]\n",
    "f = open(\"another-file.txt\",\"w\")\n",
    "for a in a_list:\n",
    "    f.write(a)\n",
    "f.close()\n",
    "file_printer(\"another-file.txt\")"
   ]
  },
  {
   "cell_type": "markdown",
   "metadata": {
    "slideshow": {
     "slide_type": "slide"
    }
   },
   "source": [
    "### Predict what this code will do"
   ]
  },
  {
   "cell_type": "code",
   "execution_count": 24,
   "metadata": {
    "collapsed": false,
    "slideshow": {
     "slide_type": "-"
    }
   },
   "outputs": [
    {
     "name": "stdout",
     "output_type": "stream",
     "text": [
      "a\n",
      "b\n",
      "c\n"
     ]
    }
   ],
   "source": [
    "a_list = [\"a\",\"b\",\"c\"]\n",
    "f = open(\"another-file.txt\",\"w\")\n",
    "for a in a_list:\n",
    "    f.write(a)\n",
    "    f.write(\"\\n\")\n",
    "f.close()\n",
    "file_printer(\"another-file.txt\")"
   ]
  },
  {
   "cell_type": "markdown",
   "metadata": {
    "slideshow": {
     "slide_type": "slide"
    }
   },
   "source": [
    "### Predict what this code will do"
   ]
  },
  {
   "cell_type": "code",
   "execution_count": 38,
   "metadata": {
    "collapsed": false,
    "slideshow": {
     "slide_type": "-"
    }
   },
   "outputs": [
    {
     "name": "stdout",
     "output_type": "stream",
     "text": [
      "A test {} a\n",
      "A test {} b\n",
      "A test {} ccat\n"
     ]
    }
   ],
   "source": [
    "a_list = [\"a\",\"b\",\"ccat\"]\n",
    "f = open(\"another-file.txt\",\"w\")\n",
    "for a in a_list:\n",
    "    f.write(\"A test {{}} {}\\n\".format(a))\n",
    "f.close()\n",
    "file_printer(\"another-file.txt\")"
   ]
  },
  {
   "cell_type": "markdown",
   "metadata": {
    "collapsed": true,
    "slideshow": {
     "slide_type": "slide"
    }
   },
   "source": [
    "### `format` lets you make pretty strings"
   ]
  },
  {
   "cell_type": "code",
   "execution_count": 35,
   "metadata": {
    "collapsed": false,
    "scrolled": true,
    "slideshow": {
     "slide_type": "-"
    }
   },
   "outputs": [
    {
     "name": "stdout",
     "output_type": "stream",
     "text": [
      "The value is: 10.35151\n",
      "The value is: 10.35\n",
      "The value is:                10.35\n"
     ]
    }
   ],
   "source": [
    "print(\"The value is: {:}\".format(10.35151))\n",
    "print(\"The value is: {:.2f}\".format(10.35151))\n",
    "print(\"The value is: {:20.2f}\".format(10.35151))"
   ]
  },
  {
   "cell_type": "code",
   "execution_count": 36,
   "metadata": {
    "collapsed": false,
    "slideshow": {
     "slide_type": "fragment"
    }
   },
   "outputs": [
    {
     "name": "stdout",
     "output_type": "stream",
     "text": [
      "The value is: 10\n",
      "The value is:                   10\n"
     ]
    }
   ],
   "source": [
    "print(\"The value is: {:}\".format(10))\n",
    "print(\"The value is: {:20d}\".format(10))"
   ]
  },
  {
   "cell_type": "markdown",
   "metadata": {
    "slideshow": {
     "slide_type": "slide"
    }
   },
   "source": [
    "### String formatting\n",
    "\n",
    "+ Pretty decimal printing: `\"{:LENGITH_OF_STRING.NUM_DECIMALSf}\".format(FLOAT)`\n",
    "+ Pretty integer printing: `\"{:LENGTH_OF_STRINGd}\".format(INT)`\n",
    "+ Pretty string printing:  `\"{:LENGTH_OF_STRINGs}\".format(STRING)`"
   ]
  },
  {
   "cell_type": "markdown",
   "metadata": {
    "slideshow": {
     "slide_type": "slide"
    }
   },
   "source": [
    "### Create a loop that prints 0 to 9 to a file.  Each number should be on its own line, written to 3 decimal places. "
   ]
  },
  {
   "cell_type": "code",
   "execution_count": null,
   "metadata": {
    "collapsed": false,
    "slideshow": {
     "slide_type": "fragment"
    }
   },
   "outputs": [],
   "source": [
    "f = open(\"junk\",\"w\")\n",
    "for i in range(10):\n",
    "    f.write(\"{:.3f}\\n\".format(i))\n",
    "f.close()\n",
    "file_printer(\"junk\")"
   ]
  },
  {
   "cell_type": "markdown",
   "metadata": {
    "slideshow": {
     "slide_type": "slide"
    }
   },
   "source": [
    "### Basic file reading operations: \n",
    "\n",
    "+ Open a file for reading: `f = open(SOME_FILE_NAME)` \n",
    "+ Read lines of file sequentially: `f.readlines()`\n",
    "+ Read one line from the file: `f.readline()`\n",
    "+ Read the whole file into a string: `f.read()`\n",
    "+ Close the file: `f.close()`\n",
    "\n"
   ]
  },
  {
   "cell_type": "markdown",
   "metadata": {
    "slideshow": {
     "slide_type": "slide"
    }
   },
   "source": [
    "### Basic file writing operations: \n",
    "\n",
    "+ Open a file for writing: `f = open(SOME_FILE_NAME,'w')` **will wipe out file immediately!**\n",
    "+ Open a file to append: `f = open(SOME_FILE_NAME,'a')`\n",
    "+ Write a string to a file: `f.write(SOME_STRING)`\n",
    "+ Write a list of strings: `f.writeline([STRING1,STRING2,...])`\n",
    "+ Close the file: `f.close()`"
   ]
  },
  {
   "cell_type": "markdown",
   "metadata": {
    "collapsed": false,
    "scrolled": true,
    "slideshow": {
     "slide_type": "slide"
    }
   },
   "source": [
    "### Splitting strings\n",
    "\n",
    "+ `SOME_STRING.split(CHAR_TO_SPLIT_ON)` allows you to split strings into a list.  \n",
    "+ If `CHAR_TO_SPLIT_ON` is not defined, it will split on *all* whitespace (\" \",\"\\t\",\"\\n\",\"\\r\")\n",
    "+ \"\\t\" is TAB, \"\\n\" is NEWLINE, \"\\r\" is CARRIAGE_RETURN. "
   ]
  },
  {
   "cell_type": "markdown",
   "metadata": {
    "slideshow": {
     "slide_type": "slide"
    }
   },
   "source": [
    "### String formatting\n",
    "\n",
    "+ Pretty decimal printing: `\"{:LENGITH_OF_STRING.NUM_DECIMALSf}\".format(FLOAT)`\n",
    "+ Pretty integer printing: `\"{:LENGTH_OF_STRINGd}\".format(INT)`\n",
    "+ Pretty string printing:  `\"{:LENGTH_OF_STRINGs}\".format(STRING)`"
   ]
  }
 ],
 "metadata": {
  "celltoolbar": "Slideshow",
  "kernelspec": {
   "display_name": "Python 3",
   "language": "python",
   "name": "python3"
  },
  "language_info": {
   "codemirror_mode": {
    "name": "ipython",
    "version": 3
   },
   "file_extension": ".py",
   "mimetype": "text/x-python",
   "name": "python",
   "nbconvert_exporter": "python",
   "pygments_lexer": "ipython3",
   "version": "3.5.2"
  }
 },
 "nbformat": 4,
 "nbformat_minor": 1
}
