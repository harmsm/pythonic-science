{
 "cells": [
  {
   "cell_type": "code",
   "execution_count": null,
   "metadata": {},
   "outputs": [],
   "source": [
    "%matplotlib inline\n",
    "import numpy as np\n",
    "from matplotlib import pyplot as plt"
   ]
  },
  {
   "cell_type": "markdown",
   "metadata": {
    "slideshow": {
     "slide_type": "slide"
    }
   },
   "source": [
    "<cont style=\"margin:auto\">\n",
    "<img src=\"https://s-media-cache-ak0.pinimg.com/originals/33/07/24/330724abbfde900c94af94ed0fbc5f9f.jpg\" height=\"85%\" width=\"85%\" />\n",
    "</font>"
   ]
  },
  {
   "cell_type": "markdown",
   "metadata": {
    "slideshow": {
     "slide_type": "slide"
    }
   },
   "source": [
    "<ul>\n",
    "    <li><code class=\"python\">np.random.seed</code><div class=\"fragment\" style=\"color:blue\">Sets seed to allow reproducible randomness</div></li>\n",
    "    <li> List and array operations: \n",
    "        <ul>\n",
    "            <li><code class=\"python\">np.random.choice,np.random.shuffle</code></li>\n",
    "        </ul>\n",
    "        <div class=\"fragment\" style=\"color:blue\">Shuffle or choose random entries from lists</div>\n",
    "    </li>\n",
    "    <li> Distributions: \n",
    "        <ul>\n",
    "            <li><code class=\"python\">np.random.normal,np.random.binomial,</code></li>\n",
    "            <li><code class=\"python\">np.random.uniform,np.random.poisson</code></li>\n",
    "        </ul>\n",
    "        <div class=\"fragment\" style=\"color:blue\">Sample random numbers from distributions</div>\n",
    "    </li>\n",
    "    <li><code class=\"python\">plt.hist</code> <div class=\"fragment\" style=\"color:blue\">Plots histograms</div></li>\n",
    "\n",
    "</ul>\n"
   ]
  },
  {
   "cell_type": "markdown",
   "metadata": {
    "slideshow": {
     "slide_type": "slide"
    }
   },
   "source": [
    "### So what is all of this useful for, anyway?"
   ]
  },
  {
   "cell_type": "markdown",
   "metadata": {
    "slideshow": {
     "slide_type": "slide"
    }
   },
   "source": [
    "### Adding Noise\n",
    "\n",
    "If you are developing an analysis pipeline, you probably want to simulate the noise you expect from your experimental data."
   ]
  },
  {
   "cell_type": "markdown",
   "metadata": {
    "slideshow": {
     "slide_type": "slide"
    }
   },
   "source": [
    "#### Quick noise example"
   ]
  },
  {
   "cell_type": "code",
   "execution_count": null,
   "metadata": {
    "scrolled": true,
    "slideshow": {
     "slide_type": "-"
    }
   },
   "outputs": [],
   "source": [
    "x = np.arange(-10,10,0.2)\n",
    "y = np.cos(x)\n",
    "\n",
    "noisy_y = y + np.random.normal(0,0.3,len(y))\n",
    "\n",
    "plt.plot(x,y)\n",
    "plt.plot(x,noisy_y)"
   ]
  },
  {
   "cell_type": "markdown",
   "metadata": {
    "slideshow": {
     "slide_type": "slide"
    }
   },
   "source": [
    "### Simulating sampling\n",
    "\n",
    "You might want to do an experiment computationally before you actually do the experiment to make sure you'll be able to detect what you want to detect"
   ]
  },
  {
   "cell_type": "markdown",
   "metadata": {
    "slideshow": {
     "slide_type": "slide"
    }
   },
   "source": [
    "You are measuring the length of microtubule bundles in *S. pombe* yeast.  \n",
    "\n",
    "+ The average length of these bundles is $5.00 \\pm 1.4 \\mu m$. \n",
    "+ You introduce a mutation and expect you the microtubules will now be longer: $5.5 \\pm 1.4 \\mu m$.  \n",
    "+ You only have time to measure bundle length for 5 wildtype and 5 mutant cells.  \n",
    "\n",
    "Assuming your expectation is right, will you be able to tell that the mutant had any effect? \n"
   ]
  },
  {
   "cell_type": "markdown",
   "metadata": {
    "slideshow": {
     "slide_type": "slide"
    }
   },
   "source": [
    "### Simulate the sampling\n",
    "+ 5 samples from $5 \\pm 1.4$\n",
    "+ 5 samples from $5.5 \\pm 1.4$"
   ]
  },
  {
   "cell_type": "code",
   "execution_count": null,
   "metadata": {
    "slideshow": {
     "slide_type": "fragment"
    }
   },
   "outputs": [],
   "source": []
  },
  {
   "cell_type": "markdown",
   "metadata": {
    "slideshow": {
     "slide_type": "slide"
    }
   },
   "source": [
    "### How do we test to see if these are different? "
   ]
  },
  {
   "cell_type": "code",
   "execution_count": null,
   "metadata": {
    "slideshow": {
     "slide_type": "slide"
    }
   },
   "outputs": [],
   "source": [
    "import scipy.stats"
   ]
  },
  {
   "cell_type": "markdown",
   "metadata": {
    "slideshow": {
     "slide_type": "slide"
    }
   },
   "source": [
    "Figure out how to use `scipy.stats.ttest_ind`. \n",
    "+ Determine the p-value you for a t-test between your 5 wildtype and 5 mutant measurements. \n",
    "+ Can you figure out how many samples you need to meausure to reliably get a p-value < 0.05 for this expected difference in means? \n"
   ]
  },
  {
   "cell_type": "code",
   "execution_count": null,
   "metadata": {
    "slideshow": {
     "slide_type": "fragment"
    }
   },
   "outputs": [],
   "source": []
  },
  {
   "cell_type": "code",
   "execution_count": null,
   "metadata": {
    "slideshow": {
     "slide_type": "slide"
    }
   },
   "outputs": [],
   "source": [
    "\n",
    "    "
   ]
  },
  {
   "cell_type": "markdown",
   "metadata": {
    "slideshow": {
     "slide_type": "slide"
    }
   },
   "source": [
    "### Stats provides a wide variety of statistical tests\n",
    "+ t-test: `scipy.stats.ttest_ind`\n",
    "+ One-way ANOVA: `scipy.stats.f_oneway`\n",
    "+ Wilcoxan Rank: `scipy.stats.ranksums`\n",
    "+ $\\chi^{2}$: `scipy.stats.chisquare`\n",
    "+ Pearson's Correlation: `scipy.stats.pearsonr`\n"
   ]
  },
  {
   "cell_type": "markdown",
   "metadata": {
    "slideshow": {
     "slide_type": "slide"
    }
   },
   "source": [
    "### Stats also provides access to probability distributions"
   ]
  },
  {
   "cell_type": "code",
   "execution_count": null,
   "metadata": {
    "slideshow": {
     "slide_type": "-"
    }
   },
   "outputs": [],
   "source": [
    "d = scipy.stats.norm()\n",
    "x = np.arange(-5,5,0.01)\n",
    "prob_density = d.pdf(x)\n",
    "cum_density = d.cdf(x)"
   ]
  },
  {
   "cell_type": "code",
   "execution_count": null,
   "metadata": {
    "slideshow": {
     "slide_type": "slide"
    }
   },
   "outputs": [],
   "source": [
    "def plot_distrib(d,x,name):\n",
    "    \"\"\"\n",
    "    Function that plots the probability density and cumulative density\n",
    "    functions of a distribution over the range defined in x.\n",
    "    \"\"\"\n",
    "\n",
    "    fig, ax = plt.subplots(1,2,figsize=(12,5))\n",
    "    ax[0].plot(x,d.pdf(x),\"k-\")\n",
    "    ax[0].set_title(\"Probability Density Function ({})\".format(name))\n",
    "    ax[0].set_xlabel(\"x\")\n",
    "    ax[0].set_ylabel(\"P(X == x)\")\n",
    "\n",
    "    ax[1].plot(x,d.cdf(x),\"k-\")\n",
    "    ax[1].set_title(\"Cumulative Density Function ({})\".format(name))\n",
    "    ax[1].set_xlabel(\"x\")\n",
    "    ax[1].set_ylabel(\"P(X $\\geq$ x)\")\n",
    "    \n",
    "    bottom = np.arange(np.min(x),d.interval(0.95)[0],0.01)\n",
    "    top    = np.arange(d.interval(0.95)[1],np.max(x),0.01)\n",
    "    \n",
    "    ax[0].fill_between(bottom,d.pdf(bottom),color=\"gray\")\n",
    "    ax[0].fill_between(top,d.pdf(top),color=\"gray\")"
   ]
  },
  {
   "cell_type": "code",
   "execution_count": null,
   "metadata": {
    "scrolled": false,
    "slideshow": {
     "slide_type": "slide"
    }
   },
   "outputs": [],
   "source": [
    "   \n",
    "plot_distrib(d,x,\"Normal $\\mu = 0$, $\\sigma = 1$\")"
   ]
  },
  {
   "cell_type": "code",
   "execution_count": null,
   "metadata": {
    "scrolled": false,
    "slideshow": {
     "slide_type": "slide"
    }
   },
   "outputs": [],
   "source": [
    "pareto = scipy.stats.pareto(1)\n",
    "x = range(1,50)\n",
    "plot_distrib(pareto,x,\"Pareto c = 1\")"
   ]
  },
  {
   "cell_type": "markdown",
   "metadata": {
    "slideshow": {
     "slide_type": "slide"
    }
   },
   "source": [
    "### Summary\n",
    "\n",
    "+ `np.random` lets you sample things (flip coins, add noise, simulate experiments)\n",
    "+ `scipy.stats` lets you do statistics to analyze simulated or experimental results."
   ]
  }
 ],
 "metadata": {
  "celltoolbar": "Slideshow",
  "kernelspec": {
   "display_name": "Python 3",
   "language": "python",
   "name": "python3"
  },
  "language_info": {
   "codemirror_mode": {
    "name": "ipython",
    "version": 3
   },
   "file_extension": ".py",
   "mimetype": "text/x-python",
   "name": "python",
   "nbconvert_exporter": "python",
   "pygments_lexer": "ipython3",
   "version": "3.7.3"
  }
 },
 "nbformat": 4,
 "nbformat_minor": 1
}
