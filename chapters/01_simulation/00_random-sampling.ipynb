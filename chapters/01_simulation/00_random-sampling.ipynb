{
 "cells": [
  {
   "cell_type": "markdown",
   "metadata": {
    "slideshow": {
     "slide_type": "slide"
    }
   },
   "source": [
    "You are trying to measure a difference in the $K_{D}$ of two proteins binding to a ligand.  From previous experiments, you know that the values of replicate measurements of $K_{D}$ follow a normal distribution with $\\sigma = 2\\ \\mu M$.  How many measurements would you need to make to confidently tell the difference between two proteins with $K_{D} = 10 \\mu M$ and $K_{D} = 12 \\mu M$?"
   ]
  },
  {
   "cell_type": "code",
   "execution_count": 23,
   "metadata": {
    "slideshow": {
     "slide_type": "slide"
    }
   },
   "outputs": [
    {
     "data": {
      "text/plain": [
       "[<matplotlib.lines.Line2D at 0x1a213dcf28>]"
      ]
     },
     "execution_count": 23,
     "metadata": {},
     "output_type": "execute_result"
    },
    {
     "data": {
      "image/png": "[encoded data removed]",
      "text/plain": [
       "<Figure size 432x288 with 1 Axes>"
      ]
     },
     "metadata": {},
     "output_type": "display_data"
    }
   ],
   "source": [
    "%matplotlib inline\n",
    "from matplotlib import pyplot as plt \n",
    "import numpy as np\n",
    "from scipy import stats\n",
    "\n",
    "replicates = range(2,50)\n",
    "p_values = []\n",
    "for i in replicates:\n",
    "    measure_one = np.random.normal(10,2,i)\n",
    "    measure_two = np.random.normal(12,2,i)\n",
    "    \n",
    "    p_values.append(stats.ttest_ind(measure_one,measure_two)[1])\n",
    "\n",
    "plt.plot(replicates,p_values)"
   ]
  },
  {
   "cell_type": "markdown",
   "metadata": {
    "slideshow": {
     "slide_type": "slide"
    }
   },
   "source": [
    "\n",
    "### Goals\n",
    "+ Know how to use basic `numpy.random` functions to sample from distributions\n",
    "+ Begin to understand how to write a simulation to probe possible experimental outcomes\n",
    "\n",
    "\n"
   ]
  },
  {
   "cell_type": "markdown",
   "metadata": {
    "slideshow": {
     "slide_type": "slide"
    }
   },
   "source": [
    "### Create a new notebook with this cell at the top"
   ]
  },
  {
   "cell_type": "code",
   "execution_count": null,
   "metadata": {
    "slideshow": {
     "slide_type": "-"
    }
   },
   "outputs": [],
   "source": [
    "%matplotlib inline\n",
    "import numpy as np\n",
    "from matplotlib import pyplot as plt"
   ]
  },
  {
   "cell_type": "markdown",
   "metadata": {
    "slideshow": {
     "slide_type": "slide"
    }
   },
   "source": [
    "### Figure out how to use `np.random.choice` to simulate 1,000 tosses of a fair coin"
   ]
  },
  {
   "cell_type": "code",
   "execution_count": null,
   "metadata": {
    "slideshow": {
     "slide_type": "fragment"
    }
   },
   "outputs": [],
   "source": [
    "# best solution\n",
    "tosses = np.random.choice([0,1],1000)"
   ]
  },
  {
   "cell_type": "code",
   "execution_count": null,
   "metadata": {
    "slideshow": {
     "slide_type": "fragment"
    }
   },
   "outputs": [],
   "source": [
    "# okay solution\n",
    "tosses = []\n",
    "for i in range(1000):\n",
    "    tosses.append(np.random.choice([0,1]))"
   ]
  },
  {
   "cell_type": "markdown",
   "metadata": {
    "slideshow": {
     "slide_type": "slide"
    }
   },
   "source": [
    "### np.random uses a \"pseudorandom\" number generator to simulate choices\n",
    "\n",
    "+ String of numbers that has the same statistical properties as random numbers\n",
    "+ Numbers are *actually* generated deterministically"
   ]
  },
  {
   "cell_type": "markdown",
   "metadata": {
    "slideshow": {
     "slide_type": "slide"
    }
   },
   "source": [
    "#### Numbers *look* random..."
   ]
  },
  {
   "cell_type": "code",
   "execution_count": 30,
   "metadata": {
    "slideshow": {
     "slide_type": "-"
    }
   },
   "outputs": [
    {
     "data": {
      "text/plain": [
       "(array([ 9980., 10096.,  9971., 10020., 10017.,  9930.,  9997.,  9981.,\n",
       "         9818., 10190.]),\n",
       " array([1.25214565e-05, 1.00009200e-01, 2.00005879e-01, 3.00002559e-01,\n",
       "        3.99999238e-01, 4.99995917e-01, 5.99992596e-01, 6.99989275e-01,\n",
       "        7.99985954e-01, 8.99982633e-01, 9.99979312e-01]),\n",
       " <a list of 10 Patch objects>)"
      ]
     },
     "execution_count": 30,
     "metadata": {},
     "output_type": "execute_result"
    },
    {
     "data": {
      "image/png": "[encoded data removed]",
      "text/plain": [
       "<Figure size 432x288 with 1 Axes>"
      ]
     },
     "metadata": {},
     "output_type": "display_data"
    }
   ],
   "source": [
    "numbers = np.random.random(100000)\n",
    "plt.hist(numbers)"
   ]
  },
  {
   "cell_type": "markdown",
   "metadata": {
    "slideshow": {
     "slide_type": "slide"
    }
   },
   "source": [
    "#### But numbers are *actually* deterministic..."
   ]
  },
  {
   "cell_type": "code",
   "execution_count": 31,
   "metadata": {
    "slideshow": {
     "slide_type": "-"
    }
   },
   "outputs": [],
   "source": [
    "def simple_psuedo_random(current_value,\n",
    "                         multiplier=13110243,\n",
    "                         divisor=13132):\n",
    "\n",
    "    return current_value*multiplier % divisor  "
   ]
  },
  {
   "cell_type": "code",
   "execution_count": 33,
   "metadata": {
    "scrolled": false,
    "slideshow": {
     "slide_type": "fragment"
    }
   },
   "outputs": [
    {
     "data": {
      "text/plain": [
       "(array([105., 105., 107.,  91.,  93.,  90.,  91., 105., 107., 106.]),\n",
       " array([  160. ,  1441.2,  2722.4,  4003.6,  5284.8,  6566. ,  7847.2,\n",
       "         9128.4, 10409.6, 11690.8, 12972. ]),\n",
       " <a list of 10 Patch objects>)"
      ]
     },
     "execution_count": 33,
     "metadata": {},
     "output_type": "execute_result"
    },
    {
     "data": {
      "image/png": "[encoded data removed]",
      "text/plain": [
       "<Figure size 432x288 with 1 Axes>"
      ]
     },
     "metadata": {},
     "output_type": "display_data"
    }
   ],
   "source": [
    "seed = 10218888\n",
    "\n",
    "out = []\n",
    "current = seed\n",
    "for i in range(1000):\n",
    "    current = simple_psuedo_random(current)\n",
    "    out.append(current)\n",
    "\n",
    "plt.hist(out)"
   ]
  },
  {
   "cell_type": "markdown",
   "metadata": {
    "slideshow": {
     "slide_type": "slide"
    }
   },
   "source": [
    "### python uses the Mersenne Twister to generate pseudorandom numbers"
   ]
  },
  {
   "cell_type": "markdown",
   "metadata": {
    "slideshow": {
     "slide_type": "-"
    }
   },
   "source": [
    "![mersennetwister](https://upload.wikimedia.org/wikipedia/commons/b/b5/Mersenne_Twister_visualisation.svg)"
   ]
  },
  {
   "cell_type": "markdown",
   "metadata": {
    "slideshow": {
     "slide_type": "slide"
    }
   },
   "source": [
    "### What does the `seed` do? "
   ]
  },
  {
   "cell_type": "code",
   "execution_count": null,
   "metadata": {
    "slideshow": {
     "slide_type": "-"
    }
   },
   "outputs": [],
   "source": [
    "seed = 1021888\n",
    "\n",
    "out = []\n",
    "current = seed\n",
    "for i in range(1000):\n",
    "    current = simple_psuedo_random(current)\n",
    "    out.append(current)\n"
   ]
  },
  {
   "cell_type": "markdown",
   "metadata": {
    "slideshow": {
     "slide_type": "slide"
    }
   },
   "source": [
    "### What will we see if I run this cell twice in a row? "
   ]
  },
  {
   "cell_type": "code",
   "execution_count": 37,
   "metadata": {
    "slideshow": {
     "slide_type": "-"
    }
   },
   "outputs": [
    {
     "name": "stdout",
     "output_type": "stream",
     "text": [
      "[0.91054531 0.87130892 0.43747984 0.14454913 0.37558088 0.47869707\n",
      " 0.05645585 0.59729579 0.02436505 0.67063894]\n"
     ]
    }
   ],
   "source": [
    "s1 = np.random.random(10)\n",
    "print(s1)\n"
   ]
  },
  {
   "cell_type": "markdown",
   "metadata": {
    "slideshow": {
     "slide_type": "slide"
    }
   },
   "source": [
    "### What will we see if I run this cell twice in a row? "
   ]
  },
  {
   "cell_type": "code",
   "execution_count": 54,
   "metadata": {
    "slideshow": {
     "slide_type": "-"
    }
   },
   "outputs": [
    {
     "name": "stdout",
     "output_type": "stream",
     "text": [
      "[0.44616627 0.29423635 0.44965624 0.40469388 0.35328769 0.76140219\n",
      " 0.15757785 0.69331684 0.31833615 0.94897036]\n"
     ]
    }
   ],
   "source": [
    "np.random.seed(5235412)\n",
    "s1 = np.random.random(10)\n",
    "print(s1)\n"
   ]
  },
  {
   "cell_type": "markdown",
   "metadata": {
    "slideshow": {
     "slide_type": "slide"
    }
   },
   "source": [
    "### A `seed` lets you specify which pseudo-random numbers you will use.  \n",
    "+ If you use the same seed, you will get identical samples. \n",
    "+ If you use a different seed, you will get wildly different samples."
   ]
  },
  {
   "cell_type": "markdown",
   "metadata": {
    "slideshow": {
     "slide_type": "slide"
    }
   },
   "source": [
    "### matplotlib.pyplot.hist"
   ]
  },
  {
   "cell_type": "code",
   "execution_count": 56,
   "metadata": {
    "scrolled": true,
    "slideshow": {
     "slide_type": "slide"
    }
   },
   "outputs": [
    {
     "data": {
      "image/png": "[encoded data removed]",
      "text/plain": [
       "<Figure size 432x288 with 1 Axes>"
      ]
     },
     "metadata": {},
     "output_type": "display_data"
    }
   ],
   "source": [
    "numbers = np.random.normal(size=10000)\n",
    "counts, bins, junk = plt.hist(numbers,\n",
    "                              range(-10,10))\n"
   ]
  },
  {
   "cell_type": "markdown",
   "metadata": {
    "slideshow": {
     "slide_type": "slide"
    }
   },
   "source": [
    "#### Basic histogram plotting syntax\n",
    "\n",
    "```python\n",
    "COUNTS, BIN_EDGES, GRAPHICS_BIT = plt.hist(ARRAY_TO_BIN,BINS_TO_USE)\n",
    "```"
   ]
  },
  {
   "cell_type": "markdown",
   "metadata": {
    "slideshow": {
     "slide_type": "slide"
    }
   },
   "source": [
    "### Figure out how the function works and report back to the class\n",
    "+ What the function does\n",
    "+ Arguments normal people would care about\n",
    "+ What it returns"
   ]
  },
  {
   "cell_type": "code",
   "execution_count": null,
   "metadata": {
    "slideshow": {
     "slide_type": "-"
    }
   },
   "outputs": [],
   "source": [
    "np.random.normal\n",
    "np.random.binomial\n",
    "np.random.uniform\n",
    "np.random.poisson\n",
    "np.random.choice\n",
    "np.random.shuffle"
   ]
  },
  {
   "cell_type": "markdown",
   "metadata": {
    "slideshow": {
     "slide_type": "slide"
    }
   },
   "source": [
    "#### Calculate:\n",
    "+ 1000 random samples from a normal distribution with a mean of 5 and a standard deviation of 2. \n",
    "+ Create a histogram with a bin size of 1. "
   ]
  },
  {
   "cell_type": "code",
   "execution_count": null,
   "metadata": {
    "slideshow": {
     "slide_type": "fragment"
    }
   },
   "outputs": [],
   "source": [
    "x = np.random.normal(5,2,size=1000)\n",
    "counts, edges, _ = plt.hist(x,bins=range(-15,15))\n",
    "for i in range(len(counts)):\n",
    "    print(edges[i],counts[i])"
   ]
  }
 ],
 "metadata": {
  "celltoolbar": "Slideshow",
  "kernelspec": {
   "display_name": "Python 3",
   "language": "python",
   "name": "python3"
  },
  "language_info": {
   "codemirror_mode": {
    "name": "ipython",
    "version": 3
   },
   "file_extension": ".py",
   "mimetype": "text/x-python",
   "name": "python",
   "nbconvert_exporter": "python",
   "pygments_lexer": "ipython3",
   "version": "3.6.6"
  }
 },
 "nbformat": 4,
 "nbformat_minor": 1
}
