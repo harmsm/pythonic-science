{
 "cells": [
  {
   "cell_type": "markdown",
   "metadata": {
    "slideshow": {
     "slide_type": "slide"
    }
   },
   "source": [
    "\n",
    "### Goals\n",
    "+ Know how to use basic `numpy.random` functions to sample from distributions\n",
    "+ Begin to understand how to write a simulation to probe possible experimental outcomes\n",
    "\n",
    "\n"
   ]
  },
  {
   "cell_type": "markdown",
   "metadata": {
    "slideshow": {
     "slide_type": "slide"
    }
   },
   "source": [
    "### Create a new notebook with this cell at the top"
   ]
  },
  {
   "cell_type": "code",
   "execution_count": 5,
   "metadata": {
    "slideshow": {
     "slide_type": "-"
    }
   },
   "outputs": [],
   "source": [
    "%matplotlib inline\n",
    "import numpy as np\n",
    "from matplotlib import pyplot as plt"
   ]
  },
  {
   "cell_type": "markdown",
   "metadata": {
    "slideshow": {
     "slide_type": "slide"
    }
   },
   "source": [
    "### Figure out how to use `np.random.choice` to simulate 1,000 tosses of a fair coin"
   ]
  },
  {
   "cell_type": "code",
   "execution_count": 1,
   "metadata": {
    "slideshow": {
     "slide_type": "-"
    }
   },
   "outputs": [
    {
     "data": {
      "text/plain": [
       "<function RandomState.choice>"
      ]
     },
     "execution_count": 1,
     "metadata": {},
     "output_type": "execute_result"
    }
   ],
   "source": [
    "import numpy as np\n",
    "np.random.choice"
   ]
  },
  {
   "cell_type": "code",
   "execution_count": 3,
   "metadata": {
    "collapsed": true,
    "slideshow": {
     "slide_type": "fragment"
    }
   },
   "outputs": [],
   "source": [
    "# best solution\n",
    "tosses = np.random.choice([0,1],1000)"
   ]
  },
  {
   "cell_type": "code",
   "execution_count": null,
   "metadata": {
    "collapsed": true,
    "slideshow": {
     "slide_type": "fragment"
    }
   },
   "outputs": [],
   "source": [
    "# okay solution\n",
    "tosses = []\n",
    "for i in range(1000):\n",
    "    tosses.append(np.random.choice([0,1]))"
   ]
  },
  {
   "cell_type": "markdown",
   "metadata": {
    "slideshow": {
     "slide_type": "slide"
    }
   },
   "source": [
    "### np.random uses a \"pseudorandom\" number generator to simulate choices\n",
    "\n",
    "+ String of numbers that has the same statistical properties as random numbers\n",
    "+ Numbers are *actually* generated deterministically"
   ]
  },
  {
   "cell_type": "markdown",
   "metadata": {
    "slideshow": {
     "slide_type": "slide"
    }
   },
   "source": [
    "#### Numbers *look* random..."
   ]
  },
  {
   "cell_type": "code",
   "execution_count": 6,
   "metadata": {
    "slideshow": {
     "slide_type": "-"
    }
   },
   "outputs": [
    {
     "data": {
      "text/plain": [
       "(array([  9971.,  10015.,  10145.,  10124.,   9887.,   9824.,  10029.,\n",
       "          9839.,  10123.,  10043.]),\n",
       " array([  4.96653991e-06,   1.00003866e-01,   2.00002765e-01,\n",
       "          3.00001665e-01,   4.00000564e-01,   4.99999464e-01,\n",
       "          5.99998363e-01,   6.99997262e-01,   7.99996162e-01,\n",
       "          8.99995061e-01,   9.99993961e-01]),\n",
       " <a list of 10 Patch objects>)"
      ]
     },
     "execution_count": 6,
     "metadata": {},
     "output_type": "execute_result"
    },
    {
     "data": {
      "image/png": "[encoded data removed]",
      "text/plain": [
       "<matplotlib.figure.Figure at 0x7fedd184dc88>"
      ]
     },
     "metadata": {},
     "output_type": "display_data"
    }
   ],
   "source": [
    "numbers = np.random.random(100000)\n",
    "plt.hist(numbers)"
   ]
  },
  {
   "cell_type": "markdown",
   "metadata": {
    "slideshow": {
     "slide_type": "slide"
    }
   },
   "source": [
    "#### But numbers are *actually* deterministic..."
   ]
  },
  {
   "cell_type": "code",
   "execution_count": 40,
   "metadata": {
    "collapsed": true,
    "slideshow": {
     "slide_type": "-"
    }
   },
   "outputs": [],
   "source": [
    "def simple_psuedo_random(current_value,multiplier=13110243,divisor=13132):\n",
    "\n",
    "    return current_value*multiplier % divisor  "
   ]
  },
  {
   "cell_type": "code",
   "execution_count": 8,
   "metadata": {
    "scrolled": false,
    "slideshow": {
     "slide_type": "fragment"
    }
   },
   "outputs": [
    {
     "data": {
      "text/plain": [
       "(array([ 105.,  105.,  107.,   91.,   93.,   90.,   91.,  105.,  107.,  106.]),\n",
       " array([   160. ,   1441.2,   2722.4,   4003.6,   5284.8,   6566. ,\n",
       "          7847.2,   9128.4,  10409.6,  11690.8,  12972. ]),\n",
       " <a list of 10 Patch objects>)"
      ]
     },
     "execution_count": 8,
     "metadata": {},
     "output_type": "execute_result"
    },
    {
     "data": {
      "image/png": "[encoded data removed]",
      "text/plain": [
       "<matplotlib.figure.Figure at 0x7fedd1780710>"
      ]
     },
     "metadata": {},
     "output_type": "display_data"
    }
   ],
   "source": [
    "seed = 10218888\n",
    "\n",
    "out = []\n",
    "current = seed\n",
    "for i in range(1000):\n",
    "    current = simple_psuedo_random(current)\n",
    "    out.append(current)\n",
    "\n",
    "plt.hist(out)"
   ]
  },
  {
   "cell_type": "markdown",
   "metadata": {
    "slideshow": {
     "slide_type": "slide"
    }
   },
   "source": [
    "### python uses the Mersenne Twister to generate pseudorandom numbers"
   ]
  },
  {
   "cell_type": "markdown",
   "metadata": {
    "slideshow": {
     "slide_type": "-"
    }
   },
   "source": [
    "![mersennetwister](https://upload.wikimedia.org/wikipedia/commons/b/b5/Mersenne_Twister_visualisation.svg)"
   ]
  },
  {
   "cell_type": "markdown",
   "metadata": {
    "slideshow": {
     "slide_type": "slide"
    }
   },
   "source": [
    "### What does the `seed` do? "
   ]
  },
  {
   "cell_type": "code",
   "execution_count": null,
   "metadata": {
    "collapsed": true,
    "slideshow": {
     "slide_type": "-"
    }
   },
   "outputs": [],
   "source": [
    "seed = 10218888\n",
    "\n",
    "out = []\n",
    "current = seed\n",
    "for i in range(1000):\n",
    "    current = simple_psuedo_random(current)\n",
    "    out.append(current)\n"
   ]
  },
  {
   "cell_type": "markdown",
   "metadata": {
    "slideshow": {
     "slide_type": "slide"
    }
   },
   "source": [
    "### What will we see if I run this cell twice in a row? "
   ]
  },
  {
   "cell_type": "code",
   "execution_count": 10,
   "metadata": {
    "slideshow": {
     "slide_type": "-"
    }
   },
   "outputs": [
    {
     "name": "stdout",
     "output_type": "stream",
     "text": [
      "[ 0.41879428  0.68383623  0.02635897  0.0938378   0.21362234  0.46343055\n",
      "  0.46790312  0.55696061  0.52947388  0.25966722]\n"
     ]
    }
   ],
   "source": [
    "s1 = np.random.random(10)\n",
    "print(s1)\n"
   ]
  },
  {
   "cell_type": "markdown",
   "metadata": {
    "slideshow": {
     "slide_type": "slide"
    }
   },
   "source": [
    "### What will we see if I run this cell twice in a row? "
   ]
  },
  {
   "cell_type": "code",
   "execution_count": 42,
   "metadata": {
    "slideshow": {
     "slide_type": "-"
    }
   },
   "outputs": [
    {
     "name": "stdout",
     "output_type": "stream",
     "text": [
      "[ 0.30172699  0.76141185  0.0923074   0.69266006  0.96773702  0.27293832\n",
      "  0.69316353  0.03787899  0.03387402  0.63673081]\n"
     ]
    }
   ],
   "source": [
    "#np.random.seed(5235412)\n",
    "s1 = np.random.random(10)\n",
    "print(s1)\n"
   ]
  },
  {
   "cell_type": "markdown",
   "metadata": {
    "slideshow": {
     "slide_type": "slide"
    }
   },
   "source": [
    "### A `seed` lets you specify which pseudo-random numbers you will use.  \n",
    "+ If you use the same seed, you will get identical samples. \n",
    "+ If you use a different seed, you will get wildly different samples."
   ]
  },
  {
   "cell_type": "markdown",
   "metadata": {
    "slideshow": {
     "slide_type": "slide"
    }
   },
   "source": [
    "### matplotlib.pyplot.hist"
   ]
  },
  {
   "cell_type": "code",
   "execution_count": 49,
   "metadata": {
    "scrolled": true,
    "slideshow": {
     "slide_type": "slide"
    }
   },
   "outputs": [
    {
     "data": {
      "image/png": "[encoded data removed]",
      "text/plain": [
       "<matplotlib.figure.Figure at 0x7fedc9b51cf8>"
      ]
     },
     "metadata": {},
     "output_type": "display_data"
    }
   ],
   "source": [
    "numbers = np.random.normal(size=10000)\n",
    "counts, bins, junk = plt.hist(numbers,range(-10,10))\n"
   ]
  },
  {
   "cell_type": "markdown",
   "metadata": {
    "slideshow": {
     "slide_type": "slide"
    }
   },
   "source": [
    "#### Basic histogram plotting syntax\n",
    "\n",
    "```python\n",
    "COUNTS, BIN_EDGES, GRAPHICS_BIT = plt.hist(ARRAY_TO_BIN,BINS_TO_USE)\n",
    "```"
   ]
  },
  {
   "cell_type": "markdown",
   "metadata": {
    "slideshow": {
     "slide_type": "slide"
    }
   },
   "source": [
    "### Figure out how the function works and report back to the class\n",
    "+ What the function does\n",
    "+ Arguments normal people would care about\n",
    "+ What it returns"
   ]
  },
  {
   "cell_type": "code",
   "execution_count": null,
   "metadata": {
    "slideshow": {
     "slide_type": "-"
    }
   },
   "outputs": [],
   "source": [
    "np.random.normal\n",
    "np.random.binomial\n",
    "np.random.uniform\n",
    "np.random.poisson\n",
    "np.random.choice\n",
    "np.random.shuffle"
   ]
  },
  {
   "cell_type": "markdown",
   "metadata": {
    "slideshow": {
     "slide_type": "slide"
    }
   },
   "source": [
    "#### Calculate:\n",
    "+ 1000 random samples from a normal distribution with a mean of 5 and a standard deviation of 2. \n",
    "+ Create a histogram with a bin size of 1. "
   ]
  },
  {
   "cell_type": "code",
   "execution_count": null,
   "metadata": {
    "slideshow": {
     "slide_type": "fragment"
    }
   },
   "outputs": [],
   "source": [
    "x = np.random.normal(5,2,size=1000)\n",
    "counts, edges, _ = plt.hist(x,bins=range(-15,15))\n",
    "for i in range(len(counts)):\n",
    "    print(edges[i],counts[i])"
   ]
  }
 ],
 "metadata": {
  "celltoolbar": "Slideshow",
  "kernelspec": {
   "display_name": "Python 3",
   "language": "python",
   "name": "python3"
  },
  "language_info": {
   "codemirror_mode": {
    "name": "ipython",
    "version": 3
   },
   "file_extension": ".py",
   "mimetype": "text/x-python",
   "name": "python",
   "nbconvert_exporter": "python",
   "pygments_lexer": "ipython3",
   "version": "3.6.6"
  }
 },
 "nbformat": 4,
 "nbformat_minor": 1
}
