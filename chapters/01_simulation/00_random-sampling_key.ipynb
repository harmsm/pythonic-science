{
 "cells": [
  {
   "cell_type": "markdown",
   "metadata": {
    "slideshow": {
     "slide_type": "slide"
    }
   },
   "source": [
    "You are trying to measure a difference in the $K_{D}$ of two proteins binding to a ligand.  From previous experiments, you know that the values of replicate measurements of $K_{D}$ follow a normal distribution with $\\sigma = 2\\ \\mu M$.  How many measurements would you need to make to confidently tell the difference between two proteins with $K_{D} = 10 \\mu M$ and $K_{D} = 12 \\mu M$?"
   ]
  },
  {
   "cell_type": "code",
   "execution_count": 1,
   "metadata": {
    "slideshow": {
     "slide_type": "slide"
    }
   },
   "outputs": [
    {
     "data": {
      "text/plain": [
       "[<matplotlib.lines.Line2D at 0x113d90438>]"
      ]
     },
     "execution_count": 1,
     "metadata": {},
     "output_type": "execute_result"
    },
    {
     "data": {
      "image/png": "[encoded data removed]",
      "text/plain": [
       "<Figure size 432x288 with 1 Axes>"
      ]
     },
     "metadata": {
      "needs_background": "light"
     },
     "output_type": "display_data"
    }
   ],
   "source": [
    "%matplotlib inline\n",
    "from matplotlib import pyplot as plt \n",
    "import numpy as np\n",
    "from scipy import stats\n",
    "\n",
    "replicates = range(2,50)\n",
    "p_values = []\n",
    "for i in replicates:\n",
    "    measure_one = np.random.normal(10,2,i)\n",
    "    measure_two = np.random.normal(12,2,i)\n",
    "    \n",
    "    p_values.append(stats.ttest_ind(measure_one,measure_two)[1])\n",
    "\n",
    "plt.plot(replicates,p_values)"
   ]
  },
  {
   "cell_type": "markdown",
   "metadata": {
    "slideshow": {
     "slide_type": "slide"
    }
   },
   "source": [
    "\n",
    "### Goals\n",
    "+ Know how to use basic `numpy.random` functions to sample from distributions\n",
    "+ Begin to understand how to write a simulation to probe possible experimental outcomes\n",
    "\n",
    "\n"
   ]
  },
  {
   "cell_type": "markdown",
   "metadata": {
    "slideshow": {
     "slide_type": "slide"
    }
   },
   "source": [
    "### Create a new notebook with this cell at the top"
   ]
  },
  {
   "cell_type": "code",
   "execution_count": 2,
   "metadata": {
    "slideshow": {
     "slide_type": "-"
    }
   },
   "outputs": [],
   "source": [
    "%matplotlib inline\n",
    "import numpy as np\n",
    "from matplotlib import pyplot as plt"
   ]
  },
  {
   "cell_type": "markdown",
   "metadata": {
    "slideshow": {
     "slide_type": "slide"
    }
   },
   "source": [
    "### Figure out how to use `np.random.choice` to simulate 1,000 tosses of a fair coin"
   ]
  },
  {
   "cell_type": "code",
   "execution_count": 3,
   "metadata": {
    "slideshow": {
     "slide_type": "fragment"
    }
   },
   "outputs": [],
   "source": [
    "# best solution\n",
    "tosses = np.random.choice([0,1],1000)"
   ]
  },
  {
   "cell_type": "code",
   "execution_count": 4,
   "metadata": {
    "slideshow": {
     "slide_type": "fragment"
    }
   },
   "outputs": [],
   "source": [
    "# okay solution\n",
    "tosses = []\n",
    "for i in range(1000):\n",
    "    tosses.append(np.random.choice([0,1]))"
   ]
  },
  {
   "cell_type": "markdown",
   "metadata": {
    "slideshow": {
     "slide_type": "slide"
    }
   },
   "source": [
    "### np.random uses a \"pseudorandom\" number generator to simulate choices\n",
    "\n",
    "+ String of numbers that has the same statistical properties as random numbers\n",
    "+ Numbers are *actually* generated deterministically"
   ]
  },
  {
   "cell_type": "markdown",
   "metadata": {
    "slideshow": {
     "slide_type": "slide"
    }
   },
   "source": [
    "#### Numbers *look* random..."
   ]
  },
  {
   "cell_type": "code",
   "execution_count": 5,
   "metadata": {
    "slideshow": {
     "slide_type": "-"
    }
   },
   "outputs": [
    {
     "data": {
      "text/plain": [
       "(array([10130., 10188.,  9842., 10102.,  9831.,  9938., 10090.,  9994.,\n",
       "        10089.,  9796.]),\n",
       " array([9.37634353e-06, 1.00007002e-01, 2.00004627e-01, 3.00002253e-01,\n",
       "        3.99999878e-01, 4.99997504e-01, 5.99995129e-01, 6.99992754e-01,\n",
       "        7.99990380e-01, 8.99988005e-01, 9.99985631e-01]),\n",
       " <a list of 10 Patch objects>)"
      ]
     },
     "execution_count": 5,
     "metadata": {},
     "output_type": "execute_result"
    },
    {
     "data": {
      "image/png": "[encoded data removed]",
      "text/plain": [
       "<Figure size 432x288 with 1 Axes>"
      ]
     },
     "metadata": {
      "needs_background": "light"
     },
     "output_type": "display_data"
    }
   ],
   "source": [
    "numbers = np.random.random(100000)\n",
    "plt.hist(numbers)"
   ]
  },
  {
   "cell_type": "markdown",
   "metadata": {
    "slideshow": {
     "slide_type": "slide"
    }
   },
   "source": [
    "#### But numbers are *actually* deterministic..."
   ]
  },
  {
   "cell_type": "code",
   "execution_count": 6,
   "metadata": {
    "slideshow": {
     "slide_type": "-"
    }
   },
   "outputs": [],
   "source": [
    "def simple_psuedo_random(current_value,\n",
    "                         multiplier=13110243,\n",
    "                         divisor=13132):\n",
    "\n",
    "    return current_value*multiplier % divisor  "
   ]
  },
  {
   "cell_type": "code",
   "execution_count": 7,
   "metadata": {
    "scrolled": false,
    "slideshow": {
     "slide_type": "fragment"
    }
   },
   "outputs": [
    {
     "data": {
      "text/plain": [
       "(array([105., 105., 107.,  91.,  93.,  90.,  91., 105., 107., 106.]),\n",
       " array([  160. ,  1441.2,  2722.4,  4003.6,  5284.8,  6566. ,  7847.2,\n",
       "         9128.4, 10409.6, 11690.8, 12972. ]),\n",
       " <a list of 10 Patch objects>)"
      ]
     },
     "execution_count": 7,
     "metadata": {},
     "output_type": "execute_result"
    },
    {
     "data": {
      "image/png": "[encoded data removed]",
      "text/plain": [
       "<Figure size 432x288 with 1 Axes>"
      ]
     },
     "metadata": {
      "needs_background": "light"
     },
     "output_type": "display_data"
    }
   ],
   "source": [
    "seed = 10218888\n",
    "\n",
    "out = []\n",
    "current = seed\n",
    "for i in range(1000):\n",
    "    current = simple_psuedo_random(current)\n",
    "    out.append(current)\n",
    "\n",
    "plt.hist(out)"
   ]
  },
  {
   "cell_type": "markdown",
   "metadata": {
    "slideshow": {
     "slide_type": "slide"
    }
   },
   "source": [
    "### python uses the Mersenne Twister to generate pseudorandom numbers"
   ]
  },
  {
   "cell_type": "markdown",
   "metadata": {
    "slideshow": {
     "slide_type": "-"
    }
   },
   "source": [
    "![mersennetwister](https://upload.wikimedia.org/wikipedia/commons/b/b5/Mersenne_Twister_visualisation.svg)"
   ]
  },
  {
   "cell_type": "markdown",
   "metadata": {
    "slideshow": {
     "slide_type": "slide"
    }
   },
   "source": [
    "### What does the `seed` do? "
   ]
  },
  {
   "cell_type": "code",
   "execution_count": 8,
   "metadata": {
    "slideshow": {
     "slide_type": "-"
    }
   },
   "outputs": [],
   "source": [
    "seed = 1021888\n",
    "\n",
    "out = []\n",
    "current = seed\n",
    "for i in range(1000):\n",
    "    current = simple_psuedo_random(current)\n",
    "    out.append(current)\n"
   ]
  },
  {
   "cell_type": "markdown",
   "metadata": {
    "slideshow": {
     "slide_type": "slide"
    }
   },
   "source": [
    "### What will we see if I run this cell twice in a row? "
   ]
  },
  {
   "cell_type": "code",
   "execution_count": 9,
   "metadata": {
    "slideshow": {
     "slide_type": "-"
    }
   },
   "outputs": [
    {
     "name": "stdout",
     "output_type": "stream",
     "text": [
      "[0.03849959 0.49506416 0.29718791 0.65863902 0.62181365 0.51360621\n",
      " 0.13644128 0.76342386 0.54459614 0.98568953]\n"
     ]
    }
   ],
   "source": [
    "s1 = np.random.random(10)\n",
    "print(s1)\n"
   ]
  },
  {
   "cell_type": "markdown",
   "metadata": {
    "slideshow": {
     "slide_type": "slide"
    }
   },
   "source": [
    "### What will we see if I run this cell twice in a row? "
   ]
  },
  {
   "cell_type": "code",
   "execution_count": 10,
   "metadata": {
    "slideshow": {
     "slide_type": "-"
    }
   },
   "outputs": [
    {
     "name": "stdout",
     "output_type": "stream",
     "text": [
      "[0.44616627 0.29423635 0.44965624 0.40469388 0.35328769 0.76140219\n",
      " 0.15757785 0.69331684 0.31833615 0.94897036]\n"
     ]
    }
   ],
   "source": [
    "np.random.seed(5235412)\n",
    "s1 = np.random.random(10)\n",
    "print(s1)\n"
   ]
  },
  {
   "cell_type": "markdown",
   "metadata": {
    "slideshow": {
     "slide_type": "slide"
    }
   },
   "source": [
    "### A `seed` lets you specify which pseudo-random numbers you will use.  \n",
    "+ If you use the same seed, you will get identical samples. \n",
    "+ If you use a different seed, you will get wildly different samples."
   ]
  },
  {
   "cell_type": "markdown",
   "metadata": {
    "slideshow": {
     "slide_type": "slide"
    }
   },
   "source": [
    "### matplotlib.pyplot.hist"
   ]
  },
  {
   "cell_type": "code",
   "execution_count": 11,
   "metadata": {
    "scrolled": true,
    "slideshow": {
     "slide_type": "slide"
    }
   },
   "outputs": [
    {
     "data": {
      "image/png": "[encoded data removed]",
      "text/plain": [
       "<Figure size 432x288 with 1 Axes>"
      ]
     },
     "metadata": {
      "needs_background": "light"
     },
     "output_type": "display_data"
    }
   ],
   "source": [
    "numbers = np.random.normal(size=10000)\n",
    "counts, bins, junk = plt.hist(numbers,\n",
    "                              range(-10,10))\n"
   ]
  },
  {
   "cell_type": "markdown",
   "metadata": {
    "slideshow": {
     "slide_type": "slide"
    }
   },
   "source": [
    "#### Basic histogram plotting syntax\n",
    "\n",
    "```python\n",
    "COUNTS, BIN_EDGES, GRAPHICS_BIT = plt.hist(ARRAY_TO_BIN,BINS_TO_USE)\n",
    "```"
   ]
  },
  {
   "cell_type": "markdown",
   "metadata": {
    "slideshow": {
     "slide_type": "slide"
    }
   },
   "source": [
    "### Figure out how the function works and report back to the class\n",
    "+ What the function does\n",
    "+ Arguments normal people would care about\n",
    "+ What it returns"
   ]
  },
  {
   "cell_type": "code",
   "execution_count": 12,
   "metadata": {
    "slideshow": {
     "slide_type": "-"
    }
   },
   "outputs": [
    {
     "data": {
      "text/plain": [
       "<function RandomState.shuffle>"
      ]
     },
     "execution_count": 12,
     "metadata": {},
     "output_type": "execute_result"
    }
   ],
   "source": [
    "\n",
    "np.random.normal     \n",
    "# returns number(s) drawn from normal distribution.  \n",
    "# arguments of interest: loc (mean), scale (std deviation), size (number of samples)\n",
    "\n",
    "np.random.binomial\n",
    "# returns number(s) drawn from binomial distribution.  \n",
    "# arguments of interest: n, p (parameters for binomial), size (number of samples)\n",
    "\n",
    "np.random.uniform\n",
    "# returns number(s) drawn from uniform distribution.  \n",
    "# arguments of interest: low (lowest possible number), high (highest possible number),  size (number of samples)\n",
    "\n",
    "np.random.poisson\n",
    "# returns number(s) drawn from a poission distribution\n",
    "# arguments of interest: lam (lambda), size (number of samples)\n",
    "\n",
    "np.random.choice\n",
    "# chooses a random number from a list or array\n",
    "# arguments of interest: a (array), size (number to draw), replace (whether or not to draw with replacement), p (weighted probability of each entry in array)\n",
    "\n",
    "np.random.shuffle\n",
    "# shuffle the order of entries in an array\n",
    "# it does not return anything, just changes the array in place.  This means:\n",
    "# a = np.array([1,2,3])\n",
    "# np.random.shuffle(a)\n",
    "# print(a) --> [3,1,2]"
   ]
  },
  {
   "cell_type": "markdown",
   "metadata": {
    "slideshow": {
     "slide_type": "slide"
    }
   },
   "source": [
    "#### Calculate:\n",
    "+ 1000 random samples from a normal distribution with a mean of 5 and a standard deviation of 2. \n",
    "+ Create a histogram with a bin size of 1. "
   ]
  },
  {
   "cell_type": "code",
   "execution_count": 13,
   "metadata": {
    "slideshow": {
     "slide_type": "fragment"
    }
   },
   "outputs": [
    {
     "name": "stdout",
     "output_type": "stream",
     "text": [
      "-15 0.0\n",
      "-14 0.0\n",
      "-13 0.0\n",
      "-12 0.0\n",
      "-11 0.0\n",
      "-10 0.0\n",
      "-9 0.0\n",
      "-8 0.0\n",
      "-7 0.0\n",
      "-6 0.0\n",
      "-5 0.0\n",
      "-4 0.0\n",
      "-3 0.0\n",
      "-2 2.0\n",
      "-1 6.0\n",
      "0 14.0\n",
      "1 44.0\n",
      "2 82.0\n",
      "3 159.0\n",
      "4 211.0\n",
      "5 210.0\n",
      "6 139.0\n",
      "7 76.0\n",
      "8 38.0\n",
      "9 16.0\n",
      "10 2.0\n",
      "11 1.0\n",
      "12 0.0\n",
      "13 0.0\n"
     ]
    },
    {
     "data": {
      "image/png": "[encoded data removed]",
      "text/plain": [
       "<Figure size 432x288 with 1 Axes>"
      ]
     },
     "metadata": {
      "needs_background": "light"
     },
     "output_type": "display_data"
    }
   ],
   "source": [
    "x = np.random.normal(5,2,size=1000)\n",
    "counts, edges, _ = plt.hist(x,bins=range(-15,15))\n",
    "for i in range(len(counts)):\n",
    "    print(edges[i],counts[i])"
   ]
  },
  {
   "cell_type": "code",
   "execution_count": null,
   "metadata": {},
   "outputs": [],
   "source": []
  }
 ],
 "metadata": {
  "celltoolbar": "Slideshow",
  "kernelspec": {
   "display_name": "Python 3",
   "language": "python",
   "name": "python3"
  },
  "language_info": {
   "codemirror_mode": {
    "name": "ipython",
    "version": 3
   },
   "file_extension": ".py",
   "mimetype": "text/x-python",
   "name": "python",
   "nbconvert_exporter": "python",
   "pygments_lexer": "ipython3",
   "version": "3.7.3"
  }
 },
 "nbformat": 4,
 "nbformat_minor": 1
}
