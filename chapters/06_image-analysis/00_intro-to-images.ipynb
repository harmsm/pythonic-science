{
 "cells": [
  {
   "cell_type": "markdown",
   "metadata": {
    "slideshow": {
     "slide_type": "slide"
    }
   },
   "source": [
    "## Manipulating Images in Python"
   ]
  },
  {
   "cell_type": "code",
   "execution_count": null,
   "metadata": {
    "collapsed": true,
    "slideshow": {
     "slide_type": "slide"
    }
   },
   "outputs": [],
   "source": [
    "%matplotlib inline\n",
    "from matplotlib import pyplot as plt\n",
    "import numpy as np"
   ]
  },
  {
   "cell_type": "markdown",
   "metadata": {
    "slideshow": {
     "slide_type": "slide"
    }
   },
   "source": [
    "### The Python Image Library (PIL)"
   ]
  },
  {
   "cell_type": "code",
   "execution_count": null,
   "metadata": {
    "collapsed": true,
    "slideshow": {
     "slide_type": "-"
    }
   },
   "outputs": [],
   "source": [
    "from PIL import Image"
   ]
  },
  {
   "cell_type": "markdown",
   "metadata": {
    "slideshow": {
     "slide_type": "slide"
    }
   },
   "source": [
    "### You can load images as `Image` instances"
   ]
  },
  {
   "cell_type": "code",
   "execution_count": null,
   "metadata": {
    "collapsed": false,
    "slideshow": {
     "slide_type": "-"
    }
   },
   "outputs": [],
   "source": [
    "img = Image.open(\"img/colonies.jpg\")\n",
    "plt.imshow(img)"
   ]
  },
  {
   "cell_type": "markdown",
   "metadata": {
    "slideshow": {
     "slide_type": "slide"
    }
   },
   "source": [
    "### `Image` instances can be interconverted with `numpy` arrays"
   ]
  },
  {
   "cell_type": "code",
   "execution_count": null,
   "metadata": {
    "collapsed": false,
    "slideshow": {
     "slide_type": "-"
    }
   },
   "outputs": [],
   "source": [
    "arr = np.array(img)\n",
    "print(\"x,y,RGB ->\",arr.shape)"
   ]
  },
  {
   "cell_type": "markdown",
   "metadata": {
    "slideshow": {
     "slide_type": "slide"
    }
   },
   "source": [
    "### Values are represented for different channels in bits\n",
    "+ 8-bit channels have $2^8 = 256$ possible values. \n",
    "+ 16-bit channels have $2^16 = 65,6536$ possible values "
   ]
  },
  {
   "cell_type": "markdown",
   "metadata": {
    "slideshow": {
     "slide_type": "slide"
    }
   },
   "source": [
    "### Major formats you'll encounter\n",
    "\n",
    "+ 8-bit grayscale (1 channel, 0-255). \n",
    "+ 8-bit color (3 channels, each 0-255)\n",
    "+ 8-bit RGBA (4 channels, each 0-255)\n",
    "+ 16-bit grayscale (1 channel, 0-65535)\n",
    "+ 16-bit color (3 channels, each 0-65535)\n",
    "+ 15-bit RGBA (4 channels, each 0-65535)\n",
    "\n",
    "By convention, channels are arranged:\n",
    "Red, Green, Blue, Transparency"
   ]
  },
  {
   "cell_type": "markdown",
   "metadata": {
    "slideshow": {
     "slide_type": "slide"
    }
   },
   "source": [
    "#### What kind of image did we just read in?"
   ]
  },
  {
   "cell_type": "markdown",
   "metadata": {
    "slideshow": {
     "slide_type": "fragment"
    }
   },
   "source": [
    "<span style=\"color:blue\">8-bit color</span> (3 channels with 256 possible values)"
   ]
  },
  {
   "cell_type": "markdown",
   "metadata": {
    "slideshow": {
     "slide_type": "slide"
    }
   },
   "source": [
    "#### What does the following code do?"
   ]
  },
  {
   "cell_type": "code",
   "execution_count": null,
   "metadata": {
    "collapsed": false,
    "slideshow": {
     "slide_type": "-"
    }
   },
   "outputs": [],
   "source": [
    "arr = np.array(img)\n",
    "plt.imshow(arr)\n",
    "plt.show()\n",
    "arr[:,:,1] = 255\n",
    "plt.imshow(arr)"
   ]
  },
  {
   "cell_type": "markdown",
   "metadata": {
    "slideshow": {
     "slide_type": "slide"
    }
   },
   "source": [
    "Sets the *Green* channel to 255, leaving the other channels alone."
   ]
  },
  {
   "cell_type": "markdown",
   "metadata": {
    "slideshow": {
     "slide_type": "slide"
    }
   },
   "source": [
    "#### Can convert arrays back to images and save"
   ]
  },
  {
   "cell_type": "code",
   "execution_count": null,
   "metadata": {
    "collapsed": false,
    "slideshow": {
     "slide_type": "-"
    }
   },
   "outputs": [],
   "source": [
    "x = Image.fromarray(arr)\n",
    "x.save('junk.png')"
   ]
  },
  {
   "cell_type": "markdown",
   "metadata": {
    "slideshow": {
     "slide_type": "slide"
    }
   },
   "source": [
    "### One powerful method is to create a *mask*"
   ]
  },
  {
   "cell_type": "code",
   "execution_count": null,
   "metadata": {
    "collapsed": false,
    "slideshow": {
     "slide_type": "-"
    }
   },
   "outputs": [],
   "source": [
    "arr = np.array(img)\n",
    "low_red = arr[:,:,0] < 50 \n",
    "\n",
    "arr[:,:,0] = low_red*255\n",
    "arr[:,:,1] = low_red*255\n",
    "arr[:,:,2] = low_red*255\n",
    "\n",
    "plt.imshow(img)\n",
    "plt.show()\n",
    "plt.imshow(arr)"
   ]
  },
  {
   "cell_type": "markdown",
   "metadata": {
    "slideshow": {
     "slide_type": "slide"
    }
   },
   "source": [
    "### You can combine masks with \"*\" (and) and \"+\" (or)\n",
    "\n",
    "Predict the output of the next cell."
   ]
  },
  {
   "cell_type": "code",
   "execution_count": null,
   "metadata": {
    "collapsed": false,
    "slideshow": {
     "slide_type": "-"
    }
   },
   "outputs": [],
   "source": [
    "print(\"True and True =\", bool(True*True))\n",
    "print(\"False and True =\", bool(False*True))\n",
    "print(\"Flase and False =\",bool(False*False))\n",
    "\n",
    "print(\"True or False =\",bool(True + False))\n",
    "print(\"True or True =\",bool(True + True))\n",
    "print(\"False or False =\",bool(False + False))\n"
   ]
  },
  {
   "cell_type": "markdown",
   "metadata": {
    "slideshow": {
     "slide_type": "slide"
    }
   },
   "source": [
    "### Combined mask\n",
    "\n",
    "What will the following code do?"
   ]
  },
  {
   "cell_type": "code",
   "execution_count": null,
   "metadata": {
    "collapsed": false,
    "scrolled": false,
    "slideshow": {
     "slide_type": "slide"
    }
   },
   "outputs": [],
   "source": [
    "arr = np.array(img)\n",
    "\n",
    "red = arr[:,:,0] < 2\n",
    "green = arr[:,:,1] > 5\n",
    "blue = arr[:,:,2] < 5\n",
    "mask = red*green*blue\n",
    "\n",
    "new_arr = np.zeros(arr.shape,dtype=arr.dtype)\n",
    "new_arr[:,:,1] = mask*255\n",
    "\n",
    "plt.imshow(img)\n",
    "plt.show()\n",
    "plt.imshow(new_arr)"
   ]
  },
  {
   "cell_type": "markdown",
   "metadata": {
    "slideshow": {
     "slide_type": "slide"
    }
   },
   "source": [
    "### Find pixels with some green but little red or blue, then set those to green.  All other pixels are black."
   ]
  },
  {
   "cell_type": "markdown",
   "metadata": {
    "slideshow": {
     "slide_type": "slide"
    }
   },
   "source": [
    "Write a block of code that reads in the image, sets any pixel with red > 20 to (0,0,0), and then writes out a new .png image."
   ]
  },
  {
   "cell_type": "code",
   "execution_count": null,
   "metadata": {
    "collapsed": false
   },
   "outputs": [],
   "source": [
    "img = Image.open(\"img/colonies.jpg\")\n",
    "arr = np.array(img)\n",
    "mask = arr[:,:,0] > 20\n",
    "arr[:,:,0] = 255 - mask*255\n",
    "arr[:,:,1] = 255 - mask*255\n",
    "arr[:,:,2] = 255 - mask*255\n",
    "\n",
    "plt.imshow(arr)\n",
    "img2 = Image.fromarray(arr)\n",
    "img2.save(\"junk.png\")\n"
   ]
  },
  {
   "cell_type": "code",
   "execution_count": null,
   "metadata": {
    "collapsed": true
   },
   "outputs": [],
   "source": []
  }
 ],
 "metadata": {
  "celltoolbar": "Slideshow",
  "kernelspec": {
   "display_name": "Python 3",
   "language": "python",
   "name": "python3"
  },
  "language_info": {
   "codemirror_mode": {
    "name": "ipython",
    "version": 3
   },
   "file_extension": ".py",
   "mimetype": "text/x-python",
   "name": "python",
   "nbconvert_exporter": "python",
   "pygments_lexer": "ipython3",
   "version": "3.5.2"
  }
 },
 "nbformat": 4,
 "nbformat_minor": 1
}
