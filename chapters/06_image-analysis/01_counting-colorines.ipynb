{
 "cells": [
  {
   "cell_type": "markdown",
   "metadata": {
    "slideshow": {
     "slide_type": "slide"
    }
   },
   "source": [
    "## Counting Colonies with scikit-image"
   ]
  },
  {
   "cell_type": "code",
   "execution_count": null,
   "metadata": {
    "collapsed": false,
    "slideshow": {
     "slide_type": "slide"
    }
   },
   "outputs": [],
   "source": [
    "%matplotlib inline\n",
    "import matplotlib.pyplot as plt\n",
    "import numpy as np\n",
    "from PIL import Image\n",
    "\n",
    "from skimage.feature import blob_dog, blob_log, blob_doh\n",
    "from skimage.color import rgb2gray"
   ]
  },
  {
   "cell_type": "markdown",
   "metadata": {
    "slideshow": {
     "slide_type": "slide"
    }
   },
   "source": [
    "### Load in the plate image"
   ]
  },
  {
   "cell_type": "code",
   "execution_count": null,
   "metadata": {
    "collapsed": false,
    "slideshow": {
     "slide_type": "-"
    }
   },
   "outputs": [],
   "source": [
    "image = np.array(Image.open(\"img/colonies.jpg\"))\n",
    "center = np.array(image.shape[:2])/2\n",
    "plt.imshow(image)"
   ]
  },
  {
   "cell_type": "markdown",
   "metadata": {
    "slideshow": {
     "slide_type": "slide"
    }
   },
   "source": [
    "### Construct a mask to remove the plate itself"
   ]
  },
  {
   "cell_type": "code",
   "execution_count": null,
   "metadata": {
    "collapsed": false,
    "slideshow": {
     "slide_type": "-"
    }
   },
   "outputs": [],
   "source": [
    "cutoff = 550\n",
    "sq_cutoff = cutoff**2\n",
    "\n",
    "mask = np.zeros(image.shape[:2],dtype=np.bool)\n",
    "for i in range(image.shape[0]):\n",
    "    d_i = (i - center[0])**2\n",
    "    \n",
    "    for j in range(image.shape[1]):\n",
    "        d_j = (j - center[1])**2\n",
    "        \n",
    "        # If this pixel is too far away from center mask it\n",
    "        if d_i + d_j > sq_cutoff:\n",
    "            mask[i,j] = True"
   ]
  },
  {
   "cell_type": "markdown",
   "metadata": {
    "slideshow": {
     "slide_type": "fragment"
    }
   },
   "source": [
    "Creates a mask that is False if pixel is inside the plate and True if something is outside the plate."
   ]
  },
  {
   "cell_type": "markdown",
   "metadata": {
    "slideshow": {
     "slide_type": "slide"
    }
   },
   "source": [
    "### Apply mask\n",
    "\n",
    "(Note cool different way to apply the mask)."
   ]
  },
  {
   "cell_type": "code",
   "execution_count": null,
   "metadata": {
    "collapsed": false,
    "slideshow": {
     "slide_type": "-"
    }
   },
   "outputs": [],
   "source": [
    "image[mask,0] = 255\n",
    "image[mask,1] = 255\n",
    "image[mask,2] = 255\n",
    "plt.imshow(image)"
   ]
  },
  {
   "cell_type": "markdown",
   "metadata": {
    "slideshow": {
     "slide_type": "slide"
    }
   },
   "source": [
    "### Now check out scikit-image"
   ]
  },
  {
   "cell_type": "markdown",
   "metadata": {
    "slideshow": {
     "slide_type": "slide"
    }
   },
   "source": [
    "### Lay some ground work"
   ]
  },
  {
   "cell_type": "code",
   "execution_count": null,
   "metadata": {
    "collapsed": false,
    "slideshow": {
     "slide_type": "-"
    }
   },
   "outputs": [],
   "source": [
    "# Convert image to grayscale\n",
    "image_gray = rgb2gray(image)\n",
    "plt.imshow(image_gray,cmap=\"gray\")"
   ]
  },
  {
   "cell_type": "code",
   "execution_count": null,
   "metadata": {
    "collapsed": false,
    "slideshow": {
     "slide_type": "slide"
    }
   },
   "outputs": [],
   "source": [
    "def plot_blobs(img,blobs):\n",
    "    \"\"\"\n",
    "    Plot a set of blobs on an image.\n",
    "    \"\"\"\n",
    "    \n",
    "    fig = plt.figure()\n",
    "    ax = fig.add_subplot(1,1,1) \n",
    "\n",
    "    ax.imshow(img, interpolation='nearest')\n",
    "    for blob in blobs:\n",
    "        y, x, r = blob\n",
    "        c = plt.Circle((x, y), r, color=\"red\", linewidth=2, fill=False)\n",
    "        ax.add_patch(c)"
   ]
  },
  {
   "cell_type": "code",
   "execution_count": null,
   "metadata": {
    "collapsed": false,
    "slideshow": {
     "slide_type": "slide"
    }
   },
   "outputs": [],
   "source": [
    "# blob_log\n",
    "blobs_log = blob_log(image_gray, max_sigma=30, num_sigma=10, threshold=.1)\n",
    "blobs_log[:, 2] = blobs_log[:, 2] * np.sqrt(2)\n",
    "        \n",
    "plot_blobs(image,blobs_log)"
   ]
  },
  {
   "cell_type": "code",
   "execution_count": null,
   "metadata": {
    "collapsed": false,
    "slideshow": {
     "slide_type": "slide"
    }
   },
   "outputs": [],
   "source": [
    "# blob_dog\n",
    "blobs_dog = blob_dog(image_gray, max_sigma=30, threshold=.1)\n",
    "blobs_dog[:, 2] = blobs_dog[:, 2] * np.sqrt(2)\n",
    "\n",
    "plot_blobs(image,blobs_dog)"
   ]
  },
  {
   "cell_type": "code",
   "execution_count": null,
   "metadata": {
    "collapsed": false,
    "slideshow": {
     "slide_type": "slide"
    }
   },
   "outputs": [],
   "source": [
    "# blob_doh\n",
    "blobs_doh = blob_doh(image_gray, max_sigma=30, threshold=.01)\n",
    "plot_blobs(image,blobs_doh)"
   ]
  },
  {
   "cell_type": "markdown",
   "metadata": {
    "slideshow": {
     "slide_type": "slide"
    }
   },
   "source": [
    "### Caveat LOG and DOG methods assume you are looking for bright spots.  We could improve by inverting image.  (but it was slow for demo)"
   ]
  },
  {
   "cell_type": "markdown",
   "metadata": {
    "slideshow": {
     "slide_type": "slide"
    }
   },
   "source": [
    "### Get rid of big blobs"
   ]
  },
  {
   "cell_type": "markdown",
   "metadata": {
    "slideshow": {
     "slide_type": "-"
    }
   },
   "source": [
    "+ Write a function that gets rid of any blob with a radius bigger than 15.  Each blob is a tuple:\n",
    "    \n",
    "    ```blob1 = (x,y,r)```"
   ]
  },
  {
   "cell_type": "code",
   "execution_count": null,
   "metadata": {
    "collapsed": false,
    "scrolled": false,
    "slideshow": {
     "slide_type": "slide"
    }
   },
   "outputs": [],
   "source": [
    "## KEY\n",
    "\n",
    "def filter_blobs(blobs,r_cutoff=15):\n",
    "    \n",
    "    new_blobs = []\n",
    "    for b in blobs:\n",
    "        if b[2] < r_cutoff:\n",
    "            new_blobs.append(b)\n",
    "            \n",
    "    return new_blobs\n",
    "\n",
    "new_blobs = filter_blobs(blobs_doh)\n",
    "plot_blobs(image,new_blobs)"
   ]
  },
  {
   "cell_type": "markdown",
   "metadata": {
    "slideshow": {
     "slide_type": "slide"
    }
   },
   "source": [
    "### Now get the color of each blob"
   ]
  },
  {
   "cell_type": "code",
   "execution_count": null,
   "metadata": {
    "collapsed": true,
    "slideshow": {
     "slide_type": "-"
    }
   },
   "outputs": [],
   "source": [
    "def get_blob_color(image,blob):\n",
    "\n",
    "    # Grab circle center (a,b) and radius (r)\n",
    "    a, b, r = blob\n",
    "    \n",
    "    # Grab total size of \n",
    "    nx, ny = image.shape[0:2]\n",
    "    \n",
    "    # Create a *circular* mask.  \n",
    "    y,x = np.ogrid[-a:nx-a,-b:ny-b]\n",
    "    mask = x*x + y*y <= r*r\n",
    "    \n",
    "    num_pixels = np.sum(mask)\n",
    "    red = np.sum(image[mask,0])/num_pixels\n",
    "    green = np.sum(image[mask,1])/num_pixels\n",
    "    blue = np.sum(image[mask,1])/num_pixels\n",
    "    \n",
    "    return red, green, blue"
   ]
  },
  {
   "cell_type": "code",
   "execution_count": null,
   "metadata": {
    "collapsed": false,
    "scrolled": false,
    "slideshow": {
     "slide_type": "slide"
    }
   },
   "outputs": [],
   "source": [
    "blob_colors = []\n",
    "for b in new_blobs:\n",
    "    blob_colors.append(get_blob_color(image,b))"
   ]
  },
  {
   "cell_type": "markdown",
   "metadata": {
    "slideshow": {
     "slide_type": "slide"
    }
   },
   "source": [
    "### Write a function that only takes a blob with an R channel less than 100\n"
   ]
  },
  {
   "cell_type": "code",
   "execution_count": null,
   "metadata": {
    "collapsed": false,
    "scrolled": false
   },
   "outputs": [],
   "source": [
    "## KEY\n",
    "\n",
    "num_not_red = 0\n",
    "num_red = 0\n",
    "for b in blob_colors:\n",
    "    if b[0] < 100:\n",
    "        num_not_red += 1\n",
    "    else:\n",
    "        num_red += 1\n",
    "        \n",
    "print(\"Num not red\",num_not_red)\n",
    "print(\"Num red\",num_red)\n",
    "        "
   ]
  },
  {
   "cell_type": "code",
   "execution_count": null,
   "metadata": {
    "collapsed": true,
    "slideshow": {
     "slide_type": "slide"
    }
   },
   "outputs": [],
   "source": [
    "def plot_colored_results(img,blobs,colors):\n",
    "\n",
    "    fig = plt.figure()\n",
    "    ax = fig.add_subplot(1,1,1) \n",
    "\n",
    "    ax.imshow(img, interpolation='nearest')\n",
    "    for i, blob in enumerate(blobs):\n",
    "        y, x, r = blob\n",
    "        \n",
    "        if colors[i][0] < 100:\n",
    "            color = \"green\"\n",
    "        else:\n",
    "            color = \"gray\"\n",
    "        \n",
    "        c = plt.Circle((x, y), r, color=color, linewidth=2, fill=False)\n",
    "        ax.add_patch(c)"
   ]
  },
  {
   "cell_type": "code",
   "execution_count": null,
   "metadata": {
    "collapsed": false,
    "slideshow": {
     "slide_type": "slide"
    }
   },
   "outputs": [],
   "source": [
    "plt.imshow(image)\n",
    "plot_colored_results(image,new_blobs,blob_colors)"
   ]
  }
 ],
 "metadata": {
  "celltoolbar": "Slideshow",
  "kernelspec": {
   "display_name": "Python 3",
   "language": "python",
   "name": "python3"
  },
  "language_info": {
   "codemirror_mode": {
    "name": "ipython",
    "version": 3
   },
   "file_extension": ".py",
   "mimetype": "text/x-python",
   "name": "python",
   "nbconvert_exporter": "python",
   "pygments_lexer": "ipython3",
   "version": "3.5.2"
  }
 },
 "nbformat": 4,
 "nbformat_minor": 1
}
