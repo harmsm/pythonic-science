{
 "cells": [
  {
   "cell_type": "code",
   "execution_count": 1,
   "metadata": {
    "slideshow": {
     "slide_type": "slide"
    }
   },
   "outputs": [],
   "source": [
    "%matplotlib inline\n",
    "import numpy as np\n",
    "import matplotlib.pylab as plt"
   ]
  },
  {
   "cell_type": "code",
   "execution_count": 2,
   "metadata": {
    "slideshow": {
     "slide_type": "-"
    }
   },
   "outputs": [],
   "source": [
    "import scipy.optimize\n",
    "import pandas as pd"
   ]
  },
  {
   "cell_type": "markdown",
   "metadata": {
    "slideshow": {
     "slide_type": "slide"
    }
   },
   "source": [
    "## What does the following code do?"
   ]
  },
  {
   "cell_type": "code",
   "execution_count": 4,
   "metadata": {
    "scrolled": true,
    "slideshow": {
     "slide_type": "-"
    }
   },
   "outputs": [
    {
     "data": {
      "text/plain": [
       "[<matplotlib.lines.Line2D at 0x117ae6e48>]"
      ]
     },
     "execution_count": 4,
     "metadata": {},
     "output_type": "execute_result"
    },
    {
     "data": {
      "image/png": "[encoded data removed]",
      "text/plain": [
       "<Figure size 432x288 with 1 Axes>"
      ]
     },
     "metadata": {
      "needs_background": "light"
     },
     "output_type": "display_data"
    }
   ],
   "source": [
    "d = pd.read_csv(\"data/dataset_0.csv\")\n",
    "plt.plot(d.x,d.y,'o')"
   ]
  },
  {
   "cell_type": "markdown",
   "metadata": {
    "slideshow": {
     "slide_type": "slide"
    }
   },
   "source": [
    "## What does the following code do?"
   ]
  },
  {
   "cell_type": "code",
   "execution_count": 5,
   "metadata": {
    "slideshow": {
     "slide_type": "-"
    }
   },
   "outputs": [],
   "source": [
    "def linear(x,a,b):\n",
    "    return a + b*x"
   ]
  },
  {
   "cell_type": "markdown",
   "metadata": {
    "slideshow": {
     "slide_type": "fragment"
    }
   },
   "source": [
    "Defines a linear function of `x` with the slope `a` and the intercept `b`."
   ]
  },
  {
   "cell_type": "markdown",
   "metadata": {
    "slideshow": {
     "slide_type": "slide"
    }
   },
   "source": [
    "## What does the following code do?\n",
    "+ What is the `param` business?\n",
    "+ What is the `y` bit?"
   ]
  },
  {
   "cell_type": "code",
   "execution_count": 6,
   "metadata": {
    "slideshow": {
     "slide_type": "-"
    }
   },
   "outputs": [],
   "source": [
    "def linear(x,a,b):\n",
    "    return a + b*x\n",
    "\n",
    "def linear_r(param,x,y):\n",
    "    return linear(x,param[0],param[1]) - y"
   ]
  },
  {
   "cell_type": "markdown",
   "metadata": {
    "slideshow": {
     "slide_type": "fragment"
    }
   },
   "source": [
    "+ Defines a *residuals* function for `linear` that compares the output of `linear` to whatever's in `y`.  \n",
    "+ `params` holds `a` and `b` in a list."
   ]
  },
  {
   "cell_type": "markdown",
   "metadata": {
    "slideshow": {
     "slide_type": "slide"
    }
   },
   "source": [
    "## What does the following code do?"
   ]
  },
  {
   "cell_type": "code",
   "execution_count": 6,
   "metadata": {
    "slideshow": {
     "slide_type": "-"
    }
   },
   "outputs": [
    {
     "name": "stdout",
     "output_type": "stream",
     "text": [
      "[1.13006323 0.31994236]\n"
     ]
    }
   ],
   "source": [
    "def linear_r(param,x,y):                     # copied from previous cell\n",
    "    return linear(x,param[0],param[1]) - y   # copied from previous cell\n",
    "\n",
    "param_guesses = [0,0]\n",
    "fit = scipy.optimize.least_squares(linear_r,param_guesses,\n",
    "                                   args=(d.x,d.y))\n",
    "fit_a = fit.x[0]\n",
    "fit_b = fit.x[1]\n",
    "sum_of_square_residuals = fit.cost\n",
    "print(fit.x)"
   ]
  },
  {
   "cell_type": "markdown",
   "metadata": {
    "slideshow": {
     "slide_type": "fragment"
    }
   },
   "source": [
    "+ Uses `least_squares` regression to find values of `a` and `b` that minimize `linear_r` given `d.x` and `d.y`.  \n",
    "+ The fit parameters end up in `fit_a` and `fit_b`\n",
    "+ The $SSR$ is stored in `sum_of_square_residuals`"
   ]
  },
  {
   "cell_type": "markdown",
   "metadata": {
    "slideshow": {
     "slide_type": "slide"
    }
   },
   "source": [
    "## What does the following code do?\n",
    "+ What the heck is `linspace`?\n",
    "+ What are we plotting?"
   ]
  },
  {
   "cell_type": "code",
   "execution_count": 8,
   "metadata": {
    "slideshow": {
     "slide_type": "-"
    }
   },
   "outputs": [
    {
     "data": {
      "text/plain": [
       "[<matplotlib.lines.Line2D at 0x118eabd30>]"
      ]
     },
     "execution_count": 8,
     "metadata": {},
     "output_type": "execute_result"
    },
    {
     "data": {
      "image/png": "[encoded data removed]",
      "text/plain": [
       "<Figure size 432x288 with 1 Axes>"
      ]
     },
     "metadata": {
      "needs_background": "light"
     },
     "output_type": "display_data"
    }
   ],
   "source": [
    "x_range = np.linspace(np.min(d.x),np.max(d.x),100)\n",
    "\n",
    "plt.plot(d.x,d.y,\"o\")\n",
    "plt.plot(x_range,linear(x_range,fit_a,fit_b))\n",
    "plt.plot(x_range,linear(x_range,0,0))\n"
   ]
  },
  {
   "cell_type": "markdown",
   "metadata": {
    "slideshow": {
     "slide_type": "slide"
    }
   },
   "source": [
    "## Put together"
   ]
  },
  {
   "cell_type": "code",
   "execution_count": 12,
   "metadata": {},
   "outputs": [
    {
     "name": "stdout",
     "output_type": "stream",
     "text": [
      "4.261679630541931\n"
     ]
    },
    {
     "data": {
      "image/png": "[encoded data removed]",
      "text/plain": [
       "<Figure size 432x288 with 1 Axes>"
      ]
     },
     "metadata": {
      "needs_background": "light"
     },
     "output_type": "display_data"
    }
   ],
   "source": [
    "def linear(x,a,b):\n",
    "    \"\"\"Linear model of x using a (slope) and b (intercept)\"\"\"\n",
    "    return a + b*x\n",
    "\n",
    "def linear_r(param,x,y):\n",
    "    \"\"\"Residuals function for linear\"\"\"\n",
    "    return linear(x,param[0],param[1]) - y\n",
    "\n",
    "# Read data\n",
    "d = pd.read_csv(\"data/dataset_0.csv\")\n",
    "plt.plot(d.x,d.y,'o')\n",
    "\n",
    "# Perform regression\n",
    "param_guesses = [1,1]\n",
    "fit = scipy.optimize.least_squares(linear_r,param_guesses,args=(d.x,d.y))\n",
    "fit_a = fit.x[0]\n",
    "fit_b = fit.x[1]\n",
    "sum_of_square_residuals = fit.cost\n",
    "\n",
    "# Plot result\n",
    "x_range = np.linspace(np.min(d.x),np.max(d.x),100)\n",
    "plt.plot(x_range,linear(x_range,fit_a,fit_b))\n",
    "print(fit.cost)"
   ]
  },
  {
   "cell_type": "markdown",
   "metadata": {
    "slideshow": {
     "slide_type": "slide"
    }
   },
   "source": [
    "<h4>For your assigned model:</h4>\n",
    "<ul>\n",
    "    <li>Write a function and residuals function</li>\n",
    "    <li>Estimate the parameters of the model</li>\n",
    "    <li>Plot the data and the model on the same graph</li>\n",
    "    <li>Write the SSR and number of parameters on the board</li>\n",
    "    <li>If you finish early: plot the residuals and decide if you like your model</li>\n",
    "    <li>If you're still waiting: try to figure out which model best fits dataset_1.csv</li>\n",
    "</ul>\n",
    "<br/>\n",
    "\n",
    "<div style=\"font-size:30px;\" >\n",
    "<div class=\"row\">\n",
    "    <div class=\"col-xs-6\">$y = a \\Big ( \\frac{bx}{1 + bx} \\Big )$</div>\n",
    "    <div class=\"col-xs-6\">$y = a \\Big ( \\frac{bx^{c}}{1 + bx^{c}} \\Big )$</div>\n",
    "</div>\n",
    "\n",
    "<div class=\"row\">\n",
    "    <div class=\"col-xs-6\">$y = a(1 - e^{-bx})$</div>\n",
    "    <div class=\"col-xs-6\">$y = a + bx^{2} + cx^{3}$</div>\n",
    "</div>\n",
    "<div class=\"row\">\n",
    "    <div class=\"col-xs-6\">$y = a + bx^{2} + cx^{3} + dx^{4}$</div>\n",
    "    <div class=\"col-xs-6\">$y = asin(bx + c)$</div>\n",
    "</div>\n",
    "<div class=\"row\">\n",
    "    <div class=\"col-xs-6\">$y = aln(x + b)$</div>\n",
    "    <div class=\"col-xs-6\">$y = aln(bx + c)$</div>\n",
    "</div>\n",
    "\n",
    "\n"
   ]
  },
  {
   "cell_type": "code",
   "execution_count": 17,
   "metadata": {
    "slideshow": {
     "slide_type": "-"
    }
   },
   "outputs": [
    {
     "name": "stdout",
     "output_type": "stream",
     "text": [
      " active_mask: array([0., 0.])\n",
      "        cost: 1.9072136232474737\n",
      "         fun: array([-0.02038712, -0.48263314,  0.08941157, -0.25232949, -0.36369907,\n",
      "        0.71703862, -0.08743779,  0.39544063, -0.13417045,  0.22549019,\n",
      "        0.0652992 , -0.40824685,  0.22458456, -0.00828376, -0.20232713,\n",
      "        0.07960503,  0.06256882, -0.17741506,  0.38291825, -0.51799545,\n",
      "        0.06920244,  0.06649557, -0.13772723, -0.06033942,  0.2910477 ,\n",
      "       -0.09597391,  0.02570988, -0.76140705,  0.3877464 , -0.24929162,\n",
      "       -0.45408894,  0.38237281,  0.33212765, -0.15604666,  0.08244776,\n",
      "        0.59261592,  0.01735885, -0.25825004,  0.23259382, -0.09311806,\n",
      "       -0.13274634])\n",
      "        grad: array([-3.47540366e-09, -2.10284715e-06])\n",
      "         jac: array([[0.        , 0.        ],\n",
      "       [0.06734527, 1.12555666],\n",
      "       [0.12619209, 1.97600254],\n",
      "       [0.17805366, 2.62261021],\n",
      "       [0.22410403, 3.11596479],\n",
      "       [0.26526812, 3.49263601],\n",
      "       [0.30228446, 3.77949345],\n",
      "       [0.33574988, 3.99656503],\n",
      "       [0.36615194, 4.15897089],\n",
      "       [0.39389285, 4.2782571 ],\n",
      "       [0.41930737, 4.36333126],\n",
      "       [0.44267636, 4.42112884],\n",
      "       [0.46423723, 4.45709479],\n",
      "       [0.484192  , 4.47553599],\n",
      "       [0.5027137 , 4.47988215],\n",
      "       [0.51995134, 4.47288093],\n",
      "       [0.53603399, 4.45674583],\n",
      "       [0.55107397, 4.43326873],\n",
      "       [0.56516948, 4.40390652],\n",
      "       [0.57840679, 4.36984828],\n",
      "       [0.59086196, 4.332068  ],\n",
      "       [0.60260232, 4.29136544],\n",
      "       [0.61368769, 4.24839935],\n",
      "       [0.62417139, 4.20371306],\n",
      "       [0.63410111, 4.15775579],\n",
      "       [0.64351963, 4.11089882],\n",
      "       [0.65246545, 4.06344959],\n",
      "       [0.66097326, 4.01566258],\n",
      "       [0.66907448, 3.96774814],\n",
      "       [0.67679757, 3.91988003],\n",
      "       [0.6841684 , 3.87220159],\n",
      "       [0.69121053, 3.82483047],\n",
      "       [0.69794548, 3.77786306],\n",
      "       [0.70439291, 3.73137754],\n",
      "       [0.71057084, 3.68543738],\n",
      "       [0.71649583, 3.64009303],\n",
      "       [0.72218311, 3.59538448],\n",
      "       [0.72764669, 3.5513427 ],\n",
      "       [0.73289953, 3.50799102],\n",
      "       [0.73795357, 3.4653464 ],\n",
      "       [0.7428199 , 3.42342058]])\n",
      "     message: '`ftol` termination condition is satisfied.'\n",
      "        nfev: 4\n",
      "        njev: 4\n",
      "  optimality: 2.102847148965914e-06\n",
      "      status: 2\n",
      "     success: True\n",
      "           x: array([5.17589617, 0.28883257])\n"
     ]
    },
    {
     "data": {
      "image/png": "[encoded data removed]",
      "text/plain": [
       "<Figure size 432x288 with 1 Axes>"
      ]
     },
     "metadata": {
      "needs_background": "light"
     },
     "output_type": "display_data"
    }
   ],
   "source": [
    "def binding(x,a,b):\n",
    "    \"\"\"binding equation with b\"\"\"\n",
    "    \n",
    "    return a*(b*x/(1 + b*x))\n",
    "    \n",
    "\n",
    "def binding_r(param,x,y):\n",
    "    \"\"\"Residuals function for binding\"\"\"\n",
    "    return binding(x,param[0],param[1]) - y\n",
    "\n",
    "# Read data\n",
    "d = pd.read_csv(\"data/dataset_0.csv\")\n",
    "plt.plot(d.x,d.y,'o')\n",
    "\n",
    "# Perform regression\n",
    "param_guesses = [5,0.3]\n",
    "fit = scipy.optimize.least_squares(binding_r,param_guesses,args=(d.x,d.y))\n",
    "fit_a = fit.x[0]\n",
    "fit_b = fit.x[1]\n",
    "sum_of_square_residuals = fit.cost\n",
    "\n",
    "# Plot result\n",
    "x_range = np.linspace(np.min(d.x),np.max(d.x),100)\n",
    "plt.plot(x_range,binding(x_range,fit_a,fit_b))\n",
    "\n",
    "print(fit)\n"
   ]
  },
  {
   "cell_type": "code",
   "execution_count": null,
   "metadata": {},
   "outputs": [],
   "source": []
  },
  {
   "cell_type": "code",
   "execution_count": 19,
   "metadata": {},
   "outputs": [
    {
     "name": "stdout",
     "output_type": "stream",
     "text": [
      "1.9072136232474737\n"
     ]
    },
    {
     "data": {
      "image/png": "[encoded data removed]",
      "text/plain": [
       "<Figure size 432x288 with 1 Axes>"
      ]
     },
     "metadata": {
      "needs_background": "light"
     },
     "output_type": "display_data"
    }
   ],
   "source": [
    "def model(a,b,x):\n",
    "    return a*(b*x/(1 + b*x))\n",
    "\n",
    "#Residuals function\n",
    "def model_r(param,x,y):\n",
    "    return model(param[0],param[1],x) - y\n",
    "\n",
    "# Read data\n",
    "d = pd.read_csv(\"data/dataset_0.csv\")\n",
    "plt.plot(d.x,d.y,'o')\n",
    "\n",
    "# Perform regression\n",
    "param_guesses = [5,0.3]\n",
    "fit = scipy.optimize.least_squares(model_r,param_guesses,args=(d.x,d.y))\n",
    "fit_a = fit.x[0]\n",
    "fit_b = fit.x[1]\n",
    "sum_of_square_residuals = fit.cost\n",
    "\n",
    "# Plot result\n",
    "x_range = np.linspace(np.min(d.x),np.max(d.x),100)\n",
    "plt.plot(x_range,model(x_range,fit_a,fit_b))\n",
    "\n",
    "print(fit.cost)"
   ]
  },
  {
   "cell_type": "code",
   "execution_count": null,
   "metadata": {},
   "outputs": [],
   "source": []
  }
 ],
 "metadata": {
  "celltoolbar": "Slideshow",
  "kernelspec": {
   "display_name": "Python 3",
   "language": "python",
   "name": "python3"
  },
  "language_info": {
   "codemirror_mode": {
    "name": "ipython",
    "version": 3
   },
   "file_extension": ".py",
   "mimetype": "text/x-python",
   "name": "python",
   "nbconvert_exporter": "python",
   "pygments_lexer": "ipython3",
   "version": "3.7.3"
  }
 },
 "nbformat": 4,
 "nbformat_minor": 1
}
