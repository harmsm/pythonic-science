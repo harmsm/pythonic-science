{
 "cells": [
  {
   "cell_type": "code",
   "execution_count": null,
   "metadata": {
    "slideshow": {
     "slide_type": "slide"
    }
   },
   "outputs": [],
   "source": [
    "import numpy as np\n",
    "import matplotlib.pylab as plt\n",
    "%matplotlib inline"
   ]
  },
  {
   "cell_type": "markdown",
   "metadata": {
    "slideshow": {
     "slide_type": "slide"
    }
   },
   "source": [
    "<img src=\"https://raw.githubusercontent.com/harmsm/pythonic-science/master/chapters/02_regression/data/wands-away.jpg\" style=\"margin:auto\" height=\"50%\" width=\"50%\"/>"
   ]
  },
  {
   "cell_type": "markdown",
   "metadata": {
    "slideshow": {
     "slide_type": "slide"
    }
   },
   "source": [
    "## Fitting models to data\n",
    "\n",
    "<img src=\"https://raw.githubusercontent.com/harmsm/pythonic-science/master/chapters/02_regression/data/spreadsheet-fit.png\" style=\"margin:auto\" />"
   ]
  },
  {
   "cell_type": "markdown",
   "metadata": {
    "slideshow": {
     "slide_type": "slide"
    }
   },
   "source": [
    "### Steps\n",
    "\n",
    "+ Getting data into python\n",
    "+ Performing fit\n",
    "+ Plotting the fit\n",
    "+ Analyzing the fit (quality, parameter estimates, etc.)"
   ]
  },
  {
   "cell_type": "markdown",
   "metadata": {
    "slideshow": {
     "slide_type": "slide"
    }
   },
   "source": [
    "<img src=\"https://raw.githubusercontent.com/harmsm/pythonic-science/master/chapters/02_regression/data/dataset-csv.png\" style=\"margin:auto\" />"
   ]
  },
  {
   "cell_type": "markdown",
   "metadata": {
    "slideshow": {
     "slide_type": "slide"
    }
   },
   "source": [
    "#### We can read files using `pandas`"
   ]
  },
  {
   "cell_type": "code",
   "execution_count": null,
   "metadata": {
    "slideshow": {
     "slide_type": "-"
    }
   },
   "outputs": [],
   "source": [
    "import pandas as pd\n",
    "pd.read_csv(\"data/test-dataset.csv\")"
   ]
  },
  {
   "cell_type": "code",
   "execution_count": null,
   "metadata": {
    "slideshow": {
     "slide_type": "slide"
    }
   },
   "outputs": [],
   "source": [
    "d = pd.read_csv(\"data/test-dataset.csv\") # <- capture in variable d\n",
    "type(d)"
   ]
  },
  {
   "cell_type": "code",
   "execution_count": null,
   "metadata": {
    "scrolled": true,
    "slideshow": {
     "slide_type": "fragment"
    }
   },
   "outputs": [],
   "source": [
    "plt.plot(d.time,d.obs,\"o\")\n",
    "plt.xlabel(\"time\")\n",
    "plt.ylabel(\"observable\")"
   ]
  },
  {
   "cell_type": "markdown",
   "metadata": {
    "slideshow": {
     "slide_type": "slide"
    }
   },
   "source": [
    "#### How can we fit a model to these data?"
   ]
  },
  {
   "cell_type": "code",
   "execution_count": null,
   "metadata": {
    "slideshow": {
     "slide_type": "fragment"
    }
   },
   "outputs": [],
   "source": [
    "import scipy.stats"
   ]
  },
  {
   "cell_type": "code",
   "execution_count": null,
   "metadata": {
    "slideshow": {
     "slide_type": "fragment"
    }
   },
   "outputs": [],
   "source": [
    "m, b, r_value, p_value, std_err = scipy.stats.linregress(d.time,\n",
    "                                                         d.obs)\n",
    "print(\"slope:\",m)\n",
    "print(\"intercept:\",b)\n",
    "print(\"R squared:\",r_value**2)"
   ]
  },
  {
   "cell_type": "markdown",
   "metadata": {
    "slideshow": {
     "slide_type": "slide"
    }
   },
   "source": [
    "#### Plot it"
   ]
  },
  {
   "cell_type": "code",
   "execution_count": null,
   "metadata": {
    "slideshow": {
     "slide_type": "-"
    }
   },
   "outputs": [],
   "source": [
    "plt.plot(d.time,d.obs,\"o\")\n",
    "plt.xlabel(\"time\")\n",
    "plt.ylabel(\"observable\")\n",
    "\n",
    "t_range = np.array([0,10]) \n",
    "plt.plot(t_range,t_range*m + b,\"--\")"
   ]
  },
  {
   "cell_type": "markdown",
   "metadata": {
    "slideshow": {
     "slide_type": "slide"
    }
   },
   "source": [
    "#### Put together"
   ]
  },
  {
   "cell_type": "code",
   "execution_count": null,
   "metadata": {
    "scrolled": true,
    "slideshow": {
     "slide_type": "-"
    }
   },
   "outputs": [],
   "source": [
    "d = pd.read_csv(\"data/test-dataset.csv\")\n",
    "plt.plot(d.time,d.obs,\"o\")\n",
    "\n",
    "m, b, r_value, p_value, std_err = scipy.stats.linregress(d.time,d.obs)\n",
    "t_range = np.array([0,10]) \n",
    "plt.plot(t_range,t_range*m + b,\"--\")\n",
    "\n",
    "print(\"slope:\",m)\n",
    "print(\"intercept:\",b)\n",
    "print(\"R squared:\",r_value**2)"
   ]
  },
  {
   "cell_type": "markdown",
   "metadata": {
    "slideshow": {
     "slide_type": "slide"
    }
   },
   "source": [
    "## What is actually going on in a fit???"
   ]
  },
  {
   "cell_type": "markdown",
   "metadata": {
    "slideshow": {
     "slide_type": "slide"
    }
   },
   "source": [
    "#### Let's try fitting manually"
   ]
  },
  {
   "cell_type": "code",
   "execution_count": null,
   "metadata": {
    "slideshow": {
     "slide_type": "-"
    }
   },
   "outputs": [],
   "source": [
    "def y_calc(x,m,b):\n",
    "    return m*x + b"
   ]
  },
  {
   "cell_type": "code",
   "execution_count": null,
   "metadata": {
    "slideshow": {
     "slide_type": "slide"
    }
   },
   "outputs": [],
   "source": [
    "plt.plot(d.time,d.obs,\"ko\")\n",
    "plt.plot(d.time,y_calc(d.time,m=0.1,b=0))\n",
    "plt.plot(d.time,y_calc(d.time,m=0.1,b=0.2))\n",
    "plt.plot(d.time,y_calc(d.time,m=0.08,b=0.2))\n"
   ]
  },
  {
   "cell_type": "markdown",
   "metadata": {
    "slideshow": {
     "slide_type": "slide"
    }
   },
   "source": [
    "#### Implicitly minimizing a *residuals* function"
   ]
  },
  {
   "cell_type": "code",
   "execution_count": null,
   "metadata": {
    "slideshow": {
     "slide_type": "-"
    }
   },
   "outputs": [],
   "source": [
    "def y_residuals(x_obs,y_obs,m,b):\n",
    "    \n",
    "    return (m*x_obs + b) - y_obs"
   ]
  },
  {
   "cell_type": "code",
   "execution_count": null,
   "metadata": {
    "slideshow": {
     "slide_type": "fragment"
    }
   },
   "outputs": [],
   "source": [
    "def plot_figs(x_obs,y_obs,m,b,ax):\n",
    "    \"\"\"Convenience plotting function\"\"\"\n",
    "    ax[0].plot(x_obs,y_obs,\"ko\")\n",
    "    ax[0].plot(x_obs,y_calc(x_obs,m,b))\n",
    "    ax[1].plot(x_obs,y_residuals(x_obs,y_obs,m,b))"
   ]
  },
  {
   "cell_type": "code",
   "execution_count": null,
   "metadata": {
    "slideshow": {
     "slide_type": "slide"
    }
   },
   "outputs": [],
   "source": [
    "fig, ax = plt.subplots(1,2,figsize=(10,5))\n",
    "\n",
    "plot_figs(d.time,d.obs,m=0.1,b=0,ax=ax)\n",
    "plot_figs(d.time,d.obs,m=0.1,b=0.2,ax=ax)\n",
    "plot_figs(d.time,d.obs,m=0.08,b=0.2,ax=ax)\n"
   ]
  },
  {
   "cell_type": "markdown",
   "metadata": {
    "slideshow": {
     "slide_type": "slide"
    }
   },
   "source": [
    "#### Software minimizes the sum of the squared residuals\n",
    "\n",
    "$$ SSR = \\sum_{i=0}^{i < N} (y_{calc,i} - y_{obs,i})^{2}$$"
   ]
  },
  {
   "cell_type": "code",
   "execution_count": null,
   "metadata": {
    "slideshow": {
     "slide_type": "slide"
    }
   },
   "outputs": [],
   "source": [
    "\n",
    "sum_squared_residuals = [np.sum(y_residuals(d.time,d.obs,m=0.10,b=0.0)**2),\n",
    "                         np.sum(y_residuals(d.time,d.obs,m=0.10,b=0.2)**2),\n",
    "                         np.sum(y_residuals(d.time,d.obs,m=0.08,b=0.2)**2),\n",
    "                         np.sum(y_residuals(d.time,d.obs,m=0.0696240601504,b=0.186085714286)**2)]\n",
    "\n",
    "plt.plot([1,2,3,4],sum_squared_residuals)\n",
    "plt.xlabel(\"round\")\n",
    "plt.ylabel(\"SSR\")"
   ]
  },
  {
   "cell_type": "markdown",
   "metadata": {
    "slideshow": {
     "slide_type": "slide"
    }
   },
   "source": [
    "#### We use sum of squared residuals:\n",
    "+ Penalizes big deviations a lot.\n",
    "+ Penalizes both negative and positive deviations equally. "
   ]
  },
  {
   "cell_type": "markdown",
   "metadata": {
    "slideshow": {
     "slide_type": "fragment"
    }
   },
   "source": [
    "+ Deep statistical reasons.  Minimizing SSR is a *maximum likelihood* calculation.  (If uncertainty for each point is identical, $SSR \\propto -ln(L)$.)"
   ]
  },
  {
   "cell_type": "markdown",
   "metadata": {
    "slideshow": {
     "slide_type": "slide"
    }
   },
   "source": [
    "#### Regression ingredients\n",
    "+ Experimental data\n",
    "+ Residuals function\n",
    "+ Way to search through \"parameter space\""
   ]
  },
  {
   "cell_type": "markdown",
   "metadata": {
    "slideshow": {
     "slide_type": "slide"
    }
   },
   "source": [
    "#### Parameter space\n",
    "<img src=\"https://raw.githubusercontent.com/harmsm/pythonic-science/master/chapters/02_regression/data/param-space.png\" style=\"margin:auto\" />"
   ]
  },
  {
   "cell_type": "markdown",
   "metadata": {
    "slideshow": {
     "slide_type": "slide"
    }
   },
   "source": [
    "### How do we search parameter space?\n",
    "\n",
    "One example: Nelder-Mead"
   ]
  },
  {
   "cell_type": "markdown",
   "metadata": {
    "slideshow": {
     "slide_type": "slide"
    }
   },
   "source": [
    "<img src=\"https://raw.githubusercontent.com/harmsm/pythonic-science/master/chapters/02_regression/data/00_flip.png\" style=\"margin:auto\" height=\"65%\" width=\"65%\"/>"
   ]
  },
  {
   "cell_type": "markdown",
   "metadata": {
    "slideshow": {
     "slide_type": "slide"
    }
   },
   "source": [
    "<img src=\"https://raw.githubusercontent.com/harmsm/pythonic-science/master/chapters/02_regression/data/01_contract.png\" style=\"margin:auto\" height=\"65%\" width=\"65%\"/>"
   ]
  },
  {
   "cell_type": "markdown",
   "metadata": {
    "slideshow": {
     "slide_type": "slide"
    }
   },
   "source": [
    "<img src=\"https://raw.githubusercontent.com/harmsm/pythonic-science/master/chapters/02_regression/data/02_shrink.png\" style=\"margin:auto\" height=\"65%\" width=\"65%\"/>"
   ]
  },
  {
   "cell_type": "code",
   "execution_count": null,
   "metadata": {
    "scrolled": false,
    "slideshow": {
     "slide_type": "slide"
    }
   },
   "outputs": [],
   "source": [
    "%%HTML\n",
    "<video width=\"650\" height=\"600\" controls=\"controls\"> \n",
    "  <source src=\"https://raw.githubusercontent.com/harmsm/pythonic-science/master/chapters/02_regression/data/simplex.mp4\" type=\"video/mp4\">\n",
    "</video>"
   ]
  },
  {
   "cell_type": "markdown",
   "metadata": {
    "slideshow": {
     "slide_type": "slide"
    }
   },
   "source": [
    "### When does this fail?\n",
    "\n",
    "+ If there is no minimum (or an infinitely long valley)\n",
    "+ If there are multiple minima\n",
    "+ If the function has infinities\n",
    "+ When guesses are so bad you can't reach minimum"
   ]
  },
  {
   "cell_type": "markdown",
   "metadata": {
    "slideshow": {
     "slide_type": "slide"
    }
   },
   "source": [
    "### Next class:\n",
    "\n",
    "+ Implementing residual functions\n",
    "+ `scipy.optimize.least_squares`"
   ]
  },
  {
   "cell_type": "markdown",
   "metadata": {
    "slideshow": {
     "slide_type": "slide"
    }
   },
   "source": [
    "# Do\n",
    "+ Choose the model that fits the data best with the fewest parameters\n",
    "+ Check your residuals for randomness\n",
    "+ Use a biologically/physically informed model with independently testable/interpretable parameters  \n",
    "\n",
    "# Don't\n",
    "+ Transform your data (e.g. take a log before fitting).  Most regression approaches assume measurement uncertainty is normally distributed. \n",
    "+ Try only one set of parameter guesses\n",
    "+ Overfit your data (fit a model with more parameters than observations)"
   ]
  }
 ],
 "metadata": {
  "celltoolbar": "Slideshow",
  "kernelspec": {
   "display_name": "Python 3",
   "language": "python",
   "name": "python3"
  },
  "language_info": {
   "codemirror_mode": {
    "name": "ipython",
    "version": 3
   },
   "file_extension": ".py",
   "mimetype": "text/x-python",
   "name": "python",
   "nbconvert_exporter": "python",
   "pygments_lexer": "ipython3",
   "version": "3.7.3"
  }
 },
 "nbformat": 4,
 "nbformat_minor": 1
}
