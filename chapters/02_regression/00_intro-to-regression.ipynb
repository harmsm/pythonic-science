{
 "cells": [
  {
   "cell_type": "code",
   "execution_count": null,
   "metadata": {
    "slideshow": {
     "slide_type": "slide"
    }
   },
   "outputs": [],
   "source": [
    "%matplotlib inline\n",
    "import numpy as np\n",
    "from matplotlib import pyplot as plt\n",
    "import pandas as pd\n"
   ]
  },
  {
   "cell_type": "markdown",
   "metadata": {
    "slideshow": {
     "slide_type": "slide"
    }
   },
   "source": [
    "## Fitting models to data\n",
    "\n",
    "<img src=\"https://raw.githubusercontent.com/harmsm/pythonic-science/master/chapters/02_regression/data/spreadsheet-fit.png\" style=\"margin:auto\" />"
   ]
  },
  {
   "cell_type": "markdown",
   "metadata": {
    "slideshow": {
     "slide_type": "slide"
    }
   },
   "source": [
    "#### Science often involves fitting quantitative models to data:\n",
    "\n",
    " + Fitting a line to a standard curve for an assay\n",
    " + Extracting a rate constant from a kinetic assay\n",
    " + Estimating the frequency of a genotype in a population\n",
    " + Machine learning to make predictions"
   ]
  },
  {
   "cell_type": "markdown",
   "metadata": {
    "slideshow": {
     "slide_type": "fragment"
    }
   },
   "source": [
    "### How do we do this in python?"
   ]
  },
  {
   "cell_type": "markdown",
   "metadata": {
    "slideshow": {
     "slide_type": "slide"
    }
   },
   "source": [
    "### Steps\n",
    "\n",
    "+ Getting data into python\n",
    "+ Performing fit\n",
    "+ Plotting the fit\n",
    "+ Analyzing the fit (quality, parameter estimates, etc.)"
   ]
  },
  {
   "cell_type": "markdown",
   "metadata": {
    "slideshow": {
     "slide_type": "slide"
    }
   },
   "source": [
    "#### How would you read in data that came in a text file formatted like this? \n",
    "<img src=\"https://raw.githubusercontent.com/harmsm/pythonic-science/master/chapters/02_regression/data/dataset-csv.png\" style=\"margin:auto\" />"
   ]
  },
  {
   "cell_type": "markdown",
   "metadata": {
    "slideshow": {
     "slide_type": "fragment"
    }
   },
   "source": [
    "#### We can read files using `pandas`"
   ]
  },
  {
   "cell_type": "code",
   "execution_count": null,
   "metadata": {
    "slideshow": {
     "slide_type": "slide"
    }
   },
   "outputs": [],
   "source": [
    "pd.read_csv(\"data/test-dataset.csv\")"
   ]
  },
  {
   "cell_type": "code",
   "execution_count": null,
   "metadata": {
    "slideshow": {
     "slide_type": "slide"
    }
   },
   "outputs": [],
   "source": [
    "d = pd.read_csv(\"data/test-dataset.csv\") "
   ]
  },
  {
   "cell_type": "code",
   "execution_count": null,
   "metadata": {
    "scrolled": true,
    "slideshow": {
     "slide_type": "fragment"
    }
   },
   "outputs": [],
   "source": [
    "fig, ax = plt.subplots()\n",
    "ax.plot(d.time,d.obs,\"o\")\n",
    "ax.set_xlabel(\"time\")\n",
    "ax.set_ylabel(\"observable\")"
   ]
  },
  {
   "cell_type": "markdown",
   "metadata": {
    "slideshow": {
     "slide_type": "slide"
    }
   },
   "source": [
    "#### How can we fit a model to these data?"
   ]
  },
  {
   "cell_type": "code",
   "execution_count": null,
   "metadata": {
    "slideshow": {
     "slide_type": "fragment"
    }
   },
   "outputs": [],
   "source": [
    "import scipy.stats"
   ]
  },
  {
   "cell_type": "code",
   "execution_count": null,
   "metadata": {
    "slideshow": {
     "slide_type": "fragment"
    }
   },
   "outputs": [],
   "source": [
    "m, b, r_value, p_value, std_err = scipy.stats.linregress(d.time,\n",
    "                                                         d.obs)\n",
    "print(\"slope:\",m)\n",
    "print(\"intercept:\",b)\n",
    "print(\"R squared:\",r_value**2)"
   ]
  },
  {
   "cell_type": "markdown",
   "metadata": {
    "slideshow": {
     "slide_type": "slide"
    }
   },
   "source": [
    "#### What does $R^2$ measure?\n"
   ]
  },
  {
   "cell_type": "markdown",
   "metadata": {
    "slideshow": {
     "slide_type": "fragment"
    }
   },
   "source": [
    "\n",
    "+ The amount of variation in the data explained by the model.  \n",
    "+ $1-R^{2}$ gives how much is determined by some other statistical process (experimental error, complications your model does not capture, etc.)"
   ]
  },
  {
   "cell_type": "markdown",
   "metadata": {
    "slideshow": {
     "slide_type": "slide"
    }
   },
   "source": [
    "#### Plot it"
   ]
  },
  {
   "cell_type": "code",
   "execution_count": null,
   "metadata": {
    "slideshow": {
     "slide_type": "-"
    }
   },
   "outputs": [],
   "source": [
    "\n",
    "fig, ax = plt.subplots()\n",
    "ax.plot(d.time,d.obs,\"o\")\n",
    "ax.set_xlabel(\"time\")\n",
    "ax.set_ylabel(\"observable\")\n",
    "\n",
    "t_range = np.array([0,10]) \n",
    "ax.plot(t_range,t_range*m + b,\"--\")\n",
    "ax.text(8,0.30,\"m: {:.2f}\".format(m))\n",
    "ax.text(8,0.25,\"b: {:.2f}\".format(b))\n",
    "ax.text(8,0.20,\"$R^{2}$: \" + \"{:.2f}\".format(r_value**2))\n",
    "None\n"
   ]
  },
  {
   "cell_type": "markdown",
   "metadata": {
    "slideshow": {
     "slide_type": "slide"
    }
   },
   "source": [
    "## What is actually going on in a fit?"
   ]
  },
  {
   "cell_type": "markdown",
   "metadata": {
    "slideshow": {
     "slide_type": "slide"
    }
   },
   "source": [
    "#### Let's try fitting manually"
   ]
  },
  {
   "cell_type": "code",
   "execution_count": null,
   "metadata": {
    "slideshow": {
     "slide_type": "-"
    }
   },
   "outputs": [],
   "source": [
    "def y_calc(x,m,b):\n",
    "    return m*x + b"
   ]
  },
  {
   "cell_type": "markdown",
   "metadata": {
    "slideshow": {
     "slide_type": "slide"
    }
   },
   "source": [
    "### Which model do you prefer and why?"
   ]
  },
  {
   "cell_type": "code",
   "execution_count": null,
   "metadata": {
    "slideshow": {
     "slide_type": "-"
    }
   },
   "outputs": [],
   "source": [
    "fig, ax = plt.subplots()\n",
    "ax.plot(d.time,d.obs,\"ko\")\n",
    "ax.plot(d.time,y_calc(d.time,m=0.1,b=0))\n",
    "ax.plot(d.time,y_calc(d.time,m=0.1,b=0.2))\n",
    "ax.plot(d.time,y_calc(d.time,m=0.08,b=0.2))\n"
   ]
  },
  {
   "cell_type": "markdown",
   "metadata": {
    "slideshow": {
     "slide_type": "slide"
    }
   },
   "source": [
    "#### Implicitly minimizing a *residuals* function"
   ]
  },
  {
   "cell_type": "code",
   "execution_count": null,
   "metadata": {
    "slideshow": {
     "slide_type": "-"
    }
   },
   "outputs": [],
   "source": [
    "def y_residuals(x_obs,y_obs,m,b):\n",
    "    \n",
    "    return (m*x_obs + b) - y_obs"
   ]
  },
  {
   "cell_type": "markdown",
   "metadata": {
    "slideshow": {
     "slide_type": "fragment"
    }
   },
   "source": [
    "#### The difference between the model `(m*x_obs + b)`  and what we observed `y_obs`."
   ]
  },
  {
   "cell_type": "markdown",
   "metadata": {
    "slideshow": {
     "slide_type": "slide"
    }
   },
   "source": [
    "#### Define a function to plot `y_obs`, `y_calc`, and `y_calc - y_obs`"
   ]
  },
  {
   "cell_type": "code",
   "execution_count": null,
   "metadata": {
    "slideshow": {
     "slide_type": "-"
    }
   },
   "outputs": [],
   "source": [
    "def plot_figs(x_obs,y_obs,m,b,ax):\n",
    "    \"\"\"Convenience plotting function\"\"\"\n",
    "    ax[0].plot(x_obs,y_obs,\"ko\")\n",
    "    ax[0].plot(x_obs,y_calc(x_obs,m,b))\n",
    "    ax[0].set_ylabel(\"y\")\n",
    "    \n",
    "    ax[1].plot(x_obs,np.zeros(len(x_obs)),\"--\",color=\"gray\")\n",
    "    ax[1].plot(x_obs,y_residuals(x_obs,y_obs,m,b))\n",
    "    ax[1].set_ylabel(\"y_model - y_obs\")\n",
    "    ax[1].set_xlabel(\"x\")    "
   ]
  },
  {
   "cell_type": "code",
   "execution_count": null,
   "metadata": {
    "slideshow": {
     "slide_type": "slide"
    }
   },
   "outputs": [],
   "source": [
    "fig, ax = plt.subplots(2,1,figsize=(5,10),sharex=True)\n",
    "plot_figs(d.time,d.obs,m=0.1,b=0,ax=ax)\n",
    "plot_figs(d.time,d.obs,m=0.1,b=0.2,ax=ax)\n",
    "plot_figs(d.time,d.obs,m=0.08,b=0.2,ax=ax)"
   ]
  },
  {
   "cell_type": "markdown",
   "metadata": {
    "slideshow": {
     "slide_type": "slide"
    }
   },
   "source": [
    "#### Software minimizes the sum of the squared residuals\n",
    "\n",
    "$$ SSR = \\sum_{i=0}^{i < N} (y_{calc,i} - y_{obs,i})^{2}$$"
   ]
  },
  {
   "cell_type": "code",
   "execution_count": null,
   "metadata": {
    "slideshow": {
     "slide_type": "slide"
    }
   },
   "outputs": [],
   "source": [
    "sum_squared_residuals = [np.sum(y_residuals(d.time,d.obs,m=0.10,b=0.0)**2),\n",
    "                         np.sum(y_residuals(d.time,d.obs,m=0.10,b=0.2)**2),\n",
    "                         np.sum(y_residuals(d.time,d.obs,m=0.08,b=0.2)**2),\n",
    "                         np.sum(y_residuals(d.time,d.obs,m=0.0696240601504,b=0.186085714286)**2)]\n",
    "\n",
    "fig, ax = plt.subplots()\n",
    "ax.plot([1],sum_squared_residuals[0],\"o\",color=\"orange\")\n",
    "ax.plot([2],sum_squared_residuals[1],\"o\",color=\"blue\")\n",
    "ax.plot([3],sum_squared_residuals[2],\"o\",color=\"green\")\n",
    "ax.plot([4],sum_squared_residuals[3],\"o\",color=\"black\")\n",
    "\n",
    "ax.plot([1,2,3,4],sum_squared_residuals,\"-\",color='gray',zorder=-10)\n",
    "ax.set_xlabel(\"round\")\n",
    "ax.set_ylabel(\"SSR\")\n",
    "None"
   ]
  },
  {
   "cell_type": "markdown",
   "metadata": {
    "slideshow": {
     "slide_type": "slide"
    }
   },
   "source": [
    "#### We use sum of squared residuals:\n",
    "+ Penalizes big deviations a lot.\n",
    "+ Penalizes both negative and positive deviations equally. "
   ]
  },
  {
   "cell_type": "markdown",
   "metadata": {
    "slideshow": {
     "slide_type": "fragment"
    }
   },
   "source": [
    "+ Deep statistical reasons.  Minimizing SSR is a *maximum likelihood* calculation.  (If uncertainty for each point is identical, $SSR \\propto -ln(L)$.)"
   ]
  },
  {
   "cell_type": "markdown",
   "metadata": {
    "slideshow": {
     "slide_type": "slide"
    }
   },
   "source": [
    "#### Regression ingredients\n",
    "+ Experimental data\n",
    "+ Residuals function\n",
    "+ Way to search through \"parameter space\""
   ]
  },
  {
   "cell_type": "markdown",
   "metadata": {
    "slideshow": {
     "slide_type": "slide"
    }
   },
   "source": [
    "#### Parameter space\n",
    "<img src=\"https://raw.githubusercontent.com/harmsm/pythonic-science/master/chapters/02_regression/data/param-space.png\" style=\"margin:auto\" />"
   ]
  },
  {
   "cell_type": "markdown",
   "metadata": {
    "slideshow": {
     "slide_type": "slide"
    }
   },
   "source": [
    "### How do we search parameter space?\n",
    "\n",
    "One example: Nelder-Mead"
   ]
  },
  {
   "cell_type": "markdown",
   "metadata": {
    "slideshow": {
     "slide_type": "slide"
    }
   },
   "source": [
    "<img src=\"https://raw.githubusercontent.com/harmsm/pythonic-science/master/chapters/02_regression/data/00_flip.png\" style=\"margin:auto\" height=\"65%\" width=\"65%\"/>"
   ]
  },
  {
   "cell_type": "markdown",
   "metadata": {
    "slideshow": {
     "slide_type": "slide"
    }
   },
   "source": [
    "<img src=\"https://raw.githubusercontent.com/harmsm/pythonic-science/master/chapters/02_regression/data/01_contract.png\" style=\"margin:auto\" height=\"65%\" width=\"65%\"/>"
   ]
  },
  {
   "cell_type": "markdown",
   "metadata": {
    "slideshow": {
     "slide_type": "slide"
    }
   },
   "source": [
    "<img src=\"https://raw.githubusercontent.com/harmsm/pythonic-science/master/chapters/02_regression/data/02_shrink.png\" style=\"margin:auto\" height=\"65%\" width=\"65%\"/>"
   ]
  },
  {
   "cell_type": "code",
   "execution_count": null,
   "metadata": {
    "scrolled": false,
    "slideshow": {
     "slide_type": "slide"
    }
   },
   "outputs": [],
   "source": [
    "%%HTML\n",
    "<video width=\"650\" height=\"600\" controls=\"controls\"> \n",
    "  <source src=\"https://raw.githubusercontent.com/harmsm/pythonic-science/master/chapters/02_regression/data/simplex.mp4\" type=\"video/mp4\">\n",
    "</video>"
   ]
  },
  {
   "cell_type": "markdown",
   "metadata": {
    "slideshow": {
     "slide_type": "slide"
    }
   },
   "source": [
    "### When does this fail?\n",
    "\n",
    "+ If there is no minimum (or an infinitely long valley)\n",
    "+ If there are multiple minima\n",
    "+ If the function has infinities\n",
    "+ When guesses are so bad you can't reach minimum"
   ]
  },
  {
   "cell_type": "markdown",
   "metadata": {
    "slideshow": {
     "slide_type": "slide"
    }
   },
   "source": [
    "### Next class:\n",
    "\n",
    "+ Implementing residual functions\n",
    "+ `scipy.optimize.least_squares`"
   ]
  },
  {
   "cell_type": "markdown",
   "metadata": {
    "slideshow": {
     "slide_type": "slide"
    }
   },
   "source": [
    "# Do\n",
    "+ Choose the model that fits the data best with the fewest parameters\n",
    "+ Check your residuals for randomness \n",
    "+ Use a biologically/physically informed model with independently testable/interpretable parameters  \n",
    "\n",
    "# Don't\n",
    "+ Try only one set of parameter guesses\n",
    "+ Overfit your data (fit a model with more parameters than can be reliably estimated)"
   ]
  },
  {
   "cell_type": "code",
   "execution_count": null,
   "metadata": {},
   "outputs": [],
   "source": []
  }
 ],
 "metadata": {
  "celltoolbar": "Slideshow",
  "kernelspec": {
   "display_name": "Python 3",
   "language": "python",
   "name": "python3"
  },
  "language_info": {
   "codemirror_mode": {
    "name": "ipython",
    "version": 3
   },
   "file_extension": ".py",
   "mimetype": "text/x-python",
   "name": "python",
   "nbconvert_exporter": "python",
   "pygments_lexer": "ipython3",
   "version": "3.7.3"
  }
 },
 "nbformat": 4,
 "nbformat_minor": 1
}
