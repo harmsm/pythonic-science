{
 "cells": [
  {
   "cell_type": "code",
   "execution_count": 1,
   "metadata": {
    "slideshow": {
     "slide_type": "slide"
    }
   },
   "outputs": [],
   "source": [
    "%matplotlib inline\n",
    "import numpy as np\n",
    "from matplotlib import pyplot as plt\n",
    "import pandas as pd\n"
   ]
  },
  {
   "cell_type": "markdown",
   "metadata": {
    "slideshow": {
     "slide_type": "slide"
    }
   },
   "source": [
    "## Fitting models to data\n",
    "\n",
    "<img src=\"https://raw.githubusercontent.com/harmsm/pythonic-science/master/chapters/02_regression/data/spreadsheet-fit.png\" style=\"margin:auto\" />"
   ]
  },
  {
   "cell_type": "markdown",
   "metadata": {
    "slideshow": {
     "slide_type": "slide"
    }
   },
   "source": [
    "#### Science often involves fitting quantitative models to data:\n",
    "\n",
    " + Fitting a line to a standard curve for an assay\n",
    " + Extracting a rate constant from a kinetic assay\n",
    " + Estimating the frequency of a genotype in a population\n",
    " + Machine learning to make predictions"
   ]
  },
  {
   "cell_type": "markdown",
   "metadata": {
    "slideshow": {
     "slide_type": "fragment"
    }
   },
   "source": [
    "### How do we do this in python?"
   ]
  },
  {
   "cell_type": "markdown",
   "metadata": {
    "slideshow": {
     "slide_type": "slide"
    }
   },
   "source": [
    "### Steps\n",
    "\n",
    "+ Getting data into python\n",
    "+ Performing fit\n",
    "+ Plotting the fit\n",
    "+ Analyzing the fit (quality, parameter estimates, etc.)"
   ]
  },
  {
   "cell_type": "markdown",
   "metadata": {
    "slideshow": {
     "slide_type": "slide"
    }
   },
   "source": [
    "#### How would you read in data that came in a text file formatted like this? \n",
    "<img src=\"https://raw.githubusercontent.com/harmsm/pythonic-science/master/chapters/02_regression/data/dataset-csv.png\" style=\"margin:auto\" />"
   ]
  },
  {
   "cell_type": "markdown",
   "metadata": {
    "slideshow": {
     "slide_type": "fragment"
    }
   },
   "source": [
    "#### We can read files using `pandas`"
   ]
  },
  {
   "cell_type": "code",
   "execution_count": 2,
   "metadata": {
    "slideshow": {
     "slide_type": "slide"
    }
   },
   "outputs": [
    {
     "data": {
      "text/html": [
       "<div>\n",
       "<style scoped>\n",
       "    .dataframe tbody tr th:only-of-type {\n",
       "        vertical-align: middle;\n",
       "    }\n",
       "\n",
       "    .dataframe tbody tr th {\n",
       "        vertical-align: top;\n",
       "    }\n",
       "\n",
       "    .dataframe thead th {\n",
       "        text-align: right;\n",
       "    }\n",
       "</style>\n",
       "<table border=\"1\" class=\"dataframe\">\n",
       "  <thead>\n",
       "    <tr style=\"text-align: right;\">\n",
       "      <th></th>\n",
       "      <th>time</th>\n",
       "      <th>obs</th>\n",
       "    </tr>\n",
       "  </thead>\n",
       "  <tbody>\n",
       "    <tr>\n",
       "      <th>0</th>\n",
       "      <td>0.0</td>\n",
       "      <td>0.000</td>\n",
       "    </tr>\n",
       "    <tr>\n",
       "      <th>1</th>\n",
       "      <td>0.5</td>\n",
       "      <td>0.032</td>\n",
       "    </tr>\n",
       "    <tr>\n",
       "      <th>2</th>\n",
       "      <td>1.0</td>\n",
       "      <td>0.274</td>\n",
       "    </tr>\n",
       "    <tr>\n",
       "      <th>3</th>\n",
       "      <td>1.5</td>\n",
       "      <td>0.264</td>\n",
       "    </tr>\n",
       "    <tr>\n",
       "      <th>4</th>\n",
       "      <td>2.0</td>\n",
       "      <td>0.411</td>\n",
       "    </tr>\n",
       "    <tr>\n",
       "      <th>5</th>\n",
       "      <td>2.5</td>\n",
       "      <td>0.440</td>\n",
       "    </tr>\n",
       "    <tr>\n",
       "      <th>6</th>\n",
       "      <td>3.0</td>\n",
       "      <td>0.517</td>\n",
       "    </tr>\n",
       "    <tr>\n",
       "      <th>7</th>\n",
       "      <td>3.5</td>\n",
       "      <td>0.486</td>\n",
       "    </tr>\n",
       "    <tr>\n",
       "      <th>8</th>\n",
       "      <td>4.0</td>\n",
       "      <td>0.508</td>\n",
       "    </tr>\n",
       "    <tr>\n",
       "      <th>9</th>\n",
       "      <td>4.5</td>\n",
       "      <td>0.651</td>\n",
       "    </tr>\n",
       "    <tr>\n",
       "      <th>10</th>\n",
       "      <td>5.0</td>\n",
       "      <td>0.540</td>\n",
       "    </tr>\n",
       "    <tr>\n",
       "      <th>11</th>\n",
       "      <td>5.5</td>\n",
       "      <td>0.644</td>\n",
       "    </tr>\n",
       "    <tr>\n",
       "      <th>12</th>\n",
       "      <td>6.0</td>\n",
       "      <td>0.586</td>\n",
       "    </tr>\n",
       "    <tr>\n",
       "      <th>13</th>\n",
       "      <td>6.5</td>\n",
       "      <td>0.665</td>\n",
       "    </tr>\n",
       "    <tr>\n",
       "      <th>14</th>\n",
       "      <td>7.0</td>\n",
       "      <td>0.605</td>\n",
       "    </tr>\n",
       "    <tr>\n",
       "      <th>15</th>\n",
       "      <td>7.5</td>\n",
       "      <td>0.765</td>\n",
       "    </tr>\n",
       "    <tr>\n",
       "      <th>16</th>\n",
       "      <td>8.0</td>\n",
       "      <td>0.778</td>\n",
       "    </tr>\n",
       "    <tr>\n",
       "      <th>17</th>\n",
       "      <td>8.5</td>\n",
       "      <td>0.704</td>\n",
       "    </tr>\n",
       "    <tr>\n",
       "      <th>18</th>\n",
       "      <td>9.0</td>\n",
       "      <td>0.677</td>\n",
       "    </tr>\n",
       "    <tr>\n",
       "      <th>19</th>\n",
       "      <td>9.5</td>\n",
       "      <td>0.789</td>\n",
       "    </tr>\n",
       "  </tbody>\n",
       "</table>\n",
       "</div>"
      ],
      "text/plain": [
       "    time    obs\n",
       "0    0.0  0.000\n",
       "1    0.5  0.032\n",
       "2    1.0  0.274\n",
       "3    1.5  0.264\n",
       "4    2.0  0.411\n",
       "5    2.5  0.440\n",
       "6    3.0  0.517\n",
       "7    3.5  0.486\n",
       "8    4.0  0.508\n",
       "9    4.5  0.651\n",
       "10   5.0  0.540\n",
       "11   5.5  0.644\n",
       "12   6.0  0.586\n",
       "13   6.5  0.665\n",
       "14   7.0  0.605\n",
       "15   7.5  0.765\n",
       "16   8.0  0.778\n",
       "17   8.5  0.704\n",
       "18   9.0  0.677\n",
       "19   9.5  0.789"
      ]
     },
     "execution_count": 2,
     "metadata": {},
     "output_type": "execute_result"
    }
   ],
   "source": [
    "pd.read_csv(\"data/test-dataset.csv\")"
   ]
  },
  {
   "cell_type": "code",
   "execution_count": 10,
   "metadata": {
    "slideshow": {
     "slide_type": "slide"
    }
   },
   "outputs": [],
   "source": [
    "d = pd.read_csv(\"data/test-dataset.csv\")"
   ]
  },
  {
   "cell_type": "code",
   "execution_count": 14,
   "metadata": {
    "scrolled": true,
    "slideshow": {
     "slide_type": "fragment"
    }
   },
   "outputs": [
    {
     "data": {
      "image/png": "[encoded data removed]",
      "text/plain": [
       "<Figure size 432x288 with 1 Axes>"
      ]
     },
     "metadata": {
      "needs_background": "light"
     },
     "output_type": "display_data"
    }
   ],
   "source": [
    "fig, ax = plt.subplots()\n",
    "ax.plot(d.time,d.obs,\"o\")\n",
    "ax.set_xlabel(\"time\")\n",
    "_ = ax.set_ylabel(\"observable\")"
   ]
  },
  {
   "cell_type": "markdown",
   "metadata": {
    "slideshow": {
     "slide_type": "slide"
    }
   },
   "source": [
    "#### How can we fit a model to these data?"
   ]
  },
  {
   "cell_type": "code",
   "execution_count": 12,
   "metadata": {
    "slideshow": {
     "slide_type": "fragment"
    }
   },
   "outputs": [],
   "source": [
    "import scipy.stats"
   ]
  },
  {
   "cell_type": "code",
   "execution_count": 13,
   "metadata": {
    "slideshow": {
     "slide_type": "fragment"
    }
   },
   "outputs": [
    {
     "name": "stdout",
     "output_type": "stream",
     "text": [
      "slope: 0.06962406015037594\n",
      "intercept: 0.18608571428571435\n",
      "R squared: 0.8248880797468373\n"
     ]
    }
   ],
   "source": [
    "m, b, r_value, p_value, std_err = scipy.stats.linregress(d.time,\n",
    "                                                         d.obs)\n",
    "print(\"slope:\",m)\n",
    "print(\"intercept:\",b)\n",
    "print(\"R squared:\",r_value**2)"
   ]
  },
  {
   "cell_type": "markdown",
   "metadata": {
    "slideshow": {
     "slide_type": "slide"
    }
   },
   "source": [
    "#### What does $R^2$ measure?\n"
   ]
  },
  {
   "cell_type": "markdown",
   "metadata": {
    "slideshow": {
     "slide_type": "fragment"
    }
   },
   "source": [
    "\n",
    "+ The amount of variation in the data explained by the model.  \n",
    "+ $1-R^{2}$ gives how much is determined by some other statistical process (experimental error, complications your model does not capture, etc.)"
   ]
  },
  {
   "cell_type": "markdown",
   "metadata": {
    "slideshow": {
     "slide_type": "slide"
    }
   },
   "source": [
    "#### Plot it"
   ]
  },
  {
   "cell_type": "code",
   "execution_count": 16,
   "metadata": {
    "slideshow": {
     "slide_type": "-"
    }
   },
   "outputs": [
    {
     "data": {
      "image/png": "[encoded data removed]",
      "text/plain": [
       "<Figure size 432x288 with 1 Axes>"
      ]
     },
     "metadata": {
      "needs_background": "light"
     },
     "output_type": "display_data"
    }
   ],
   "source": [
    "\n",
    "fig, ax = plt.subplots()\n",
    "ax.plot(d.time,d.obs,\"o\")\n",
    "ax.set_xlabel(\"time\")\n",
    "ax.set_ylabel(\"observable\")\n",
    "\n",
    "x_range = np.array([0,10]) \n",
    "ax.plot(x_range,x_range*m + b,\"--\")\n",
    "ax.text(8,0.30,\"m: {:.2f}\".format(m))\n",
    "ax.text(8,0.25,\"b: {:.2f}\".format(b))\n",
    "ax.text(8,0.20,\"$R^{2}$: \" + \"{:.2f}\".format(r_value**2))\n",
    "None\n"
   ]
  },
  {
   "cell_type": "markdown",
   "metadata": {
    "slideshow": {
     "slide_type": "slide"
    }
   },
   "source": [
    "## What is actually going on in a fit?"
   ]
  },
  {
   "cell_type": "markdown",
   "metadata": {
    "slideshow": {
     "slide_type": "slide"
    }
   },
   "source": [
    "#### Let's try fitting manually"
   ]
  },
  {
   "cell_type": "code",
   "execution_count": 17,
   "metadata": {
    "slideshow": {
     "slide_type": "-"
    }
   },
   "outputs": [],
   "source": [
    "def y_calc(x,m,b):\n",
    "    return m*x + b"
   ]
  },
  {
   "cell_type": "markdown",
   "metadata": {
    "slideshow": {
     "slide_type": "slide"
    }
   },
   "source": [
    "### Which model do you prefer and why?"
   ]
  },
  {
   "cell_type": "code",
   "execution_count": 18,
   "metadata": {
    "slideshow": {
     "slide_type": "-"
    }
   },
   "outputs": [
    {
     "data": {
      "text/plain": [
       "[<matplotlib.lines.Line2D at 0x11b8c4f28>]"
      ]
     },
     "execution_count": 18,
     "metadata": {},
     "output_type": "execute_result"
    },
    {
     "data": {
      "image/png": "[encoded data removed]",
      "text/plain": [
       "<Figure size 432x288 with 1 Axes>"
      ]
     },
     "metadata": {
      "needs_background": "light"
     },
     "output_type": "display_data"
    }
   ],
   "source": [
    "fig, ax = plt.subplots()\n",
    "ax.plot(d.time,d.obs,\"ko\")\n",
    "ax.plot(d.time,y_calc(d.time,m=0.1,b=0))\n",
    "ax.plot(d.time,y_calc(d.time,m=0.1,b=0.2))\n",
    "ax.plot(d.time,y_calc(d.time,m=0.08,b=0.2))"
   ]
  },
  {
   "cell_type": "markdown",
   "metadata": {
    "slideshow": {
     "slide_type": "slide"
    }
   },
   "source": [
    "#### Implicitly minimizing a *residuals* function"
   ]
  },
  {
   "cell_type": "code",
   "execution_count": 19,
   "metadata": {
    "slideshow": {
     "slide_type": "-"
    }
   },
   "outputs": [],
   "source": [
    "def y_residuals(x_obs,y_obs,m,b):\n",
    "    \n",
    "    return (m*x_obs + b) - y_obs"
   ]
  },
  {
   "cell_type": "markdown",
   "metadata": {
    "slideshow": {
     "slide_type": "fragment"
    }
   },
   "source": [
    "#### The difference between the model `(m*x_obs + b)`  and what we observed `y_obs`."
   ]
  },
  {
   "cell_type": "markdown",
   "metadata": {
    "slideshow": {
     "slide_type": "slide"
    }
   },
   "source": [
    "#### Define a function to plot `y_obs`, `y_calc`, and `y_calc - y_obs`"
   ]
  },
  {
   "cell_type": "code",
   "execution_count": 20,
   "metadata": {
    "slideshow": {
     "slide_type": "-"
    }
   },
   "outputs": [],
   "source": [
    "def plot_figs(x_obs,y_obs,m,b,ax):\n",
    "    \"\"\"Convenience plotting function\"\"\"\n",
    "    ax[0].plot(x_obs,y_obs,\"ko\")\n",
    "    ax[0].plot(x_obs,y_calc(x_obs,m,b))\n",
    "    ax[0].set_ylabel(\"y\")\n",
    "    \n",
    "    ax[1].plot(x_obs,np.zeros(len(x_obs)),\"--\",color=\"gray\")\n",
    "    ax[1].plot(x_obs,y_residuals(x_obs,y_obs,m,b))\n",
    "    ax[1].set_ylabel(\"y_model - y_obs\")\n",
    "    ax[1].set_xlabel(\"x\")    "
   ]
  },
  {
   "cell_type": "code",
   "execution_count": 21,
   "metadata": {
    "slideshow": {
     "slide_type": "slide"
    }
   },
   "outputs": [
    {
     "data": {
      "image/png": "[encoded data removed]",
      "text/plain": [
       "<Figure size 360x720 with 2 Axes>"
      ]
     },
     "metadata": {
      "needs_background": "light"
     },
     "output_type": "display_data"
    }
   ],
   "source": [
    "fig, ax = plt.subplots(2,1,figsize=(5,10),sharex=True)\n",
    "plot_figs(d.time,d.obs,m=0.1,b=0,ax=ax)\n",
    "plot_figs(d.time,d.obs,m=0.1,b=0.2,ax=ax)\n",
    "plot_figs(d.time,d.obs,m=0.08,b=0.2,ax=ax)"
   ]
  },
  {
   "cell_type": "markdown",
   "metadata": {
    "slideshow": {
     "slide_type": "slide"
    }
   },
   "source": [
    "#### Software minimizes the sum of the squared residuals\n",
    "\n",
    "$$ SSR = \\sum_{i=0}^{i < N} (y_{calc,i} - y_{obs,i})^{2}$$"
   ]
  },
  {
   "cell_type": "code",
   "execution_count": 23,
   "metadata": {
    "slideshow": {
     "slide_type": "slide"
    }
   },
   "outputs": [
    {
     "data": {
      "image/png": "[encoded data removed]",
      "text/plain": [
       "<Figure size 432x288 with 1 Axes>"
      ]
     },
     "metadata": {
      "needs_background": "light"
     },
     "output_type": "display_data"
    }
   ],
   "source": [
    "sum_squared_residuals = [np.sum(y_residuals(d.time,d.obs,m=0.10,b=0.0)**2),\n",
    "                         np.sum(y_residuals(d.time,d.obs,m=0.10,b=0.2)**2),\n",
    "                         np.sum(y_residuals(d.time,d.obs,m=0.08,b=0.2)**2),\n",
    "                         np.sum(y_residuals(d.time,d.obs,m=0.0696240601504,b=0.186085714286)**2)]\n",
    "\n",
    "fig, ax = plt.subplots()\n",
    "ax.plot([1],sum_squared_residuals[0],\"o\",color=\"orange\")\n",
    "ax.plot([2],sum_squared_residuals[1],\"o\",color=\"blue\")\n",
    "ax.plot([3],sum_squared_residuals[2],\"o\",color=\"green\")\n",
    "ax.plot([4],sum_squared_residuals[3],\"o\",color=\"black\")\n",
    "\n",
    "ax.plot([1,2,3,4],sum_squared_residuals,\"-\",color='gray',zorder=-10)\n",
    "ax.set_xlabel(\"round\")\n",
    "ax.set_ylabel(\"SSR\")\n",
    "None"
   ]
  },
  {
   "cell_type": "markdown",
   "metadata": {
    "slideshow": {
     "slide_type": "slide"
    }
   },
   "source": [
    "#### We use sum of squared residuals:\n",
    "+ Penalizes big deviations a lot.\n",
    "+ Penalizes both negative and positive deviations equally. "
   ]
  },
  {
   "cell_type": "markdown",
   "metadata": {
    "slideshow": {
     "slide_type": "fragment"
    }
   },
   "source": [
    "+ Deep statistical reasons.  Minimizing SSR is a *maximum likelihood* calculation.  (If uncertainty for each point is identical, $SSR \\propto -ln(L)$.)"
   ]
  },
  {
   "cell_type": "markdown",
   "metadata": {
    "slideshow": {
     "slide_type": "slide"
    }
   },
   "source": [
    "#### Regression ingredients\n",
    "+ Experimental data\n",
    "+ Residuals function\n",
    "+ Way to search through \"parameter space\""
   ]
  },
  {
   "cell_type": "markdown",
   "metadata": {
    "slideshow": {
     "slide_type": "slide"
    }
   },
   "source": [
    "#### Parameter space\n",
    "<img src=\"https://raw.githubusercontent.com/harmsm/pythonic-science/master/chapters/02_regression/data/param-space.png\" style=\"margin:auto\" />"
   ]
  },
  {
   "cell_type": "markdown",
   "metadata": {
    "slideshow": {
     "slide_type": "slide"
    }
   },
   "source": [
    "### How do we search parameter space?\n",
    "\n",
    "One example: Nelder-Mead"
   ]
  },
  {
   "cell_type": "markdown",
   "metadata": {
    "slideshow": {
     "slide_type": "slide"
    }
   },
   "source": [
    "<img src=\"https://raw.githubusercontent.com/harmsm/pythonic-science/master/chapters/02_regression/data/00_flip.png\" style=\"margin:auto\" height=\"65%\" width=\"65%\"/>"
   ]
  },
  {
   "cell_type": "markdown",
   "metadata": {
    "slideshow": {
     "slide_type": "slide"
    }
   },
   "source": [
    "<img src=\"https://raw.githubusercontent.com/harmsm/pythonic-science/master/chapters/02_regression/data/01_contract.png\" style=\"margin:auto\" height=\"65%\" width=\"65%\"/>"
   ]
  },
  {
   "cell_type": "markdown",
   "metadata": {
    "slideshow": {
     "slide_type": "slide"
    }
   },
   "source": [
    "<img src=\"https://raw.githubusercontent.com/harmsm/pythonic-science/master/chapters/02_regression/data/02_shrink.png\" style=\"margin:auto\" height=\"65%\" width=\"65%\"/>"
   ]
  },
  {
   "cell_type": "code",
   "execution_count": 24,
   "metadata": {
    "scrolled": false,
    "slideshow": {
     "slide_type": "slide"
    }
   },
   "outputs": [
    {
     "data": {
      "text/html": [
       "<video width=\"650\" height=\"600\" controls=\"controls\"> \n",
       "  <source src=\"https://raw.githubusercontent.com/harmsm/pythonic-science/master/chapters/02_regression/data/simplex.mp4\" type=\"video/mp4\">\n",
       "</video>\n"
      ],
      "text/plain": [
       "<IPython.core.display.HTML object>"
      ]
     },
     "metadata": {},
     "output_type": "display_data"
    }
   ],
   "source": [
    "%%HTML\n",
    "<video width=\"650\" height=\"600\" controls=\"controls\"> \n",
    "  <source src=\"https://raw.githubusercontent.com/harmsm/pythonic-science/master/chapters/02_regression/data/simplex.mp4\" type=\"video/mp4\">\n",
    "</video>"
   ]
  },
  {
   "cell_type": "markdown",
   "metadata": {
    "slideshow": {
     "slide_type": "slide"
    }
   },
   "source": [
    "### When does this fail?\n",
    "\n",
    "+ If there is no minimum (or an infinitely long valley)\n",
    "+ If there are multiple minima\n",
    "+ If the function has infinities\n",
    "+ When guesses are so bad you can't reach minimum"
   ]
  },
  {
   "cell_type": "markdown",
   "metadata": {
    "slideshow": {
     "slide_type": "slide"
    }
   },
   "source": [
    "### Next class:\n",
    "\n",
    "+ Implementing residual functions\n",
    "+ `scipy.optimize.least_squares`"
   ]
  },
  {
   "cell_type": "markdown",
   "metadata": {
    "slideshow": {
     "slide_type": "slide"
    }
   },
   "source": [
    "# Do\n",
    "+ Choose the model that fits the data best with the fewest parameters\n",
    "+ Check your residuals for randomness \n",
    "+ Use a biologically/physically informed model with independently testable/interpretable parameters  \n",
    "\n",
    "# Don't\n",
    "+ Try only one set of parameter guesses\n",
    "+ Overfit your data (fit a model with more parameters than can be reliably estimated)"
   ]
  },
  {
   "cell_type": "code",
   "execution_count": 30,
   "metadata": {},
   "outputs": [
    {
     "name": "stdout",
     "output_type": "stream",
     "text": [
      "(25, 5)\n"
     ]
    }
   ],
   "source": [
    "\n",
    "def some_function(x):\n",
    "    \n",
    "    a = x*x\n",
    "    \n",
    "    return a, x\n",
    "\n",
    "    return x + x\n",
    "\n",
    "y = some_function(5)\n",
    "print(y)"
   ]
  },
  {
   "cell_type": "code",
   "execution_count": null,
   "metadata": {},
   "outputs": [],
   "source": []
  }
 ],
 "metadata": {
  "celltoolbar": "Slideshow",
  "kernelspec": {
   "display_name": "Python 3",
   "language": "python",
   "name": "python3"
  },
  "language_info": {
   "codemirror_mode": {
    "name": "ipython",
    "version": 3
   },
   "file_extension": ".py",
   "mimetype": "text/x-python",
   "name": "python",
   "nbconvert_exporter": "python",
   "pygments_lexer": "ipython3",
   "version": "3.7.3"
  }
 },
 "nbformat": 4,
 "nbformat_minor": 1
}
