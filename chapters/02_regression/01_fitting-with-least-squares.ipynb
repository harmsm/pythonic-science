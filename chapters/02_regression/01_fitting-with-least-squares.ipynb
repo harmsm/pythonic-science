{
 "cells": [
  {
   "cell_type": "code",
   "execution_count": null,
   "metadata": {
    "slideshow": {
     "slide_type": "slide"
    }
   },
   "outputs": [],
   "source": [
    "%matplotlib inline\n",
    "import numpy as np\n",
    "import matplotlib.pylab as plt"
   ]
  },
  {
   "cell_type": "code",
   "execution_count": null,
   "metadata": {
    "slideshow": {
     "slide_type": "-"
    }
   },
   "outputs": [],
   "source": [
    "import scipy.optimize\n",
    "import pandas as pd"
   ]
  },
  {
   "cell_type": "markdown",
   "metadata": {
    "slideshow": {
     "slide_type": "slide"
    }
   },
   "source": [
    "## What does the following code do?"
   ]
  },
  {
   "cell_type": "code",
   "execution_count": null,
   "metadata": {
    "scrolled": true,
    "slideshow": {
     "slide_type": "-"
    }
   },
   "outputs": [],
   "source": [
    "d = pd.read_csv(\"data/dataset_0.csv\")\n",
    "plt.plot(d.x,d.y,'o')"
   ]
  },
  {
   "cell_type": "markdown",
   "metadata": {
    "slideshow": {
     "slide_type": "slide"
    }
   },
   "source": [
    "## What does the following code do?"
   ]
  },
  {
   "cell_type": "code",
   "execution_count": null,
   "metadata": {
    "slideshow": {
     "slide_type": "-"
    }
   },
   "outputs": [],
   "source": [
    "def linear(x,a,b):\n",
    "    return a + b*x"
   ]
  },
  {
   "cell_type": "markdown",
   "metadata": {
    "slideshow": {
     "slide_type": "fragment"
    }
   },
   "source": []
  },
  {
   "cell_type": "markdown",
   "metadata": {
    "slideshow": {
     "slide_type": "slide"
    }
   },
   "source": [
    "## What does the following code do?\n"
   ]
  },
  {
   "cell_type": "code",
   "execution_count": null,
   "metadata": {
    "slideshow": {
     "slide_type": "-"
    }
   },
   "outputs": [],
   "source": [
    "def linear(x,a,b):\n",
    "    return a + b*x\n",
    "\n",
    "def linear_r(param,x,y):\n",
    "    return linear(x,param[0],param[1]) - y"
   ]
  },
  {
   "cell_type": "markdown",
   "metadata": {
    "slideshow": {
     "slide_type": "fragment"
    }
   },
   "source": []
  },
  {
   "cell_type": "markdown",
   "metadata": {
    "slideshow": {
     "slide_type": "slide"
    }
   },
   "source": [
    "## What does the following code do?"
   ]
  },
  {
   "cell_type": "code",
   "execution_count": null,
   "metadata": {
    "slideshow": {
     "slide_type": "-"
    }
   },
   "outputs": [],
   "source": [
    "def linear_r(param,x,y):                     # copied from previous cell\n",
    "    return linear(x,param[0],param[1]) - y   # copied from previous cell\n",
    "\n",
    "param_guesses = [1,1]\n",
    "fit = scipy.optimize.least_squares(linear_r,param_guesses,\n",
    "                                   args=(d.x,d.y))\n",
    "fit_a = fit.x[0]\n",
    "fit_b = fit.x[1]\n",
    "sum_of_square_residuals = fit.cost"
   ]
  },
  {
   "cell_type": "markdown",
   "metadata": {
    "slideshow": {
     "slide_type": "fragment"
    }
   },
   "source": []
  },
  {
   "cell_type": "markdown",
   "metadata": {
    "slideshow": {
     "slide_type": "slide"
    }
   },
   "source": [
    "## What does the following code do?\n",
    "+ What the heck is `linspace`?\n",
    "+ What are we plotting?"
   ]
  },
  {
   "cell_type": "code",
   "execution_count": null,
   "metadata": {
    "slideshow": {
     "slide_type": "-"
    }
   },
   "outputs": [],
   "source": [
    "x_range = np.linspace(np.min(d.x),np.max(d.x),100)\n",
    "\n",
    "plt.plot(d.x,d.y,\"o\")\n",
    "plt.plot(x_range,linear(x_range,fit_a,fit_b))\n"
   ]
  },
  {
   "cell_type": "markdown",
   "metadata": {
    "slideshow": {
     "slide_type": "slide"
    }
   },
   "source": [
    "## Put together"
   ]
  },
  {
   "cell_type": "code",
   "execution_count": null,
   "metadata": {
    "slideshow": {
     "slide_type": "-"
    }
   },
   "outputs": [],
   "source": [
    "def linear(x,a,b):\n",
    "    \"\"\"Linear model of x using a (slope) and b (intercept)\"\"\"\n",
    "    return a + b*x\n",
    "\n",
    "def linear_r(param,x,y):\n",
    "    \"\"\"Residuals function for linear\"\"\"\n",
    "    return linear(x,param[0],param[1]) - y\n",
    "\n",
    "# Read data\n",
    "d = pd.read_csv(\"data/dataset_0.csv\")\n",
    "plt.plot(d.x,d.y,'o')\n",
    "\n",
    "# Perform regression\n",
    "param_guesses = [1,1]\n",
    "fit = scipy.optimize.least_squares(linear_r,param_guesses,args=(d.x,d.y))\n",
    "fit_a = fit.x[0]\n",
    "fit_b = fit.x[1]\n",
    "sum_of_square_residuals = fit.cost\n",
    "\n",
    "# Plot result\n",
    "x_range = np.linspace(np.min(d.x),np.max(d.x),100)\n",
    "plt.plot(x_range,linear(x_range,fit_a,fit_b))\n"
   ]
  },
  {
   "cell_type": "markdown",
   "metadata": {
    "slideshow": {
     "slide_type": "slide"
    }
   },
   "source": [
    "<h4>For your assigned model:</h4>\n",
    "<ul>\n",
    "    <li>Write a function and residuals function</li>\n",
    "    <li>Estimate the parameters of the model</li>\n",
    "    <li>Plot the data and the model on the same graph</li>\n",
    "    <li>Write the SSR and number of parameters on the board</li>\n",
    "    <li>If you finish early: plot the residuals and decide if you like your model</li>\n",
    "    <li>If you're still waiting: try to figure out which model best fits dataset_1.csv</li>\n",
    "</ul>\n",
    "<br/>\n",
    "\n",
    "<div style=\"font-size:30px;\" >\n",
    "<div class=\"row\">\n",
    "    <div class=\"col-xs-6\">$y = a \\Big ( \\frac{bx}{1 + bx} \\Big )$</div>\n",
    "    <div class=\"col-xs-6\">$y = a \\Big ( \\frac{bx^{c}}{1 + bx^{c}} \\Big )$</div>\n",
    "</div>\n",
    "\n",
    "<div class=\"row\">\n",
    "    <div class=\"col-xs-6\">$y = a(1 - e^{-bx})$</div>\n",
    "    <div class=\"col-xs-6\">$y = a + bx^{2} + cx^{3}$</div>\n",
    "</div>\n",
    "<div class=\"row\">\n",
    "    <div class=\"col-xs-6\">$y = a + bx^{2} + cx^{3} + dx^{4}$</div>\n",
    "    <div class=\"col-xs-6\">$y = asin(bx + c)$</div>\n",
    "</div>\n",
    "<div class=\"row\">\n",
    "    <div class=\"col-xs-6\">$y = aln(x + b)$</div>\n",
    "    <div class=\"col-xs-6\">$y = aln(bx + c)$</div>\n",
    "</div>\n",
    "\n",
    "\n"
   ]
  },
  {
   "cell_type": "code",
   "execution_count": null,
   "metadata": {},
   "outputs": [],
   "source": []
  },
  {
   "cell_type": "code",
   "execution_count": null,
   "metadata": {},
   "outputs": [],
   "source": []
  }
 ],
 "metadata": {
  "kernelspec": {
   "display_name": "Python 3",
   "language": "python",
   "name": "python3"
  },
  "language_info": {
   "codemirror_mode": {
    "name": "ipython",
    "version": 3
   },
   "file_extension": ".py",
   "mimetype": "text/x-python",
   "name": "python",
   "nbconvert_exporter": "python",
   "pygments_lexer": "ipython3",
   "version": "3.7.3"
  }
 },
 "nbformat": 4,
 "nbformat_minor": 1
}
