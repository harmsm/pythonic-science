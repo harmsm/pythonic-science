{
 "cells": [
  {
   "cell_type": "code",
   "execution_count": 1,
   "metadata": {
    "slideshow": {
     "slide_type": "slide"
    }
   },
   "outputs": [],
   "source": [
    "%matplotlib inline\n",
    "import numpy as np\n",
    "import matplotlib.pylab as plt"
   ]
  },
  {
   "cell_type": "code",
   "execution_count": 2,
   "metadata": {
    "slideshow": {
     "slide_type": "-"
    }
   },
   "outputs": [],
   "source": [
    "import scipy.optimize\n",
    "import pandas as pd"
   ]
  },
  {
   "cell_type": "markdown",
   "metadata": {
    "slideshow": {
     "slide_type": "slide"
    }
   },
   "source": [
    "## What does the following code do?"
   ]
  },
  {
   "cell_type": "code",
   "execution_count": null,
   "metadata": {
    "scrolled": true,
    "slideshow": {
     "slide_type": "-"
    }
   },
   "outputs": [],
   "source": [
    "d = pd.read_csv(\"data/dataset_0.csv\")\n",
    "fig, ax = plt.subplots()\n",
    "ax.plot(d.x,d.y,'o')"
   ]
  },
  {
   "cell_type": "markdown",
   "metadata": {
    "slideshow": {
     "slide_type": "slide"
    }
   },
   "source": [
    "## What does the following code do?"
   ]
  },
  {
   "cell_type": "code",
   "execution_count": null,
   "metadata": {
    "slideshow": {
     "slide_type": "-"
    }
   },
   "outputs": [],
   "source": [
    "def linear(x,a,b):\n",
    "    return a + b*x"
   ]
  },
  {
   "cell_type": "markdown",
   "metadata": {
    "slideshow": {
     "slide_type": "fragment"
    }
   },
   "source": []
  },
  {
   "cell_type": "markdown",
   "metadata": {
    "slideshow": {
     "slide_type": "slide"
    }
   },
   "source": [
    "## What does the following code do?\n"
   ]
  },
  {
   "cell_type": "code",
   "execution_count": null,
   "metadata": {
    "slideshow": {
     "slide_type": "-"
    }
   },
   "outputs": [],
   "source": [
    "def linear(x,a,b):\n",
    "    return a + b*x\n",
    "\n",
    "def linear_r(param,x,y):\n",
    "    return linear(x,param[0],param[1]) - y"
   ]
  },
  {
   "cell_type": "markdown",
   "metadata": {
    "slideshow": {
     "slide_type": "fragment"
    }
   },
   "source": []
  },
  {
   "cell_type": "markdown",
   "metadata": {
    "slideshow": {
     "slide_type": "slide"
    }
   },
   "source": [
    "## What does the following code do?"
   ]
  },
  {
   "cell_type": "code",
   "execution_count": null,
   "metadata": {
    "slideshow": {
     "slide_type": "-"
    }
   },
   "outputs": [],
   "source": [
    "def linear_r(param,x,y):                     # copied from previous cell\n",
    "    return linear(x,param[0],param[1]) - y   # copied from previous cell\n",
    "\n",
    "param_guesses = [1,1]\n",
    "fit = scipy.optimize.least_squares(linear_r,param_guesses,\n",
    "                                   args=(d.x,d.y))\n",
    "fit_a = fit.x[0]\n",
    "fit_b = fit.x[1]\n",
    "sum_of_square_residuals = fit.cost"
   ]
  },
  {
   "cell_type": "markdown",
   "metadata": {
    "slideshow": {
     "slide_type": "fragment"
    }
   },
   "source": []
  },
  {
   "cell_type": "markdown",
   "metadata": {
    "slideshow": {
     "slide_type": "slide"
    }
   },
   "source": [
    "## What does the following code do?\n",
    "+ What the heck is `linspace`?\n",
    "+ What are we plotting?"
   ]
  },
  {
   "cell_type": "code",
   "execution_count": null,
   "metadata": {
    "slideshow": {
     "slide_type": "-"
    }
   },
   "outputs": [],
   "source": [
    "x_range = np.linspace(np.min(d.x),np.max(d.x),100)\n",
    "\n",
    "fig, ax = plt.subplots()\n",
    "ax.plot(d.x,d.y,\"o\")\n",
    "ax.plot(x_range,linear(x_range,fit_a,fit_b))\n"
   ]
  },
  {
   "cell_type": "markdown",
   "metadata": {
    "slideshow": {
     "slide_type": "slide"
    }
   },
   "source": [
    "## Put together"
   ]
  },
  {
   "cell_type": "code",
   "execution_count": 7,
   "metadata": {
    "slideshow": {
     "slide_type": "-"
    }
   },
   "outputs": [
    {
     "data": {
      "text/plain": [
       " active_mask: array([0., 0.])\n",
       "        cost: 4.261679630541931\n",
       "         fun: array([ 1.10967611,  0.37884357,  0.7262888 ,  0.19610326, -0.07363268,\n",
       "        0.87402953, -0.04205402,  0.34759648, -0.25938691,  0.03667523,\n",
       "       -0.17507308, -0.68958901, -0.08836881, -0.34453537, -0.55445953,\n",
       "       -0.28176203, -0.30205479, -0.53989842,  0.02746354, -0.86197952,\n",
       "       -0.2592627 , -0.24275086, -0.42436478, -0.32125392,  0.05872358,\n",
       "       -0.29706174, -0.14169496, -0.89286187,  0.2943461 , -0.30268024,\n",
       "       -0.46564262,  0.41435537,  0.40923643, -0.0323235 ,  0.25418016,\n",
       "        0.81366676,  0.28895853,  0.0650563 ,  0.60869764,  0.33681213,\n",
       "        0.35198181])\n",
       "        grad: array([ 1.17124844e-08, -2.48689958e-14])\n",
       "         jac: array([[ 1.        ,  0.        ],\n",
       "       [ 1.        ,  0.25      ],\n",
       "       [ 1.        ,  0.5       ],\n",
       "       [ 1.        ,  0.75      ],\n",
       "       [ 1.00000001,  1.        ],\n",
       "       [ 1.        ,  1.25      ],\n",
       "       [ 1.        ,  1.5       ],\n",
       "       [ 0.99999999,  1.75      ],\n",
       "       [ 1.        ,  2.        ],\n",
       "       [ 1.00000001,  2.25      ],\n",
       "       [ 1.        ,  2.5       ],\n",
       "       [ 1.00000001,  2.75      ],\n",
       "       [ 0.99999999,  3.        ],\n",
       "       [ 0.99999999,  3.25      ],\n",
       "       [ 0.99999999,  3.5       ],\n",
       "       [ 0.99999999,  3.75      ],\n",
       "       [ 0.99999999,  4.        ],\n",
       "       [ 0.99999999,  4.25      ],\n",
       "       [ 1.00000001,  4.5       ],\n",
       "       [ 1.00000001,  4.75      ],\n",
       "       [ 1.00000001,  5.        ],\n",
       "       [ 1.00000001,  5.25      ],\n",
       "       [ 1.00000001,  5.5       ],\n",
       "       [ 0.99999999,  5.75      ],\n",
       "       [ 0.99999999,  6.        ],\n",
       "       [ 0.99999999,  6.25      ],\n",
       "       [ 0.99999999,  6.5       ],\n",
       "       [ 0.99999999,  6.75      ],\n",
       "       [ 0.99999999,  7.        ],\n",
       "       [ 0.99999999,  7.25      ],\n",
       "       [ 1.00000001,  7.5       ],\n",
       "       [ 1.00000001,  7.75      ],\n",
       "       [ 1.00000001,  8.        ],\n",
       "       [ 1.00000001,  8.25      ],\n",
       "       [ 1.00000001,  8.5       ],\n",
       "       [ 0.99999999,  8.75      ],\n",
       "       [ 1.00000001,  9.        ],\n",
       "       [ 1.00000001,  9.25      ],\n",
       "       [ 1.00000001,  9.5       ],\n",
       "       [ 1.00000001,  9.75      ],\n",
       "       [ 1.00000001, 10.        ]])\n",
       "     message: 'Both `ftol` and `xtol` termination conditions are satisfied.'\n",
       "        nfev: 3\n",
       "        njev: 3\n",
       "  optimality: 1.1712484371262377e-08\n",
       "      status: 4\n",
       "     success: True\n",
       "           x: array([1.13006323, 0.31994236])"
      ]
     },
     "execution_count": 7,
     "metadata": {},
     "output_type": "execute_result"
    },
    {
     "data": {
      "image/png": "[encoded data removed]",
      "text/plain": [
       "<Figure size 432x288 with 1 Axes>"
      ]
     },
     "metadata": {
      "needs_background": "light"
     },
     "output_type": "display_data"
    }
   ],
   "source": [
    "def linear(x,a,b):\n",
    "    \"\"\"Linear model of x using a (slope) and b (intercept)\"\"\"\n",
    "    return a + b*x\n",
    "\n",
    "def linear_r(param,x,y):\n",
    "    \"\"\"Residuals function for linear\"\"\"\n",
    "    return linear(x,param[0],param[1]) - y\n",
    "\n",
    "fig, ax = plt.subplots()\n",
    "\n",
    "# Read data\n",
    "d = pd.read_csv(\"data/dataset_0.csv\")\n",
    "ax.plot(d.x,d.y,'o')\n",
    "\n",
    "# Perform regression\n",
    "param_guesses = [1,1]\n",
    "fit = scipy.optimize.least_squares(linear_r,param_guesses,args=(d.x,d.y))\n",
    "fit_a = fit.x[0]\n",
    "fit_b = fit.x[1]\n",
    "sum_of_square_residuals = fit.cost\n",
    "\n",
    "# Plot result\n",
    "x_range = np.linspace(np.min(d.x),np.max(d.x),100)\n",
    "ax.plot(x_range,linear(x_range,fit_a,fit_b))\n",
    "\n",
    "fit\n"
   ]
  },
  {
   "cell_type": "markdown",
   "metadata": {
    "slideshow": {
     "slide_type": "slide"
    }
   },
   "source": [
    "<h4>For your assigned model:</h4>\n",
    "<ul>\n",
    "    <li>Write a function and residuals function</li>\n",
    "    <li>Estimate the parameters of the model</li>\n",
    "    <li>Plot the data and the model on the same graph</li>\n",
    "    <li>Write the SSR and number of parameters on the board</li>\n",
    "    <li>If you finish early: plot the residuals and decide if you like your model</li>\n",
    "    <li>If you're still waiting: try to figure out which model best fits dataset_1.csv</li>\n",
    "</ul>\n",
    "<br/>\n",
    "\n",
    "<div style=\"font-size:30px;\" >\n",
    "<div class=\"row\">\n",
    "    <div class=\"col-xs-6\">$y = a \\Big ( \\frac{bx}{1 + bx} \\Big )$</div>\n",
    "    <div class=\"col-xs-6\">$y = a \\Big ( \\frac{bx^{c}}{1 + bx^{c}} \\Big )$</div>\n",
    "</div>\n",
    "\n",
    "<div class=\"row\">\n",
    "    <div class=\"col-xs-6\">$y = a(1 - e^{-bx})$</div>\n",
    "    <div class=\"col-xs-6\">$y = a + bx^{2} + cx^{3}$</div>\n",
    "</div>\n",
    "<div class=\"row\">\n",
    "    <div class=\"col-xs-6\">$y = a + bx^{2} + cx^{3} + dx^{4}$</div>\n",
    "    <div class=\"col-xs-6\">$y = asin(bx + c)$</div>\n",
    "</div>\n",
    "<div class=\"row\">\n",
    "    <div class=\"col-xs-6\">$y = aln(x + b)$</div>\n",
    "    <div class=\"col-xs-6\">$y = aln(bx + c)$</div>\n",
    "</div>\n",
    "\n",
    "\n"
   ]
  },
  {
   "cell_type": "code",
   "execution_count": null,
   "metadata": {},
   "outputs": [],
   "source": []
  },
  {
   "cell_type": "code",
   "execution_count": null,
   "metadata": {},
   "outputs": [],
   "source": []
  }
 ],
 "metadata": {
  "kernelspec": {
   "display_name": "Python 3",
   "language": "python",
   "name": "python3"
  },
  "language_info": {
   "codemirror_mode": {
    "name": "ipython",
    "version": 3
   },
   "file_extension": ".py",
   "mimetype": "text/x-python",
   "name": "python",
   "nbconvert_exporter": "python",
   "pygments_lexer": "ipython3",
   "version": "3.7.3"
  }
 },
 "nbformat": 4,
 "nbformat_minor": 1
}
