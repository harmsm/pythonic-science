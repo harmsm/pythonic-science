{
 "cells": [
  {
   "cell_type": "markdown",
   "metadata": {
    "slideshow": {
     "slide_type": "slide"
    }
   },
   "source": [
    "### Reading high-throughput sequencing files"
   ]
  },
  {
   "cell_type": "markdown",
   "metadata": {
    "slideshow": {
     "slide_type": "slide"
    }
   },
   "source": [
    "```\n",
    "@SRR001666.1 071112_SLXA-EAS1_s_7:5:1:817:345 length=60\n",
    "GGGTGATGGCCGCTGCCGATGGCGTCAAATCCCACCAAGTTACCCTTAACAACTTAAGGG\n",
    "+SRR001666.1 071112_SLXA-EAS1_s_7:5:1:817:345 length=60\n",
    "IIIIIIIIIIIIIIIIIIIIIIIIIIIIII9IG9ICIIIIIIIIIIIIIIIIIIIIDIII\n",
    "```"
   ]
  },
  {
   "cell_type": "markdown",
   "metadata": {
    "slideshow": {
     "slide_type": "fragment"
    }
   },
   "source": [
    "+ `@` line: basic read information\n",
    "+ sequence line\n",
    "+ `+` metadata line\n",
    "+ quality score line"
   ]
  },
  {
   "cell_type": "markdown",
   "metadata": {
    "slideshow": {
     "slide_type": "slide"
    }
   },
   "source": [
    "### Big files"
   ]
  },
  {
   "cell_type": "code",
   "execution_count": null,
   "metadata": {
    "slideshow": {
     "slide_type": "slide"
    }
   },
   "outputs": [],
   "source": [
    "f = open(\"files/simple-file.txt\")\n",
    "for l in f.readlines():\n",
    "    print(l,end=\"\")\n",
    "f.close()"
   ]
  },
  {
   "cell_type": "markdown",
   "metadata": {
    "slideshow": {
     "slide_type": "slide"
    }
   },
   "source": [
    "### Problem\n",
    "\n",
    "`f.readlines` is powerful **but** you just loaded the whole contents of the file into memory.\n",
    "\n",
    "If the file is 10GB, you may have just crashed your computer!"
   ]
  },
  {
   "cell_type": "markdown",
   "metadata": {
    "slideshow": {
     "slide_type": "slide"
    }
   },
   "source": [
    "### Solution: turn the reader into an `iterator`"
   ]
  },
  {
   "cell_type": "code",
   "execution_count": null,
   "metadata": {
    "scrolled": true,
    "slideshow": {
     "slide_type": "-"
    }
   },
   "outputs": [],
   "source": [
    "with open(\"files/simple-file.txt\") as f:\n",
    "    for l in f:\n",
    "        print(l.strip()) "
   ]
  },
  {
   "cell_type": "markdown",
   "metadata": {
    "slideshow": {
     "slide_type": "slide"
    }
   },
   "source": [
    "```python\n",
    "with open(\"files/simple-file.txt\") as f:\n",
    "    for l in f:\n",
    "        do_something(l)\n",
    "```\n",
    "\n",
    "This bizarro syntax goes through the file line-by-line, wiping out each old line with the new one."
   ]
  },
  {
   "cell_type": "markdown",
   "metadata": {
    "slideshow": {
     "slide_type": "slide"
    }
   },
   "source": [
    "### What if you have a *compressed* input file?"
   ]
  },
  {
   "cell_type": "code",
   "execution_count": null,
   "metadata": {
    "slideshow": {
     "slide_type": "-"
    }
   },
   "outputs": [],
   "source": [
    "with open(\"files/simple-file.txt.gz\") as f:\n",
    "    for l in f:\n",
    "        print(l.strip())"
   ]
  },
  {
   "cell_type": "markdown",
   "metadata": {
    "slideshow": {
     "slide_type": "slide"
    }
   },
   "source": [
    "### Use the `gzip` module"
   ]
  },
  {
   "cell_type": "code",
   "execution_count": null,
   "metadata": {
    "slideshow": {
     "slide_type": "-"
    }
   },
   "outputs": [],
   "source": [
    "import gzip\n",
    "\n",
    "with gzip.open(\"files/simple-file.txt.gz\") as f:\n",
    "    for l in f:\n",
    "        l_ascii = l.decode(\"ascii\")\n",
    "        print(l_ascii.strip())"
   ]
  },
  {
   "cell_type": "markdown",
   "metadata": {
    "slideshow": {
     "slide_type": "slide"
    }
   },
   "source": [
    "```python\n",
    "import gzip\n",
    "\n",
    "with gzip.open(\"files/simple-file.txt.gz\") as f:\n",
    "    for l in f:\n",
    "        l_ascii = l.decode(\"ascii\")\n",
    "        print(l_ascii.strip())\n",
    "```\n",
    "\n",
    "+ `gzip.open` is just like `open` except it takes a .gz file\n",
    "+ `l.decode(\"ascii\")` species that the binary blob that just came out of the file is normal text"
   ]
  },
  {
   "cell_type": "markdown",
   "metadata": {
    "slideshow": {
     "slide_type": "slide"
    }
   },
   "source": [
    " + What sequence occurs most often the in the file `files/example.fastq.gz`? \n",
    " + **Bonus**: create a histogram of read quality. The last line gives the PHRED score--[Probability of error](https://en.wikipedia.org/wiki/FASTQ_format#Quality)--for each nucleotide. It ranges from `1.00000` (encoded as the letter `0`) to `0.00006` (encoded by the letter `K`).  Sum up the score for all bases in the alignment. Table is here: (http://www.drive5.com/usearch/manual/qscores.gif)\n"
   ]
  },
  {
   "cell_type": "markdown",
   "metadata": {
    "slideshow": {
     "slide_type": "-"
    }
   },
   "source": [
    "```\n",
    "@SRR001666.1 071112_SLXA-EAS1_s_7:5:1:817:345 length=60\n",
    "GGGTGATGGCCGCTGCCGATGGCGTCAAATCCCACCAAGTTACCCTTAACAACTTAAGGG\n",
    "+SRR001666.1 071112_SLXA-EAS1_s_7:5:1:817:345 length=60\n",
    "IIIIIIIIIIIIIIIIIIIIIIIIIIIIII9IG9ICIIIIIIIIIIIIIIIIIIIIDIII\n",
    "```"
   ]
  },
  {
   "cell_type": "code",
   "execution_count": null,
   "metadata": {
    "slideshow": {
     "slide_type": "slide"
    }
   },
   "outputs": [],
   "source": [
    "    \n",
    "import gzip\n",
    "\n",
    "get_line = False\n",
    "seqs = {}\n",
    "with gzip.open(\"files/example.fastq.gz\") as f:\n",
    "    for l in f:\n",
    "        l_ascii = l.decode(\"ascii\")\n",
    "        if l_ascii[0] == \"@\":\n",
    "            get_line = True\n",
    "            continue\n",
    "        if get_line:\n",
    "            try:\n",
    "                seqs[l_ascii.strip()] += 1\n",
    "            except KeyError:\n",
    "                seqs[l_ascii.strip()] = 1\n",
    "            get_line = False\n",
    "\n",
    "\n",
    "seq_as_list = [(seqs[s],s) for s in seqs.keys()]\n",
    "seq_as_list.sort()\n",
    "print(seq_as_list[-1])\n",
    "\n",
    "    \n",
    "\n"
   ]
  },
  {
   "cell_type": "code",
   "execution_count": null,
   "metadata": {},
   "outputs": [],
   "source": []
  }
 ],
 "metadata": {
  "celltoolbar": "Slideshow",
  "kernelspec": {
   "display_name": "Python 3",
   "language": "python",
   "name": "python3"
  },
  "language_info": {
   "codemirror_mode": {
    "name": "ipython",
    "version": 3
   },
   "file_extension": ".py",
   "mimetype": "text/x-python",
   "name": "python",
   "nbconvert_exporter": "python",
   "pygments_lexer": "ipython3",
   "version": "3.7.3"
  }
 },
 "nbformat": 4,
 "nbformat_minor": 1
}
