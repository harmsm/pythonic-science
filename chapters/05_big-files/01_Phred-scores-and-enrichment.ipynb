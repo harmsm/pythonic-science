{
 "cells": [
  {
   "cell_type": "code",
   "execution_count": 1,
   "metadata": {
    "collapsed": true,
    "slideshow": {
     "slide_type": "slide"
    }
   },
   "outputs": [],
   "source": [
    "%matplotlib inline\n",
    "from matplotlib import pyplot as plt\n",
    "import numpy as np"
   ]
  },
  {
   "cell_type": "markdown",
   "metadata": {
    "slideshow": {
     "slide_type": "slide"
    }
   },
   "source": [
    "### Extracting information about sequence quality and enrichment"
   ]
  },
  {
   "cell_type": "markdown",
   "metadata": {
    "slideshow": {
     "slide_type": "slide"
    }
   },
   "source": [
    "### Enrichment\n",
    "\n",
    "+ Often want to compare two datasets (tissue 1 vs. tissue 2; -drug vs. +drug; etc.)\n",
    "+ Done by taking ratio of counts for sequences between data sets\n",
    "\n",
    "$$f_{seq} = \\frac{C_{seq}}{C_{total}}$$\n",
    "\n",
    "The normalized frequency of a sequence $f_{seq}$ is determined by the number of counts of that sequence relative to all counts in the data set."
   ]
  },
  {
   "cell_type": "markdown",
   "metadata": {
    "slideshow": {
     "slide_type": "slide"
    }
   },
   "source": [
    "The enrichment of the sequence in dataset 2 vs. dataset 1 is given by:\n",
    "\n",
    "$$E_{seq} = \\frac{f_{seq,2}}{f_{seq,1}}$$\n",
    "\n",
    "where $f_{seq,1}$ and $f_{seq,2}$ are the normalized frequencies of the sequence in dataset 1 and 2. "
   ]
  },
  {
   "cell_type": "markdown",
   "metadata": {
    "slideshow": {
     "slide_type": "slide"
    }
   },
   "source": [
    "### How do we decide which sequences are high enough quality to include? "
   ]
  },
  {
   "cell_type": "markdown",
   "metadata": {
    "slideshow": {
     "slide_type": "slide"
    }
   },
   "source": [
    "<img align=\"center\" style=\"margin: auto\" src=\"https://image.slidesharecdn.com/30-140211095152-phpapp01/95/new-generation-sequencing-technologies-an-overview-13-638.jpg\" />"
   ]
  },
  {
   "cell_type": "markdown",
   "metadata": {
    "slideshow": {
     "slide_type": "slide"
    }
   },
   "source": [
    "<img align=\"center\" style=\"margin: auto\" src=\"http://ted.bti.cornell.edu/epigenome/image/Fig6.jpg\" />"
   ]
  },
  {
   "cell_type": "markdown",
   "metadata": {
    "slideshow": {
     "slide_type": "slide"
    }
   },
   "source": [
    "<img align=\"center\" style=\"margin: auto\" src=\"http://tucf-genomics.tufts.edu/images/faq02_pic03.jpg\" />"
   ]
  },
  {
   "cell_type": "markdown",
   "metadata": {
    "slideshow": {
     "slide_type": "slide"
    }
   },
   "source": [
    "### For each cluster, you get a sequence of colors representing the sequence\n",
    "\n",
    "+ Some bases are read well, others are ambiguous. "
   ]
  },
  {
   "cell_type": "markdown",
   "metadata": {
    "slideshow": {
     "slide_type": "fragment"
    }
   },
   "source": [
    "<img align=\"center\" style=\"margin: auto\" src=\"http://scienceblogs.com/digitalbio/wp-content/blogs.dir/460/files/2012/04/i-9d7e5f68e44ff610ccd339081d93716a-phred_qual1.gif\" />"
   ]
  },
  {
   "cell_type": "markdown",
   "metadata": {
    "slideshow": {
     "slide_type": "slide"
    }
   },
   "source": [
    "### The \"Phred\" score measures confidence in the base \"call\":\n",
    "\n",
    "$$Q = -10log_{10}(p)$$\n",
    "\n",
    "where $p$ is the probability that the call is **wrong**."
   ]
  },
  {
   "cell_type": "markdown",
   "metadata": {
    "slideshow": {
     "slide_type": "fragment"
    }
   },
   "source": [
    "+ Create a plot of Q vs. p.  Is a high \"Q\" good or bad?"
   ]
  },
  {
   "cell_type": "code",
   "execution_count": 3,
   "metadata": {
    "collapsed": false,
    "slideshow": {
     "slide_type": "slide"
    }
   },
   "outputs": [
    {
     "data": {
      "text/plain": [
       "<matplotlib.text.Text at 0x7f381c361780>"
      ]
     },
     "execution_count": 3,
     "metadata": {},
     "output_type": "execute_result"
    },
    {
     "data": {
      "image/png": "[encoded data removed]",
      "text/plain": [
       "<matplotlib.figure.Figure at 0x7f381c3ad198>"
      ]
     },
     "metadata": {},
     "output_type": "display_data"
    }
   ],
   "source": [
    "p = np.arange(0.001,1,0.001)\n",
    "plt.plot(p,-10*np.log10(p))\n",
    "plt.title(\"High Q score is good\")"
   ]
  },
  {
   "cell_type": "markdown",
   "metadata": {
    "slideshow": {
     "slide_type": "slide"
    }
   },
   "source": [
    "#### Phred scores are encoded in last line:\n",
    "\n",
    "```\n",
    "@SRR001666.1 071112_SLXA-EAS1_s_7:5:1:817:345 length=60\n",
    "GGGTGATGGCCGCTGCCGATGGCGTCAAATCCCACCAAGTTACCCTTAACAACTTAAGGG\n",
    "+SRR001666.1 071112_SLXA-EAS1_s_7:5:1:817:345 length=60\n",
    "IIIIIIIIIIIIIIIIIIIIIIIIIIIIII9IG9ICIIIIIIIIIIIIIIIIIIIIDIII\n",
    "```"
   ]
  },
  {
   "cell_type": "markdown",
   "metadata": {
    "slideshow": {
     "slide_type": "slide"
    }
   },
   "source": [
    "### Encoding goes like\n",
    "\n",
    "|Letter | ASCII | $Q$ | $p$     |\n",
    "|:-----:|:-----:|:---:| -------:|\n",
    "|  `!`  | 33    | 0   | 1.00000 |\n",
    "|  `\"`  | 34    | 1   | 0.79433 |\n",
    "|  `#`  | 35    | 2   | 0.63096 |\n",
    "|  ...  | ...   | ... | ...     |\n",
    "|  `J`  | 74    | 41  | 0.00008 |\n",
    "|  `K`  | 75    | 42  | 0.00006 |"
   ]
  },
  {
   "cell_type": "markdown",
   "metadata": {
    "slideshow": {
     "slide_type": "slide"
    }
   },
   "source": [
    "### python `chr` command converts integer ASCII to character"
   ]
  },
  {
   "cell_type": "code",
   "execution_count": 6,
   "metadata": {
    "collapsed": false,
    "slideshow": {
     "slide_type": "-"
    }
   },
   "outputs": [
    {
     "name": "stdout",
     "output_type": "stream",
     "text": [
      "!\n",
      "\"\n",
      "#\n",
      "...\n",
      "J\n",
      "K\n"
     ]
    }
   ],
   "source": [
    "print(chr(33))\n",
    "print(chr(34))\n",
    "print(chr(35))\n",
    "print(\"...\")\n",
    "print(chr(74))\n",
    "print(chr(75))"
   ]
  },
  {
   "cell_type": "markdown",
   "metadata": {
    "slideshow": {
     "slide_type": "slide"
    }
   },
   "source": [
    "### Can create dictionary that converts letters to quality scores"
   ]
  },
  {
   "cell_type": "code",
   "execution_count": 8,
   "metadata": {
    "collapsed": false,
    "slideshow": {
     "slide_type": "-"
    }
   },
   "outputs": [
    {
     "data": {
      "text/plain": [
       "6.309573444801929e-05"
      ]
     },
     "execution_count": 8,
     "metadata": {},
     "output_type": "execute_result"
    }
   ],
   "source": [
    "Q_dict = {}\n",
    "p_dict = {}\n",
    "for i in range(33,76):\n",
    "    Q_dict[chr(i)] = i-33\n",
    "    p_dict[chr(i)] = 10**(-(Q_dict[chr(i)])/10.)\n",
    "    \n",
    "p_dict[\"K\"]"
   ]
  },
  {
   "cell_type": "markdown",
   "metadata": {
    "slideshow": {
     "slide_type": "slide"
    }
   },
   "source": [
    "### Example\n",
    "\n",
    "$$p_{correct} = \\prod_{i=1}^{L} (1-p_{incorrect})$$\n",
    "\n",
    "where $i$ indexes along sequence and $L$ is sequence length."
   ]
  },
  {
   "cell_type": "code",
   "execution_count": 9,
   "metadata": {
    "collapsed": false,
    "slideshow": {
     "slide_type": "-"
    }
   },
   "outputs": [
    {
     "name": "stdout",
     "output_type": "stream",
     "text": [
      "0.9857512130454114\n"
     ]
    }
   ],
   "source": [
    "qual_string = \"IIIIIIIIIIIIIIIIIIIIIIIIIIIIII9IG9ICIIIIIIIIIIIIIIIIIIIIDIII\"\n",
    "\n",
    "p_correct = 1.0\n",
    "for q in qual_string:\n",
    "    p_correct = p_correct*(1-p_dict[q])\n",
    "\n",
    "print(p_correct)"
   ]
  },
  {
   "cell_type": "markdown",
   "metadata": {
    "slideshow": {
     "slide_type": "slide"
    }
   },
   "source": [
    "### Modify this code to pull out the $p_{correct}$ each the sequence"
   ]
  },
  {
   "cell_type": "code",
   "execution_count": null,
   "metadata": {
    "collapsed": true,
    "slideshow": {
     "slide_type": "-"
    }
   },
   "outputs": [],
   "source": [
    "import gzip\n",
    "\n",
    "get_line = False\n",
    "seqs = {}\n",
    "with gzip.open(\"files/example.fastq.gz\") as f:\n",
    "    for l in f:\n",
    "        l_ascii = l.decode(\"ascii\")\n",
    "        if l_ascii[0] == \"@\":\n",
    "            get_line = True\n",
    "            continue\n",
    "        if get_line:\n",
    "            try:\n",
    "                seqs[l_ascii.strip()] += 1\n",
    "            except KeyError:\n",
    "                seqs[l_ascii.strip()] = 1\n",
    "            get_line = False"
   ]
  },
  {
   "cell_type": "markdown",
   "metadata": {
    "slideshow": {
     "slide_type": "-"
    }
   },
   "source": [
    "### Does sequence quality vary along the length of your reads?"
   ]
  },
  {
   "cell_type": "code",
   "execution_count": 25,
   "metadata": {
    "collapsed": false,
    "scrolled": false
   },
   "outputs": [
    {
     "data": {
      "text/plain": [
       "(0, 1)"
      ]
     },
     "execution_count": 25,
     "metadata": {},
     "output_type": "execute_result"
    },
    {
     "data": {
      "image/png": "[encoded data removed]",
      "text/plain": [
       "<matplotlib.figure.Figure at 0x7f381bdc2f60>"
      ]
     },
     "metadata": {},
     "output_type": "display_data"
    }
   ],
   "source": [
    "import gzip\n",
    "\n",
    "Q_dict = {}\n",
    "p_dict = {}\n",
    "for i in range(33,76):\n",
    "    Q_dict[chr(i)] = i-33\n",
    "    p_dict[chr(i)] = 10**(-(Q_dict[chr(i)])/10.)\n",
    "\n",
    "def prob_correct(qual_string):\n",
    "\n",
    "    p_correct = 1.0\n",
    "    out = []\n",
    "    for q in qual_string:\n",
    "        p_correct = p_correct*(1-p_dict[q])\n",
    "        out.append(1-p_dict[q])\n",
    "    \n",
    "    return out, p_correct\n",
    "\n",
    "get_line = 100\n",
    "seqs = {}\n",
    "x = np.zeros(75,dtype=float)\n",
    "j = 0\n",
    "with gzip.open(\"files/example.fastq.gz\") as f:\n",
    "    for l in f:\n",
    "        l_ascii = l.decode(\"ascii\")\n",
    "        if l_ascii[0] == \"@\":\n",
    "            get_line = 0\n",
    "            j += 1\n",
    "            continue\n",
    "        if get_line == 1:\n",
    "            try:\n",
    "                seqs[l_ascii.strip()] += 1\n",
    "            except KeyError:\n",
    "                seqs[l_ascii.strip()] = 1\n",
    "            get_line += 1\n",
    "        elif get_line == 2:                \n",
    "            out, p = prob_correct(l_ascii.strip())\n",
    "            x += np.array(out)\n",
    "            #plt.plot(out)\n",
    "            get_line = 100\n",
    "            \n",
    "        else:\n",
    "            get_line += 1\n",
    "            \n",
    "plt.plot(x/j)\n",
    "plt.ylim(0,1)"
   ]
  },
  {
   "cell_type": "code",
   "execution_count": null,
   "metadata": {
    "collapsed": true
   },
   "outputs": [],
   "source": []
  }
 ],
 "metadata": {
  "celltoolbar": "Slideshow",
  "kernelspec": {
   "display_name": "Python 3",
   "language": "python",
   "name": "python3"
  },
  "language_info": {
   "codemirror_mode": {
    "name": "ipython",
    "version": 3
   },
   "file_extension": ".py",
   "mimetype": "text/x-python",
   "name": "python",
   "nbconvert_exporter": "python",
   "pygments_lexer": "ipython3",
   "version": "3.5.2"
  }
 },
 "nbformat": 4,
 "nbformat_minor": 1
}
