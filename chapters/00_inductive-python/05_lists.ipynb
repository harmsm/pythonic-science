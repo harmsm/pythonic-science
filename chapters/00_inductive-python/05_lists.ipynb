{
 "cells": [
  {
   "cell_type": "markdown",
   "metadata": {
    "slideshow": {
     "slide_type": "slide"
    }
   },
   "source": [
    "# Lists\n",
    "Lists are objects that let you hold on to multiple values at once in a sane and organized fashion."
   ]
  },
  {
   "cell_type": "markdown",
   "metadata": {
    "slideshow": {
     "slide_type": "slide"
    }
   },
   "source": [
    "### Introduction\n",
    "\n",
    "Lists are ordered collections of objects.  Objects in lists can be of any type.  You can also add and remove list entries.  They are indicated by \"`[`\" and \"`]`\" brackets.\n",
    "\n",
    "```\n",
    "my_list = [1,2,3]\n",
    "```"
   ]
  },
  {
   "cell_type": "markdown",
   "metadata": {
    "slideshow": {
     "slide_type": "slide"
    }
   },
   "source": [
    "### Indexing\n",
    "\n",
    "\n",
    "#### Predict what this code does."
   ]
  },
  {
   "cell_type": "code",
   "execution_count": null,
   "metadata": {
    "scrolled": true,
    "slideshow": {
     "slide_type": "-"
    }
   },
   "outputs": [],
   "source": [
    "some_list = [10,20,30]\n",
    "print(some_list[2])"
   ]
  },
  {
   "cell_type": "code",
   "execution_count": null,
   "metadata": {
    "slideshow": {
     "slide_type": "-"
    }
   },
   "outputs": [],
   "source": [
    "some_list = [10,20,30]\n",
    "print(some_list[0])"
   ]
  },
  {
   "cell_type": "code",
   "execution_count": null,
   "metadata": {
    "slideshow": {
     "slide_type": "-"
    }
   },
   "outputs": [],
   "source": [
    "some_list = [10,20,30]\n",
    "print(some_list[-1])"
   ]
  },
  {
   "cell_type": "markdown",
   "metadata": {
    "slideshow": {
     "slide_type": "slide"
    }
   },
   "source": [
    "#### Summarize\n",
    "\n",
    "How do you access elements in a list?"
   ]
  },
  {
   "cell_type": "markdown",
   "metadata": {
    "slideshow": {
     "slide_type": "fragment"
    }
   },
   "source": [
    "+ Python lists start at `0` and count to `N-1`. \n",
    "+ Negative numbers (starting at `-1`) count from the right side."
   ]
  },
  {
   "cell_type": "markdown",
   "metadata": {
    "slideshow": {
     "slide_type": "slide"
    }
   },
   "source": [
    "#### Predict what this code does."
   ]
  },
  {
   "cell_type": "code",
   "execution_count": null,
   "metadata": {
    "slideshow": {
     "slide_type": "-"
    }
   },
   "outputs": [],
   "source": [
    "some_list = [10,20,30,40]\n",
    "print(some_list[1:3])"
   ]
  },
  {
   "cell_type": "code",
   "execution_count": null,
   "metadata": {
    "slideshow": {
     "slide_type": "-"
    }
   },
   "outputs": [],
   "source": [
    "some_list = [10,20,30]\n",
    "print(some_list[:3])"
   ]
  },
  {
   "cell_type": "markdown",
   "metadata": {
    "slideshow": {
     "slide_type": "slide"
    }
   },
   "source": [
    "#### Summarize\n",
    "What does the \"`:`\" symbol do?"
   ]
  },
  {
   "cell_type": "markdown",
   "metadata": {
    "slideshow": {
     "slide_type": "fragment"
    }
   },
   "source": [
    "`some_list[i:j+1]` returns the $i^{th}$ through the $j^{th}$ entries in the list. (This is called *slicing*). \n",
    "\n",
    "You can also implicitly specify \"first\" and \"last\" list entry by not putting a number to the left or right of the \"`:`\".\n",
    "\n",
    "`some_list[:3]` gives the $0^{th}$ through the $2^{nd}$ entries.\n",
    "\n",
    "`some_list[1:]` gives the $1^{st}$ through the last entries.\n",
    "\n",
    "`some_list[:]` gives the whole list.\n"
   ]
  },
  {
   "cell_type": "markdown",
   "metadata": {
    "slideshow": {
     "slide_type": "slide"
    }
   },
   "source": [
    "### Setting values in lists\n",
    "\n",
    "#### Predict what this code does."
   ]
  },
  {
   "cell_type": "code",
   "execution_count": null,
   "metadata": {
    "slideshow": {
     "slide_type": "-"
    }
   },
   "outputs": [],
   "source": [
    "some_list = [10,20,30]\n",
    "some_list[0] = 50\n",
    "print(some_list)"
   ]
  },
  {
   "cell_type": "markdown",
   "metadata": {
    "slideshow": {
     "slide_type": "slide"
    }
   },
   "source": [
    "#### Predict what this code does."
   ]
  },
  {
   "cell_type": "code",
   "execution_count": null,
   "metadata": {
    "slideshow": {
     "slide_type": "-"
    }
   },
   "outputs": [],
   "source": [
    "some_list = []\n",
    "for i in range(5):\n",
    "    some_list.append(i)\n",
    "print(some_list)"
   ]
  },
  {
   "cell_type": "markdown",
   "metadata": {
    "slideshow": {
     "slide_type": "slide"
    }
   },
   "source": [
    "#### Predict what this code does."
   ]
  },
  {
   "cell_type": "code",
   "execution_count": null,
   "metadata": {
    "slideshow": {
     "slide_type": "-"
    }
   },
   "outputs": [],
   "source": [
    "some_list = [1,2,3]\n",
    "some_list.insert(2,5)\n",
    "print(some_list)"
   ]
  },
  {
   "cell_type": "code",
   "execution_count": null,
   "metadata": {
    "slideshow": {
     "slide_type": "-"
    }
   },
   "outputs": [],
   "source": [
    "some_list = [10,20,30]\n",
    "some_list.pop(1)\n",
    "print(some_list)"
   ]
  },
  {
   "cell_type": "code",
   "execution_count": null,
   "metadata": {
    "slideshow": {
     "slide_type": "fragment"
    }
   },
   "outputs": [],
   "source": [
    "some_list = [10,20,30]\n",
    "some_list.remove(30)\n",
    "print(some_list)"
   ]
  },
  {
   "cell_type": "markdown",
   "metadata": {
    "slideshow": {
     "slide_type": "slide"
    }
   },
   "source": [
    "#### Summarize\n",
    "\n",
    "How can you change entries in a list?"
   ]
  },
  {
   "cell_type": "markdown",
   "metadata": {
    "slideshow": {
     "slide_type": "fragment"
    }
   },
   "source": [
    "+ Change $i^{th}$ entry to $x$ by `some_list[i] = x`\n",
    "+ Append $x$ to the end by `some_list.append(x)`\n",
    "+ Insert $x$ at the $i^{th}$ position by `some_list.insert(i,x)`\n",
    "+ Remove the $i^{th}$ entry by `some_list.pop(i)`\n",
    "+ Remove the first entry with value $x$ by `some_list.remove(x)`"
   ]
  },
  {
   "cell_type": "markdown",
   "metadata": {
    "slideshow": {
     "slide_type": "slide"
    }
   },
   "source": [
    "#### Implement\n",
    "\n",
    "Write a program that creates a list with all integers from 0 to 9 and then replaces the 5 with the number 423.\n"
   ]
  },
  {
   "cell_type": "code",
   "execution_count": null,
   "metadata": {
    "slideshow": {
     "slide_type": "fragment"
    }
   },
   "outputs": [],
   "source": [
    "some_list = []\n",
    "for i in range(10):\n",
    "    some_list.append(i)\n",
    "some_list[5] = 423\n",
    "\n",
    "print(some_list)\n",
    "\n",
    "# OR, more compact:\n",
    "\n",
    "some_list = list(range(10))\n",
    "some_list[5] = 423\n",
    "print(some_list)\n"
   ]
  },
  {
   "cell_type": "markdown",
   "metadata": {
    "slideshow": {
     "slide_type": "slide"
    }
   },
   "source": [
    "### Miscellaneous List Stuff"
   ]
  },
  {
   "cell_type": "code",
   "execution_count": null,
   "metadata": {
    "slideshow": {
     "slide_type": "-"
    }
   },
   "outputs": [],
   "source": [
    "# You can put anything in a list\n",
    "some_list = [\"test\",1,1.52323,print]"
   ]
  },
  {
   "cell_type": "code",
   "execution_count": null,
   "metadata": {
    "slideshow": {
     "slide_type": "fragment"
    }
   },
   "outputs": [],
   "source": [
    "# You can even put a list in a list\n",
    "some_list = [[1,2,3],[4,5,6],[7,8,9]] # a list of three lists!"
   ]
  },
  {
   "cell_type": "code",
   "execution_count": null,
   "metadata": {
    "slideshow": {
     "slide_type": "fragment"
    }
   },
   "outputs": [],
   "source": [
    "# You can get the length of a list with len(some_list)\n",
    "some_list = [10,20,30]\n",
    "print(len(some_list))"
   ]
  },
  {
   "cell_type": "markdown",
   "metadata": {
    "slideshow": {
     "slide_type": "slide"
    }
   },
   "source": [
    "### Copying lists\n",
    "\n",
    "(a confusing point for python programmers)"
   ]
  },
  {
   "cell_type": "markdown",
   "metadata": {
    "slideshow": {
     "slide_type": "slide"
    }
   },
   "source": [
    "#### Predict what this code does."
   ]
  },
  {
   "cell_type": "code",
   "execution_count": null,
   "metadata": {
    "slideshow": {
     "slide_type": "-"
    }
   },
   "outputs": [],
   "source": [
    "some_list = [10,20,30]\n",
    "\n",
    "another_list = some_list\n",
    "some_list[0] = 50\n",
    "\n",
    "print(some_list)\n",
    "print(another_list)"
   ]
  },
  {
   "cell_type": "markdown",
   "metadata": {
    "slideshow": {
     "slide_type": "slide"
    }
   },
   "source": [
    "#### Predict what this code does."
   ]
  },
  {
   "cell_type": "code",
   "execution_count": null,
   "metadata": {
    "scrolled": false,
    "slideshow": {
     "slide_type": "-"
    }
   },
   "outputs": [],
   "source": [
    "import copy\n",
    "\n",
    "some_list = [10,20,30]\n",
    "\n",
    "another_list = copy.deepcopy(some_list)\n",
    "some_list[0] = 50\n",
    "\n",
    "print(some_list)\n",
    "print(another_list)"
   ]
  },
  {
   "cell_type": "markdown",
   "metadata": {
    "slideshow": {
     "slide_type": "fragment"
    }
   },
   "source": [
    "#### Think about it for a moment.  What might be going on?"
   ]
  },
  {
   "cell_type": "markdown",
   "metadata": {
    "slideshow": {
     "slide_type": "slide"
    }
   },
   "source": [
    "<h3><font color=\"red\">DANGER</font></h3>\n",
    "\n",
    "The previous cells demonstrate a common (and confusing) python gotcha when dealing with lists."
   ]
  },
  {
   "cell_type": "markdown",
   "metadata": {
    "slideshow": {
     "slide_type": "slide"
    }
   },
   "source": [
    "#### In the first case:\n",
    "\n",
    "The statement\n",
    "\n",
    "```python\n",
    "    another_list = some_list\n",
    "```\n",
    "\n",
    "says that `another_list` **is** `some_list`.  These are now two labels for the same underlying object.  It does **not** create a new object. If I change `some_list`, it changes `another_list` because they are the same thing. In programming terms, `another_list` and `some_list` are both references to the same object. "
   ]
  },
  {
   "cell_type": "markdown",
   "metadata": {
    "slideshow": {
     "slide_type": "fragment"
    }
   },
   "source": [
    "I can write:\n",
    "\n",
    "```\n",
    "Mary is also known as Jane.\n",
    "```\n",
    "\n",
    "I can then use \"Mary\" or \"Jane\" and it will be understood both labels point to the same person.  If I say, \"Jane has red hair\", it implies that \"Mary\" also has red hair because they are the same person. "
   ]
  },
  {
   "cell_type": "markdown",
   "metadata": {
    "slideshow": {
     "slide_type": "slide"
    }
   },
   "source": [
    "#### In the second case:\n",
    "\n",
    "The statement\n",
    "\n",
    "```python\n",
    "    another_list = copy.deepcopy(some_list)\n",
    "```\n",
    "\n",
    "says to make a copy of `some_list` and call it `another_list`.  These are now independent. I can modify one without modifiying another.  (In programming terms, `another_list` and `some_list` now refer to different objects). "
   ]
  },
  {
   "cell_type": "markdown",
   "metadata": {
    "slideshow": {
     "slide_type": "fragment"
    }
   },
   "source": [
    "In our Mary and Jane analogy, the sentence would be:\n",
    "\n",
    "```\n",
    "I cloned Mary and named the clone Jane.\n",
    "```\n",
    "\n",
    "Now the two labels point to to different people.  If I say \"Jane has red hair\" it does not imply that \"Mary has red hair\" (Mary may have dyed her hair blue).  "
   ]
  },
  {
   "cell_type": "markdown",
   "metadata": {
    "slideshow": {
     "slide_type": "slide"
    }
   },
   "source": [
    "### Summary\n",
    "\n",
    "+ Python lists start at `0` and count to `N-1`.  \n",
    "+ Negative numbers (starting at `-1`) count from the right side.\n",
    "+ \"`:`\" lets you *slice* lists.  \n",
    "    + Using `some_list[i:j+1]` returns the $i^{th}$ through the $j^{th}$ entries in the list. \n",
    "    + `some_list[:3]` gives the $0^{th}$ through the $2^{nd}$ entries.\n",
    "    + `some_list[1:-1]` gives the $1^{st}$ through the last entries.\n",
    "    + `some_list[:]` gives the whole list"
   ]
  },
  {
   "cell_type": "markdown",
   "metadata": {
    "slideshow": {
     "slide_type": "slide"
    }
   },
   "source": [
    "+ Change $i^{th}$ entry to $x$ by `some_list[i] = x`\n",
    "+ Append $x$ to the end by `some_list.append(x)`\n",
    "+ Insert $x$ at the $i^{th}$ position by `some_list.insert(i,x)`\n",
    "+ Remove the $i^{th}$ entry by `some_list.pop(i)`\n",
    "+ Remove the first entry with value $x$ by `some_list.remove(x)`"
   ]
  },
  {
   "cell_type": "markdown",
   "metadata": {
    "slideshow": {
     "slide_type": "slide"
    }
   },
   "source": [
    "If you want to copy a list, do:\n",
    "   \n",
    "```python\n",
    "import copy\n",
    "\n",
    "some_list = [1,2,3]\n",
    "list_copy = copy.deepcopy(some_list)\n",
    "```\n",
    " "
   ]
  }
 ],
 "metadata": {
  "celltoolbar": "Slideshow",
  "kernelspec": {
   "display_name": "Python 3",
   "language": "python",
   "name": "python3"
  },
  "language_info": {
   "codemirror_mode": {
    "name": "ipython",
    "version": 3
   },
   "file_extension": ".py",
   "mimetype": "text/x-python",
   "name": "python",
   "nbconvert_exporter": "python",
   "pygments_lexer": "ipython3",
   "version": "3.6.6"
  }
 },
 "nbformat": 4,
 "nbformat_minor": 1
}
