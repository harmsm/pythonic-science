{
 "cells": [
  {
   "cell_type": "code",
   "execution_count": null,
   "metadata": {},
   "outputs": [],
   "source": [
    "# Basic matplotlib import (with \"magic\" %matplotlib inline\n",
    "# function for integration with matplotlib)\n",
    "%matplotlib inline\n",
    "from matplotlib import pyplot as plt\n",
    "import numpy as np\n"
   ]
  },
  {
   "cell_type": "markdown",
   "metadata": {},
   "source": [
    "### Manipulate plot axes, titles, etc."
   ]
  },
  {
   "cell_type": "code",
   "execution_count": null,
   "metadata": {
    "scrolled": true
   },
   "outputs": [],
   "source": [
    "x = np.arange(-5,5.1,0.1)\n",
    "\n",
    "plt.plot(x,x**2,\"-\")\n",
    "\n",
    "# Set axis labels\n",
    "plt.xlabel(\"x\")\n",
    "plt.ylabel(\"x^2\")\n",
    "\n",
    "# set title\n",
    "plt.title(\"this is the title\")\n",
    "\n",
    "# set x and y ranges\n",
    "plt.xlim((-6,6))\n",
    "plt.ylim((-10,30))\n",
    "\n",
    "\n",
    "plt.show()\n"
   ]
  },
  {
   "cell_type": "markdown",
   "metadata": {},
   "source": [
    "## Plot sundry things"
   ]
  },
  {
   "cell_type": "markdown",
   "metadata": {},
   "source": [
    "### Point types"
   ]
  },
  {
   "cell_type": "code",
   "execution_count": null,
   "metadata": {
    "scrolled": true
   },
   "outputs": [],
   "source": [
    "\n",
    "point_types = [\".\",\",\",\"o\",\"v\",\"^\",\"<\",\">\",\"1\",\"2\",\"3\",\"4\",\"8\",\n",
    "               \"s\",\"p\",\"P\",\"*\",\"h\",\"H\",\"+\",\"x\",\"X\",\"D\",\"d\",\"|\",\n",
    "               \"_\"]\n",
    "for i in range(len(point_types)):\n",
    "    plt.plot([2*i,2*i+4],[2*i,2*i],point_types[i],color=\"black\")\n",
    "\n",
    "plt.show()"
   ]
  },
  {
   "cell_type": "markdown",
   "metadata": {},
   "source": [
    "### Line types"
   ]
  },
  {
   "cell_type": "code",
   "execution_count": null,
   "metadata": {},
   "outputs": [],
   "source": [
    "line_types = [\"-\",\"--\",\":\"]\n",
    "for i in range(len(line_types)):\n",
    "    plt.plot(x,5*i+x**2,line_types[i])\n",
    "    "
   ]
  },
  {
   "cell_type": "markdown",
   "metadata": {},
   "source": [
    "### Colors"
   ]
  },
  {
   "cell_type": "code",
   "execution_count": null,
   "metadata": {},
   "outputs": [],
   "source": [
    "# blue, green, red, cyan, magenta, yellow, black, white\n",
    "colors = [\"b\",\"g\",\"r\",\"c\",\"m\",\"y\",\"k\",\"w\"]\n",
    "\n",
    "for i in range(len(colors)):\n",
    "    plt.plot([2*i,2*i+4],[2*i,2*i],\"o\",color=colors[i])\n"
   ]
  },
  {
   "cell_type": "markdown",
   "metadata": {},
   "source": [
    "### show"
   ]
  },
  {
   "cell_type": "code",
   "execution_count": null,
   "metadata": {
    "scrolled": false
   },
   "outputs": [],
   "source": [
    "# dashed line and points on top of each other\n",
    "plt.plot(x,x**2,\"--\")\n",
    "plt.plot([-4,-2,0,2,4],[-4,-2,0,2,4],\"o\",color=\"red\")\n",
    "plt.show()\n",
    "\n",
    "# dashed line\n",
    "plt.plot(x,x**2,\"--\")\n",
    "plt.show()\n",
    "\n",
    "# points\n",
    "plt.plot([-4,-2,0,2,4],[-4,-2,0,2,4],\"o\",color=\"red\")\n",
    "plt.show()"
   ]
  },
  {
   "cell_type": "markdown",
   "metadata": {},
   "source": [
    "### Write out a pdf"
   ]
  },
  {
   "cell_type": "code",
   "execution_count": null,
   "metadata": {},
   "outputs": [],
   "source": [
    "\n",
    "plt.plot(x,x**2)\n",
    "plt.savefig(\"junk.pdf\")\n"
   ]
  },
  {
   "cell_type": "markdown",
   "metadata": {
    "collapsed": true
   },
   "source": [
    "### Reading\n",
    "\n",
    "http://matplotlib.org/examples/index.html\n",
    "\n"
   ]
  }
 ],
 "metadata": {
  "kernelspec": {
   "display_name": "Python 3",
   "language": "python",
   "name": "python3"
  },
  "language_info": {
   "codemirror_mode": {
    "name": "ipython",
    "version": 3
   },
   "file_extension": ".py",
   "mimetype": "text/x-python",
   "name": "python",
   "nbconvert_exporter": "python",
   "pygments_lexer": "ipython3",
   "version": "3.6.6"
  }
 },
 "nbformat": 4,
 "nbformat_minor": 1
}
