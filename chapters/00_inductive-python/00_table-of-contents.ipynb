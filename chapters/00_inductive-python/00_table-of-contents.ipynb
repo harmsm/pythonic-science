{
 "cells": [
  {
   "cell_type": "markdown",
   "metadata": {
    "slideshow": {
     "slide_type": "slide"
    }
   },
   "source": [
    "# Inductive Python\n",
    "\n",
    "Scientists are really good at starting from specific observations and going\n",
    "to general rules (inductive reasoning).  That's how we're going to teach python.  \n",
    "\n",
    "+ This interactive approach should cement how python works in your mind.  \n",
    "+ This will help you learn to read existing code -- a super-important skill assuming\n",
    "  you don't want to write everything from scratch."
   ]
  },
  {
   "cell_type": "markdown",
   "metadata": {
    "slideshow": {
     "slide_type": "slide"
    }
   },
   "source": [
    "### Approach:\n",
    "\n",
    "For each new idea, these exercises (mostly) follow a defined approach:\n",
    "\n",
    "+ **Predict** (look at code, predict what it does, test the prediction)\n",
    "+ **Summarize** (summarize what the code does)\n",
    "+ **Modify** (take a bit of code and modify it in a defined way)\n",
    "+ **Implement** (write code from scratch using the new concept)"
   ]
  },
  {
   "cell_type": "markdown",
   "metadata": {
    "slideshow": {
     "slide_type": "slide"
    }
   },
   "source": [
    "### Material\n",
    "\n",
    "+ [Intro to Jupyter](01_jupyter-intro.ipynb)\n",
    "+ [Python as a calculator](02_python-as-a-calculator.ipynb)\n",
    "+ [Decision-making in python (conditionals)](03_conditionals.ipynb)\n",
    "+ [Loops](04_loops.ipynb)\n",
    "+ [Lists](05_lists.ipynb)\n",
    "+ [numpy arrays](06_numpy-arrays.ipynb)\n",
    "+ [Tuples and dicts and strings](07_tuples-and-dicts-and-strings.ipynb)\n",
    "+ [Functions](08_functions.ipynb)"
   ]
  },
  {
   "cell_type": "markdown",
   "metadata": {
    "slideshow": {
     "slide_type": "slide"
    }
   },
   "source": [
    "### References\n",
    "+ [Jupyter reference](jupyter_reference.ipynb)\n",
    "+ [Graphing reference](plotting_reference.ipynb)\n",
    "+ [Python cheatsheet](https://pythonic-science.readthedocs.io/en/latest/cheat-sheet.html)\n",
    "+ [Ridiculous Python cheatsheet](https://perso.limsi.fr/pointal/_media/python:cours:mementopython3-english.pdf)"
   ]
  },
  {
   "cell_type": "code",
   "execution_count": null,
   "metadata": {},
   "outputs": [],
   "source": []
  }
 ],
 "metadata": {
  "celltoolbar": "Slideshow",
  "kernelspec": {
   "display_name": "Python 3",
   "language": "python",
   "name": "python3"
  },
  "language_info": {
   "codemirror_mode": {
    "name": "ipython",
    "version": 3
   },
   "file_extension": ".py",
   "mimetype": "text/x-python",
   "name": "python",
   "nbconvert_exporter": "python",
   "pygments_lexer": "ipython3",
   "version": "3.7.3"
  }
 },
 "nbformat": 4,
 "nbformat_minor": 1
}
