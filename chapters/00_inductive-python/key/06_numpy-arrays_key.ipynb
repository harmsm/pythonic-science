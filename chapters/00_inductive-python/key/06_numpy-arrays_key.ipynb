{
 "cells": [
  {
   "cell_type": "markdown",
   "metadata": {
    "slideshow": {
     "slide_type": "slide"
    }
   },
   "source": [
    "### Warm up\n",
    "What will the following code spit out?  (Don't just type it -- pencil and paper it)."
   ]
  },
  {
   "cell_type": "code",
   "execution_count": null,
   "metadata": {
    "slideshow": {
     "slide_type": "-"
    }
   },
   "outputs": [],
   "source": [
    "x = []\n",
    "for i in range(1,11):\n",
    "    if i > 2:\n",
    "        x.append(i**2)\n",
    "print(x[3])"
   ]
  },
  {
   "cell_type": "markdown",
   "metadata": {
    "slideshow": {
     "slide_type": "-"
    }
   },
   "source": [
    "How would you fix the following code so it does what you expect it to do?"
   ]
  },
  {
   "cell_type": "code",
   "execution_count": null,
   "metadata": {},
   "outputs": [],
   "source": [
    "some_list = [1,2,3]\n",
    "a_list_copy = some_list\n",
    "some_list[1] = 273\n"
   ]
  },
  {
   "cell_type": "markdown",
   "metadata": {
    "slideshow": {
     "slide_type": "slide"
    }
   },
   "source": [
    "# Numpy Arrays"
   ]
  },
  {
   "cell_type": "markdown",
   "metadata": {
    "slideshow": {
     "slide_type": "slide"
    }
   },
   "source": [
    "### Python lists are powerful\n",
    "+ Can store any python object\n",
    "+ Can be expanded or contracted at will (`append`, `insert`,`extend`, `remove`, `pop`)"
   ]
  },
  {
   "cell_type": "markdown",
   "metadata": {
    "slideshow": {
     "slide_type": "slide"
    }
   },
   "source": [
    "<img src=\"https://upload.wikimedia.org/wikipedia/commons/thumb/4/48/My_swiss_army_knife.JPG/800px-My_swiss_army_knife.JPG\" height=\"60%\" width=\"60%\" style=\"margin: auto;\"/>"
   ]
  },
  {
   "cell_type": "markdown",
   "metadata": {
    "slideshow": {
     "slide_type": "fragment"
    }
   },
   "source": [
    "### But would you want to cook with a swiss army knife?"
   ]
  },
  {
   "cell_type": "markdown",
   "metadata": {
    "slideshow": {
     "slide_type": "slide"
    }
   },
   "source": [
    "## Numpy arrays are the speciality knives of python programming\n",
    "\n",
    "\n",
    "<img src=\"https://s3.amazonaws.com/cdn.metrokitchen.com/images/uploads/hk-34060-001-zoomed.jpg\" height=\"90%\" width=\"90%\" style=\"margin: auto;\"/>"
   ]
  },
  {
   "cell_type": "markdown",
   "metadata": {
    "slideshow": {
     "slide_type": "slide"
    }
   },
   "source": [
    "### numpy arrays are:\n",
    "+ Less flexible than lists:\n",
    "    + Each array can only store one type of value\n",
    "    + Arrays cannot be resized after they're made"
   ]
  },
  {
   "cell_type": "markdown",
   "metadata": {
    "slideshow": {
     "slide_type": "fragment"
    }
   },
   "source": [
    "+ But numpy arrays are **fast** and set up to do math\n",
    "+ If you've ever done *matlab* programming, numpy arrays use the same syntax"
   ]
  },
  {
   "cell_type": "markdown",
   "metadata": {
    "slideshow": {
     "slide_type": "slide"
    }
   },
   "source": [
    "#### Predict what the following code will print out (and be ready to explain each line)"
   ]
  },
  {
   "cell_type": "code",
   "execution_count": null,
   "metadata": {
    "slideshow": {
     "slide_type": "-"
    }
   },
   "outputs": [],
   "source": [
    "import numpy as np\n",
    "an_array = np.array([1,2,3,4,5,6,7,8,9,10],dtype=np.int64)\n",
    "print(an_array[3])"
   ]
  },
  {
   "cell_type": "code",
   "execution_count": null,
   "metadata": {
    "slideshow": {
     "slide_type": "subslide"
    }
   },
   "outputs": [],
   "source": [
    "import numpy as np # IMPORT numpy (calling it \"np\" for convenience)\n",
    "an_array = np.array([1,2,3,4,5,6,7,8,9,10],dtype=int) # Create a numpy array of integers\n",
    "print(an_array[3]) # print the fourth element"
   ]
  },
  {
   "cell_type": "markdown",
   "metadata": {
    "slideshow": {
     "slide_type": "slide"
    }
   },
   "source": [
    "### numpy arrays are an extension of python, not built in."
   ]
  },
  {
   "cell_type": "markdown",
   "metadata": {
    "slideshow": {
     "slide_type": "slide"
    }
   },
   "source": [
    "### A quick return to lists:\n",
    "\n",
    "#### Predict what this code will do."
   ]
  },
  {
   "cell_type": "code",
   "execution_count": null,
   "metadata": {
    "slideshow": {
     "slide_type": "-"
    }
   },
   "outputs": [],
   "source": [
    "some_list = [1,2,3]\n",
    "print(some_list)\n",
    "print(some_list + 5)"
   ]
  },
  {
   "cell_type": "markdown",
   "metadata": {
    "slideshow": {
     "slide_type": "slide"
    }
   },
   "source": [
    "#### Write a program to add 5 to every entry in the list [1,2,3]"
   ]
  },
  {
   "cell_type": "code",
   "execution_count": null,
   "metadata": {
    "slideshow": {
     "slide_type": "fragment"
    }
   },
   "outputs": [],
   "source": [
    "some_list = [1,2,3]\n",
    "\n",
    "for i in range(len(some_list)):\n",
    "    some_list[i] = some_list[i] + 5"
   ]
  },
  {
   "cell_type": "markdown",
   "metadata": {
    "slideshow": {
     "slide_type": "slide"
    }
   },
   "source": [
    "#### Predict what this code will do"
   ]
  },
  {
   "cell_type": "code",
   "execution_count": null,
   "metadata": {
    "slideshow": {
     "slide_type": "-"
    }
   },
   "outputs": [],
   "source": [
    "import numpy as np  \n",
    "some_array = np.array([1,2,3])\n",
    "some_array = some_array + 5\n",
    "print(some_array)"
   ]
  },
  {
   "cell_type": "markdown",
   "metadata": {
    "slideshow": {
     "slide_type": "fragment"
    }
   },
   "source": [
    "#### You can do math on numpy arrays in an \"element-wise\" fashion."
   ]
  },
  {
   "cell_type": "markdown",
   "metadata": {
    "slideshow": {
     "slide_type": "slide"
    }
   },
   "source": [
    "### numpy arrays are fast"
   ]
  },
  {
   "cell_type": "code",
   "execution_count": null,
   "metadata": {
    "slideshow": {
     "slide_type": "-"
    }
   },
   "outputs": [],
   "source": [
    "import numpy as np\n",
    "\n",
    "a_list = list(range(100000))\n",
    "an_array = np.array(range(100000),dtype=int)"
   ]
  },
  {
   "cell_type": "code",
   "execution_count": null,
   "metadata": {
    "slideshow": {
     "slide_type": "-"
    }
   },
   "outputs": [],
   "source": [
    "%timeit for i in range(100000):  a_list[i] + 5\n",
    "%timeit an_array + 5"
   ]
  },
  {
   "cell_type": "markdown",
   "metadata": {
    "slideshow": {
     "slide_type": "slide"
    }
   },
   "source": [
    "### Can you explain what just happened?"
   ]
  },
  {
   "cell_type": "markdown",
   "metadata": {
    "slideshow": {
     "slide_type": "fragment"
    }
   },
   "source": [
    "+ `for i in range(blah blah)` is in pure python.  This is convenient, but **slow**."
   ]
  },
  {
   "cell_type": "markdown",
   "metadata": {
    "slideshow": {
     "slide_type": "fragment"
    }
   },
   "source": [
    "+ `an_array + 5` actually runs the loop, but in compiled C.  This is super fast."
   ]
  },
  {
   "cell_type": "markdown",
   "metadata": {
    "slideshow": {
     "slide_type": "fragment"
    }
   },
   "source": [
    "### moral: don't use loops when working with numpy arrays."
   ]
  },
  {
   "cell_type": "markdown",
   "metadata": {
    "slideshow": {
     "slide_type": "slide"
    }
   },
   "source": [
    "#### Predict what the following code will do"
   ]
  },
  {
   "cell_type": "code",
   "execution_count": null,
   "metadata": {
    "slideshow": {
     "slide_type": "-"
    }
   },
   "outputs": [],
   "source": [
    "import numpy as np\n",
    "x = np.array([1,2,3])\n",
    "y = np.array([4,5])\n",
    "\n",
    "print(x + y)"
   ]
  },
  {
   "cell_type": "code",
   "execution_count": null,
   "metadata": {
    "slideshow": {
     "slide_type": "-"
    }
   },
   "outputs": [],
   "source": [
    "print(np.sin(x))"
   ]
  },
  {
   "cell_type": "markdown",
   "metadata": {
    "slideshow": {
     "slide_type": "slide"
    }
   },
   "source": [
    "#### Summarize\n",
    "How does math work with numpy arrays?"
   ]
  },
  {
   "cell_type": "markdown",
   "metadata": {
    "slideshow": {
     "slide_type": "fragment"
    }
   },
   "source": [
    "You can do any math you want on all elements of the array at once. "
   ]
  },
  {
   "cell_type": "markdown",
   "metadata": {
    "slideshow": {
     "slide_type": "slide"
    }
   },
   "source": [
    "#### Predict what the following code will do"
   ]
  },
  {
   "cell_type": "code",
   "execution_count": null,
   "metadata": {
    "slideshow": {
     "slide_type": "-"
    }
   },
   "outputs": [],
   "source": [
    "an_array = np.array([[1,2],[3,4]],dtype=int)\n",
    "print(an_array)"
   ]
  },
  {
   "cell_type": "code",
   "execution_count": null,
   "metadata": {
    "slideshow": {
     "slide_type": "-"
    }
   },
   "outputs": [],
   "source": [
    "an_array = np.zeros((2,2),dtype=float)\n",
    "print(an_array)\n",
    "an_array[0,0] = 1\n",
    "an_array[0,1] = 2\n",
    "an_array[1,0] = 3\n",
    "an_array[1,1] = 4\n",
    "print(an_array)"
   ]
  },
  {
   "cell_type": "markdown",
   "metadata": {
    "slideshow": {
     "slide_type": "slide"
    }
   },
   "source": [
    "#### Summarize\n",
    "How can you construct arrays?"
   ]
  },
  {
   "cell_type": "markdown",
   "metadata": {
    "slideshow": {
     "slide_type": "fragment"
    }
   },
   "source": [
    "+ you can `cast` them via np.array(ARRAY_LIKE_THING).  \n",
    "+ you can construct arrays from templates (like `np.zeros`, `np.ones`, `np.eye`)"
   ]
  },
  {
   "cell_type": "markdown",
   "metadata": {
    "slideshow": {
     "slide_type": "slide"
    }
   },
   "source": [
    "#### Predict what the following code will do"
   ]
  },
  {
   "cell_type": "code",
   "execution_count": null,
   "metadata": {
    "scrolled": true,
    "slideshow": {
     "slide_type": "-"
    }
   },
   "outputs": [],
   "source": [
    "an_array = np.array([[1,2,3],[4,5,6],[7,8,9]],dtype=int)\n",
    "print(an_array[-1])\n",
    "print(\"\")\n",
    "print(an_array[0,0])\n",
    "print(\"\")\n",
    "print(an_array[:,0].reshape(3,1))\n",
    "print(\"\")\n",
    "print(an_array[:,:])"
   ]
  },
  {
   "cell_type": "markdown",
   "metadata": {
    "slideshow": {
     "slide_type": "slide"
    }
   },
   "source": [
    "#### Summarize\n",
    "How do you access elements inside multidimensional arrays?"
   ]
  },
  {
   "cell_type": "markdown",
   "metadata": {
    "collapsed": true,
    "slideshow": {
     "slide_type": "fragment"
    }
   },
   "source": [
    "Like lists, but with commas between dimensions:\n",
    "+ `some_array[i,j]` would access the $(i-1)^{th},(j-1)^{th}$ element.\n",
    "+ `some_array[:,:]` would spit out the whole first two dimensions.\n",
    "+ `some_array[i,j,k,l,m,n]` would also work for a 6th dimensional array."
   ]
  },
  {
   "cell_type": "markdown",
   "metadata": {
    "slideshow": {
     "slide_type": "slide"
    }
   },
   "source": [
    "### Numpy arrays are real vectors and matrices"
   ]
  },
  {
   "cell_type": "markdown",
   "metadata": {
    "slideshow": {
     "slide_type": "slide"
    }
   },
   "source": [
    "One major motivation for the authors who created `numpy` was to speed-up mathematical operations on vector, matrix, and tensor-like data structures.\n",
    "\n",
    "+ [`np.linalg`](https://docs.scipy.org/doc/numpy/reference/routines.linalg.html) : Linear algebra module.\n",
    "+ [`np.fft`](https://docs.scipy.org/doc/numpy/reference/routines.fft.html) : Fourier Transform module.\n",
    "+ [`np.random`](https://docs.scipy.org/doc/numpy/reference/routines.random.html) : Random sampling (from various statistical distributions) module.\n",
    "+ [Math operations](https://docs.scipy.org/doc/numpy/reference/routines.math.html)"
   ]
  },
  {
   "cell_type": "markdown",
   "metadata": {
    "slideshow": {
     "slide_type": "slide"
    }
   },
   "source": [
    "##  Numpy vector math operations"
   ]
  },
  {
   "cell_type": "code",
   "execution_count": null,
   "metadata": {
    "slideshow": {
     "slide_type": "-"
    }
   },
   "outputs": [],
   "source": [
    "# Define two vector-like arrays\n",
    "x = np.array([3,5])\n",
    "y = np.array([4,6])\n",
    "\n",
    "print(\"Element wise sum:\" ,          x + y )         # Addition\n",
    "print(\"Element wise difference:\",    x - y )         # Substraction\n",
    "print(\"Element wise product:\",       x * y)          # Product\n",
    "print(\"Element wise division:\",      x / y)          # division\n",
    "print(\"Dot product:\",                np.dot(x, y))   # Dot product"
   ]
  },
  {
   "cell_type": "markdown",
   "metadata": {
    "slideshow": {
     "slide_type": "slide"
    }
   },
   "source": [
    "## Numpy matrix math operations"
   ]
  },
  {
   "cell_type": "code",
   "execution_count": null,
   "metadata": {
    "slideshow": {
     "slide_type": "-"
    }
   },
   "outputs": [],
   "source": [
    "# Define a matrix\n",
    "M = np.array([\n",
    "    [5, 3],\n",
    "    [2, 7]\n",
    "])\n",
    "\n",
    "print(\"Matrix transpose:\\n\",          M.T)                # Transpose\n",
    "print(\"Vector-matrix dot product\",    np.dot(M, x))       # Dot product\n",
    "print(\"Matrix determinant:\",          np.linalg.det(M))   # Determinant\n",
    "print(\"Matrix inverse:\\n\",            np.linalg.inv(M))   # inverse"
   ]
  },
  {
   "cell_type": "markdown",
   "metadata": {
    "slideshow": {
     "slide_type": "slide"
    }
   },
   "source": [
    "## Solve a system of equations\n",
    "\n",
    "<small>\n",
    "\n",
    "Solve a system of equations using `numpy.linalg.solve` function.\n",
    "\n",
    "\n",
    "Example:\n",
    "$$\n",
    "3 x + 2y - z = 1 \\\\\n",
    "2 x - 5y + 4z = -2 \\\\\n",
    "-x + \\frac{1}{2} y - z = 0\n",
    "$$\n",
    "\n",
    "Written in matrix form:\n",
    "$$\n",
    "A \\vec{x} = \\vec{b}\n",
    "$$\n",
    "\n",
    "\n",
    "$$\n",
    "\\left[ \\begin{array}{ccc}\n",
    "3 & 2 & -1 \\\\\n",
    "2 & -5 & 4 \\\\\n",
    "-1 & \\frac{1}{2} & -1 \\\\\n",
    "\\end{array} \\right]\n",
    "%\n",
    "\\left[ \\begin{array}{c}\n",
    "x \\\\\n",
    "y \\\\\n",
    "z\n",
    "\\end{array} \\right]\n",
    "=\n",
    "\\left[ \\begin{array}{c}\n",
    "1 \\\\\n",
    "-2 \\\\\n",
    "0\n",
    "\\end{array} \\right]\n",
    "$$\n",
    "</small>"
   ]
  },
  {
   "cell_type": "code",
   "execution_count": null,
   "metadata": {
    "slideshow": {
     "slide_type": "slide"
    }
   },
   "outputs": [],
   "source": [
    "A = np.array([\n",
    "    [ 3,   2, -1],\n",
    "    [ 2,  -2,  4],\n",
    "    [-1, 0.5, -1]\n",
    "])\n",
    "b = np.array([1, -2, 0])\n",
    "\n",
    "print(\"x :\",  np.linalg.solve(A, b))"
   ]
  },
  {
   "cell_type": "markdown",
   "metadata": {
    "slideshow": {
     "slide_type": "slide"
    }
   },
   "source": [
    "## Numpy to eigensystems\n",
    "\n",
    "<small>\n",
    "Easily diagonalize a matrix using `numpy.linalg.eig` function.\n",
    "\n",
    "Example:\n",
    "$$\n",
    "M \\vec{v} = \\lambda \\vec{v}\n",
    "$$\n",
    "</small>"
   ]
  },
  {
   "cell_type": "code",
   "execution_count": null,
   "metadata": {
    "slideshow": {
     "slide_type": "-"
    }
   },
   "outputs": [],
   "source": [
    "M = np.array([\n",
    "    [5, 3],\n",
    "    [2, 7]\n",
    "])\n",
    "\n",
    "λs, eigvec = np.linalg.eig(M)\n",
    "\n",
    "print(\"λ 1:\",                λs[0])\n",
    "print(\"Eigen vector 1:\",     eigvec[0])\n",
    "print(\"\\n\")\n",
    "print(\"λ 2:\",                λs[1])\n",
    "print(\"Eigen vector 2:\",     eigvec[1])"
   ]
  },
  {
   "cell_type": "markdown",
   "metadata": {
    "slideshow": {
     "slide_type": "slide"
    }
   },
   "source": [
    "### Summary\n",
    "1. To get a numpy array, put `import numpy as np` at the top of your code\n",
    "2. Arrays are fast, but less flexible than list\n",
    "3. You can do element-wise math on each array\n",
    "4. You create N-dimensional arrays and slice by `some_array[i,j,k]`\n",
    "5. Arrays are vectors and matrices that allow linear algebra"
   ]
  },
  {
   "cell_type": "code",
   "execution_count": null,
   "metadata": {},
   "outputs": [],
   "source": []
  }
 ],
 "metadata": {
  "celltoolbar": "Slideshow",
  "kernelspec": {
   "display_name": "Python 3",
   "language": "python",
   "name": "python3"
  },
  "language_info": {
   "codemirror_mode": {
    "name": "ipython",
    "version": 3
   },
   "file_extension": ".py",
   "mimetype": "text/x-python",
   "name": "python",
   "nbconvert_exporter": "python",
   "pygments_lexer": "ipython3",
   "version": "3.6.6"
  }
 },
 "nbformat": 4,
 "nbformat_minor": 1
}
