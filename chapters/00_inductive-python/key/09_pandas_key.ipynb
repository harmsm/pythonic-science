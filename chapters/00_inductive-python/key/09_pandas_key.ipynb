{
 "cells": [
  {
   "cell_type": "code",
   "execution_count": null,
   "metadata": {},
   "outputs": [],
   "source": [
    "import numpy as np"
   ]
  },
  {
   "cell_type": "markdown",
   "metadata": {
    "slideshow": {
     "slide_type": "slide"
    }
   },
   "source": [
    "# Pandas\n",
    "\n",
    "Sometimes you want a spreadsheet.  "
   ]
  },
  {
   "cell_type": "markdown",
   "metadata": {},
   "source": [
    "### Starting point"
   ]
  },
  {
   "cell_type": "code",
   "execution_count": null,
   "metadata": {
    "slideshow": {
     "slide_type": "slide"
    }
   },
   "outputs": [],
   "source": [
    "some_dict = {\"x\":{\"a\":1,\"b\":2,\"c\":3},\n",
    "             \"y\":{\"a\":4,\"b\":5,\"c\":6}}"
   ]
  },
  {
   "cell_type": "markdown",
   "metadata": {},
   "source": [
    "Write a piece of code that prints the number `5`, taken from `some_dict`."
   ]
  },
  {
   "cell_type": "code",
   "execution_count": null,
   "metadata": {
    "scrolled": true,
    "slideshow": {
     "slide_type": "slide"
    }
   },
   "outputs": [],
   "source": [
    "# Answer\n",
    "some_dict[\"y\"][\"b\"]"
   ]
  },
  {
   "cell_type": "markdown",
   "metadata": {
    "slideshow": {
     "slide_type": "fragment"
    }
   },
   "source": [
    "A `pandas` dataframe is a dictionary of dictionaries on steroids. (Note, its said \"pan-dis\" not \"pandas\" like the cute bears).  \n",
    "\n",
    "We import it in the cell below.  It's almost always imported this way (`import pandas as pd`) just like `numpy` is almost always imported `import numpy as np`.  "
   ]
  },
  {
   "cell_type": "code",
   "execution_count": null,
   "metadata": {
    "slideshow": {
     "slide_type": "slide"
    }
   },
   "outputs": [],
   "source": [
    "import pandas as pd  "
   ]
  },
  {
   "cell_type": "code",
   "execution_count": null,
   "metadata": {
    "slideshow": {
     "slide_type": "-"
    }
   },
   "outputs": [],
   "source": [
    "# Turn the dictionary into a data frame.\n",
    "# Note that jupyter renders the data frame in pretty form.\n",
    "df = pd.DataFrame(some_dict)\n",
    "df"
   ]
  },
  {
   "cell_type": "markdown",
   "metadata": {
    "slideshow": {
     "slide_type": "slide"
    }
   },
   "source": [
    "### Getting values \n",
    "\n",
    "#### A pandas dataframe organizes data with named columns and named rows"
   ]
  },
  {
   "cell_type": "code",
   "execution_count": null,
   "metadata": {
    "slideshow": {
     "slide_type": "-"
    }
   },
   "outputs": [],
   "source": [
    "# column names\n",
    "print(df.columns)\n",
    "\n",
    "# row names\n",
    "print(df.index)"
   ]
  },
  {
   "cell_type": "markdown",
   "metadata": {
    "slideshow": {
     "slide_type": "slide"
    }
   },
   "source": [
    "#### Predict\n",
    "\n",
    "What will this cell print out when run?"
   ]
  },
  {
   "cell_type": "code",
   "execution_count": null,
   "metadata": {
    "slideshow": {
     "slide_type": "-"
    }
   },
   "outputs": [],
   "source": [
    "print(df.loc[\"a\",\"y\"])"
   ]
  },
  {
   "cell_type": "markdown",
   "metadata": {},
   "source": [
    "#### Summarize\n",
    "How does `loc` work?"
   ]
  },
  {
   "cell_type": "markdown",
   "metadata": {},
   "source": [
    "`loc` accesses data by row name and column name: `loc[row_name,column_name]`"
   ]
  },
  {
   "cell_type": "markdown",
   "metadata": {
    "slideshow": {
     "slide_type": "slide"
    }
   },
   "source": [
    "#### Predict\n",
    "\n",
    "What will this cell print out when run?"
   ]
  },
  {
   "cell_type": "code",
   "execution_count": null,
   "metadata": {},
   "outputs": [],
   "source": [
    "print(df.iloc[0,1])"
   ]
  },
  {
   "cell_type": "markdown",
   "metadata": {},
   "source": [
    "#### Summarize\n",
    "How does `iloc` work?"
   ]
  },
  {
   "cell_type": "markdown",
   "metadata": {},
   "source": [
    "`iloc` access data by row number and column number: `loc[row_number,column_number]`"
   ]
  },
  {
   "cell_type": "markdown",
   "metadata": {},
   "source": [
    "#### Modify\n",
    "Change the cell below so it prints out all of column \"y\" (hint: you can slice)"
   ]
  },
  {
   "cell_type": "code",
   "execution_count": null,
   "metadata": {},
   "outputs": [],
   "source": [
    "print(df.loc[\"a\",\"y\"])\n",
    "\n",
    "# Answer\n",
    "print(df.loc[:,\"y\"])"
   ]
  },
  {
   "cell_type": "markdown",
   "metadata": {},
   "source": [
    "#### Predict what this will return"
   ]
  },
  {
   "cell_type": "code",
   "execution_count": null,
   "metadata": {},
   "outputs": [],
   "source": [
    "df.loc[[\"a\",\"b\"],:]"
   ]
  },
  {
   "cell_type": "markdown",
   "metadata": {},
   "source": [
    "#### Modify \n",
    "Change this cell so it prints out column \"x\" and rows \"b\" and \"c\"."
   ]
  },
  {
   "cell_type": "code",
   "execution_count": null,
   "metadata": {
    "scrolled": true
   },
   "outputs": [],
   "source": [
    "df.loc[[\"a\",\"b\"],:]\n",
    "\n",
    "#Answer\n",
    "df.loc[[\"b\",\"c\"],\"x\"]"
   ]
  },
  {
   "cell_type": "markdown",
   "metadata": {},
   "source": [
    "#### Summarize\n",
    "How does `loc` slicing work for a dataframe?"
   ]
  },
  {
   "cell_type": "markdown",
   "metadata": {},
   "source": [
    "`loc` slicing works using specified lists of named rows and columns (or \":\" for all rows/columns). "
   ]
  },
  {
   "cell_type": "markdown",
   "metadata": {},
   "source": [
    "#### Modify\n",
    "Change this cell so it prints out only the first column."
   ]
  },
  {
   "cell_type": "code",
   "execution_count": null,
   "metadata": {
    "scrolled": false
   },
   "outputs": [],
   "source": [
    "df.iloc[:,:]\n",
    "\n",
    "#Answer\n",
    "df.iloc[:,0]"
   ]
  },
  {
   "cell_type": "markdown",
   "metadata": {},
   "source": [
    "#### Summarize\n",
    "How does `iloc` slicing work for a dataframe?"
   ]
  },
  {
   "cell_type": "markdown",
   "metadata": {},
   "source": [
    "`iloc` slicing works like list or numpy array slicing: `0`, `-1`, `:` etc."
   ]
  },
  {
   "cell_type": "markdown",
   "metadata": {},
   "source": [
    "## IMPORTANT CONCEPT\n",
    "\n",
    "#### `loc`:\n",
    " + `loc['x','y']` will **always refer to the same data.**  This \n",
    "   is true even if you delete or reorder rows and columns. \n",
    " + `loc['x','y']` will **not** always refer to the same place\n",
    "   in the data frame. \n",
    "       \n",
    "#### `iloc`:\n",
    " + `loc[i,j]` will **always refer to the same place in the data\n",
    "   frame.** `loc[0,0]` is the top-left, `loc[n_row-1,n_col-1]` is\n",
    "   the bottom-right.\n",
    " + `iloc[i,j]` will *not* always refer to the same data.  If you\n",
    "   delete or reorder rows and columns, different data could be\n",
    "   in each cell."
   ]
  },
  {
   "cell_type": "markdown",
   "metadata": {},
   "source": [
    "### Confusing thing that happens with `loc` and `iloc`\n",
    "Data frames often have **numbers** as labels for each row.  This means `loc` takes a number for the row.  But a `loc` row number is different from an `iloc` row number.  I'll demonstrate:"
   ]
  },
  {
   "cell_type": "code",
   "execution_count": null,
   "metadata": {},
   "outputs": [],
   "source": [
    "another_dict = {\"col1\":[1,2,3],\"col2\":[3,4,5]}\n",
    "another_df = pd.DataFrame(another_dict)\n",
    "another_df"
   ]
  },
  {
   "cell_type": "markdown",
   "metadata": {},
   "source": [
    "Notice that the row names are `0`, `1`, and `2`.  (We did not specify row names in our input dictionary, so `pandas` gave these row names `0-2`). \n",
    "\n",
    "We can access rows using `loc` with these integer row labels:"
   ]
  },
  {
   "cell_type": "code",
   "execution_count": null,
   "metadata": {},
   "outputs": [],
   "source": [
    "print(another_df.loc[1,\"col1\"])"
   ]
  },
  {
   "cell_type": "markdown",
   "metadata": {},
   "source": [
    "Now, let's whack out the middle row."
   ]
  },
  {
   "cell_type": "code",
   "execution_count": null,
   "metadata": {},
   "outputs": [],
   "source": [
    "another_df = another_df.loc[[0,2],:]\n",
    "another_df"
   ]
  },
  {
   "cell_type": "markdown",
   "metadata": {},
   "source": [
    "You might expect you can now access second row with `loc[1,\"col1\"]`, but **you can't**.  The cell below will fail:"
   ]
  },
  {
   "cell_type": "code",
   "execution_count": null,
   "metadata": {
    "scrolled": true
   },
   "outputs": [],
   "source": [
    "another_df.loc[1,\"col1\"]"
   ]
  },
  {
   "cell_type": "markdown",
   "metadata": {},
   "source": [
    "**REMEMBER: `loc[x,y]` will always point to the same data**.  This means `another_df.loc[1,\"col\"]` **can't** point to anything because we deleted the data. The row labeled `1` is gone. The other two rows are still there:"
   ]
  },
  {
   "cell_type": "code",
   "execution_count": null,
   "metadata": {},
   "outputs": [],
   "source": [
    "print(another_df.loc[0,\"col1\"])\n",
    "print(another_df.loc[2,\"col1\"])"
   ]
  },
  {
   "cell_type": "markdown",
   "metadata": {},
   "source": [
    "`iloc`, though, points to the **location** in the dataframe.  This has now changed:"
   ]
  },
  {
   "cell_type": "code",
   "execution_count": null,
   "metadata": {
    "scrolled": true
   },
   "outputs": [],
   "source": [
    "print(another_df.iloc[0,0])\n",
    "print(another_df.iloc[1,0])"
   ]
  },
  {
   "cell_type": "markdown",
   "metadata": {},
   "source": [
    "The following line will now fail because there is no more 3rd row in the data frame:"
   ]
  },
  {
   "cell_type": "code",
   "execution_count": null,
   "metadata": {
    "scrolled": true
   },
   "outputs": [],
   "source": [
    "print(another_df.iloc[2,0])"
   ]
  },
  {
   "cell_type": "markdown",
   "metadata": {},
   "source": [
    "After deleting the second row (labeld `1`):\n",
    " + The first row (labeled `0`) is accessed by `loc[0,:]` or `iloc[0,:]`.\n",
    " + The second row (labeled `2`) is accessed by `loc[2,:]` or `iloc[1,:]`.  \n",
    "\n",
    "Confused yet?  **KEEP IN MIND**:`loc` refers to *data* and `iloc` refers to *location* in the data frame. \n"
   ]
  },
  {
   "cell_type": "markdown",
   "metadata": {},
   "source": [
    "#### Final note on accessing data: there are lots of ways (too many ways?) to access data in pandas DataFrames\n",
    "\n",
    "The following calls all access the same values.\n",
    "\n",
    "I'm putting these here in case you run across them in the wild, but I *strongly* recommend using `loc` and `iloc` exclusively, both for your own sanity and for readability...  "
   ]
  },
  {
   "cell_type": "code",
   "execution_count": null,
   "metadata": {},
   "outputs": [],
   "source": [
    "df = pd.DataFrame({\"x\":{\"a\":1,\"b\":2,\"c\":3},\n",
    "                   \"y\":{\"a\":4,\"b\":5,\"c\":6}})\n",
    "\n",
    "print(df)\n",
    "print(\"---\")\n",
    "print(df.loc[\"a\",\"y\"])\n",
    "print(df.iloc[0,1])\n",
    "print(df[\"y\"][\"a\"])\n",
    "print(df[\"y\"][0])\n",
    "print(df.y[0])\n"
   ]
  },
  {
   "cell_type": "markdown",
   "metadata": {},
   "source": [
    "### Setting values"
   ]
  },
  {
   "cell_type": "markdown",
   "metadata": {},
   "source": [
    "#### Predict\n",
    "What does the data frame look like after this code is run?"
   ]
  },
  {
   "cell_type": "code",
   "execution_count": null,
   "metadata": {},
   "outputs": [],
   "source": [
    "df = pd.DataFrame({\"x\":{\"a\":1,\"b\":2,\"c\":3},\n",
    "                   \"y\":{\"a\":4,\"b\":5,\"c\":6}})\n",
    "df.iloc[0,0] = 22\n",
    "df.loc[\"a\",\"y\"] = 14\n",
    "df"
   ]
  },
  {
   "cell_type": "markdown",
   "metadata": {},
   "source": [
    "#### Summarize:\n",
    "How can you set values in a data frame?"
   ]
  },
  {
   "cell_type": "markdown",
   "metadata": {},
   "source": [
    "You set values using `=` and a specified location in the dataframe using `loc` or `iloc`."
   ]
  },
  {
   "cell_type": "markdown",
   "metadata": {},
   "source": [
    "#### Fancy setting\n",
    "\n",
    "You can do all kinds of interesting setting moves:"
   ]
  },
  {
   "cell_type": "code",
   "execution_count": null,
   "metadata": {},
   "outputs": [],
   "source": [
    "df = pd.DataFrame({\"x\":{\"a\":1,\"b\":2,\"c\":3},\n",
    "                   \"y\":{\"a\":4,\"b\":5,\"c\":6}})\n",
    "\n",
    "# Setting multiple locations to a single value\n",
    "df.loc[(\"a\",\"b\"),(\"x\",\"y\")] = 5\n",
    "df"
   ]
  },
  {
   "cell_type": "code",
   "execution_count": null,
   "metadata": {},
   "outputs": [],
   "source": [
    "# Setting a square of locations (rows a,b, columns x,y) to 1 using \n",
    "# a 2x2 array\n",
    "df.loc[(\"a\",\"b\"),(\"x\",\"y\")] = np.ones((2,2),dtype=np.int)\n",
    "df"
   ]
  },
  {
   "cell_type": "markdown",
   "metadata": {},
   "source": [
    "### Creating and saving dataframes"
   ]
  },
  {
   "cell_type": "markdown",
   "metadata": {},
   "source": [
    "#### Summarize: \n",
    "What does the following do?"
   ]
  },
  {
   "cell_type": "code",
   "execution_count": null,
   "metadata": {
    "scrolled": true
   },
   "outputs": [],
   "source": [
    "# You can write to a csv file\n",
    "df.to_csv(\"a-file.csv\")\n",
    "\n",
    "# You can read the csv back in\n",
    "new_df = pd.read_csv(\"a-file.csv\",index_col=0)\n",
    "new_df"
   ]
  },
  {
   "cell_type": "markdown",
   "metadata": {},
   "source": [
    "The program wrote a csv file called `a-file.csv` and then read it back in as a new data frame `new_df.`"
   ]
  },
  {
   "cell_type": "markdown",
   "metadata": {},
   "source": [
    "#### Predict:\n",
    "What does the data frame look like that comes out? (This is a very common way to generate a data frame.)"
   ]
  },
  {
   "cell_type": "code",
   "execution_count": null,
   "metadata": {},
   "outputs": [],
   "source": [
    "names = {\"harry\":[],\"jane\":[],\"sally\":[]}\n",
    "for i in range(5):\n",
    "    names[\"harry\"].append(i)\n",
    "    names[\"jane\"].append(i*5)\n",
    "    names[\"sally\"].append(-i)\n",
    "    \n",
    "df_names = pd.DataFrame(names)\n",
    "df_names"
   ]
  },
  {
   "cell_type": "markdown",
   "metadata": {},
   "source": [
    "#### Summary\n",
    "\n",
    "You can get a data frame by:\n",
    " + reading in a spreadsheet by `pd.read_csv` (or `pd.read_excel` or \n",
    "   many other options)\n",
    " + constructing one by `pd.DataFrame(some_dictionary)`\n",
    "\n",
    "You can save out a data frame by:\n",
    " + `pd.to_csv` (or `pd.to_excel` or many other options)\n"
   ]
  },
  {
   "cell_type": "markdown",
   "metadata": {},
   "source": [
    "### Some Really Useful Stuff Presented In Non-Inductive Fashion\n",
    "\n",
    "#### Sorting by a column"
   ]
  },
  {
   "cell_type": "code",
   "execution_count": null,
   "metadata": {
    "slideshow": {
     "slide_type": "-"
    }
   },
   "outputs": [],
   "source": [
    "df = pd.DataFrame({\"x\":{\"a\":1,\"b\":2,\"c\":3},\n",
    "                   \"y\":{\"a\":4,\"b\":5,\"c\":6}})\n",
    "sorted_df = df.sort_values(\"y\",ascending=False)\n",
    "sorted_df"
   ]
  },
  {
   "cell_type": "markdown",
   "metadata": {},
   "source": [
    "#### Accessing elements using True/False arrays (masks)\n",
    "(Note this only works for `loc`, not `iloc`)"
   ]
  },
  {
   "cell_type": "code",
   "execution_count": null,
   "metadata": {},
   "outputs": [],
   "source": [
    "mask = np.array([True,False,True],dtype=np.bool)\n",
    "df.loc[mask,\"x\"]"
   ]
  },
  {
   "cell_type": "markdown",
   "metadata": {},
   "source": [
    "This lets you do some powerful stuff.  Below, I am going to set all values in this data frame that are less than 4 to 0:"
   ]
  },
  {
   "cell_type": "code",
   "execution_count": null,
   "metadata": {},
   "outputs": [],
   "source": [
    "# Copy the df_names data frame we made above... \n",
    "new_df_names = df_names.copy()\n",
    "new_df_names"
   ]
  },
  {
   "cell_type": "code",
   "execution_count": null,
   "metadata": {
    "scrolled": true
   },
   "outputs": [],
   "source": [
    "mask = new_df_names < 4\n",
    "new_df_names[mask] = 0\n",
    "new_df_names"
   ]
  },
  {
   "cell_type": "markdown",
   "metadata": {},
   "source": [
    "Final aside: you can do this sort of mask slicing on numpy arrays too:"
   ]
  },
  {
   "cell_type": "code",
   "execution_count": null,
   "metadata": {},
   "outputs": [],
   "source": [
    "mask = np.arange(10) > 6\n",
    "x = np.arange(10)\n",
    "x[mask] = 42\n",
    "x"
   ]
  },
  {
   "cell_type": "markdown",
   "metadata": {},
   "source": [
    "## Summary\n",
    "\n",
    "+ You get access to data frames by `import pandas as pd`\n",
    "\n",
    "+ You can create a data frame from a dictionary by\n",
    "  ```\n",
    "  df = pd.DataFrame({\"col1\":[v1,v2,...],\"col2\":[vi,vj,...],...})\n",
    "  ```\n",
    "\n",
    "+ You can load a dataframe from a spreadsheet by:\n",
    "  ```\n",
    "  df = pd.read_csv(csv_file)\n",
    "  ```\n",
    "  \n",
    "+ You can access and set values in data frames using:\n",
    "   + `loc[row_name,col_name]` (refers to a piece of data)\n",
    "   + `iloc[row_number,col_number`] (refers to a location in the\n",
    "     data frame)\n",
    "   + Both `loc` and `iloc` allow slicing. \n",
    "\n",
    "+ You can do *a lot* with data frames (sorting, masking, etc.)\n",
    "    "
   ]
  },
  {
   "cell_type": "markdown",
   "metadata": {},
   "source": [
    "## Implement\n",
    "\n",
    " + Download the following spreadsheet: https://github.com/harmsm/pythonic-science/raw/master/labs/02_regression/data/time_course_4.csv\n",
    " + Read the file as a pandas data frame\n",
    " + Find the mean of the `obs` column (hint, use `np.mean`)\n",
    " + Sort from decreasing to increasing `obs`\n",
    " + Find the standard deviation of the 5 lowest `obs` values (hint, us `np.std`)"
   ]
  },
  {
   "cell_type": "code",
   "execution_count": null,
   "metadata": {},
   "outputs": [],
   "source": [
    "df = pd.read_csv(\"time_course_4.csv\",index_col=0)\n",
    "mean_value = np.mean(df.loc[:,\"obs\"])\n",
    "print(mean_value)\n",
    "\n",
    "# sorted!\n",
    "sorted_df = df.sort_values(\"obs\")\n",
    "\n",
    "lowest_five = sorted_df.iloc[:5,0]\n",
    "print(np.std(lowest_five))\n"
   ]
  },
  {
   "cell_type": "code",
   "execution_count": null,
   "metadata": {},
   "outputs": [],
   "source": []
  }
 ],
 "metadata": {
  "kernelspec": {
   "display_name": "Python 3",
   "language": "python",
   "name": "python3"
  },
  "language_info": {
   "codemirror_mode": {
    "name": "ipython",
    "version": 3
   },
   "file_extension": ".py",
   "mimetype": "text/x-python",
   "name": "python",
   "nbconvert_exporter": "python",
   "pygments_lexer": "ipython3",
   "version": "3.7.3"
  }
 },
 "nbformat": 4,
 "nbformat_minor": 4
}
