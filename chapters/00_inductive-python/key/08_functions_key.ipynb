{
 "cells": [
  {
   "cell_type": "markdown",
   "metadata": {
    "slideshow": {
     "slide_type": "slide"
    }
   },
   "source": [
    "# Functions\n",
    "\n",
    "Making reusable blocks of code.\n"
   ]
  },
  {
   "cell_type": "markdown",
   "metadata": {
    "slideshow": {
     "slide_type": "slide"
    }
   },
   "source": [
    "### Starting point:\n",
    "\n",
    "In this exercise, we're going to calculate one of the roots from the quadratic formula:\n",
    "\n",
    "$r_{p} = \\frac{-b + \\sqrt{b^{2} - 4ac}}{2a}$\n"
   ]
  },
  {
   "cell_type": "markdown",
   "metadata": {
    "slideshow": {
     "slide_type": "-"
    }
   },
   "source": [
    "Determine $r_{p}$ for $a = 1$, $b=4$, and $c=3$.  "
   ]
  },
  {
   "cell_type": "code",
   "execution_count": null,
   "metadata": {
    "slideshow": {
     "slide_type": "-"
    }
   },
   "outputs": [],
   "source": [
    "## Code here\n"
   ]
  },
  {
   "cell_type": "markdown",
   "metadata": {
    "slideshow": {
     "slide_type": "fragment"
    }
   },
   "source": [
    "What about for $a = 2$, $b = 8$, and $c = 1$?"
   ]
  },
  {
   "cell_type": "code",
   "execution_count": null,
   "metadata": {
    "slideshow": {
     "slide_type": "-"
    }
   },
   "outputs": [],
   "source": [
    "## Code here \n"
   ]
  },
  {
   "cell_type": "markdown",
   "metadata": {
    "slideshow": {
     "slide_type": "slide"
    }
   },
   "source": [
    "### Functions:\n",
    "\n",
    "+ Code can be organized into **functions**.  \n",
    "+ Functions allow you to wrap a piece of code and use it over and over. \n",
    "+ Makes code reusable\n",
    "+ Avoid having to re-type the same code (each time, maybe making an error)"
   ]
  },
  {
   "cell_type": "markdown",
   "metadata": {
    "slideshow": {
     "slide_type": "slide"
    }
   },
   "source": [
    "### Observe how this function works."
   ]
  },
  {
   "cell_type": "code",
   "execution_count": 5,
   "metadata": {
    "slideshow": {
     "slide_type": "fragment"
    }
   },
   "outputs": [
    {
     "name": "stdout",
     "output_type": "stream",
     "text": [
      "Help on function square in module __main__:\n",
      "\n",
      "square(x)\n",
      "    This function will square x.\n",
      "\n"
     ]
    }
   ],
   "source": [
    "def square(x):\n",
    "    \"\"\"\n",
    "    This function will square x.\n",
    "    \"\"\"\n",
    "    \n",
    "    return x*x\n",
    "\n",
    "s = square(5)\n",
    "\n",
    "help(square)"
   ]
  },
  {
   "cell_type": "markdown",
   "metadata": {
    "slideshow": {
     "slide_type": "slide"
    }
   },
   "source": [
    "### Observe how this function works."
   ]
  },
  {
   "cell_type": "code",
   "execution_count": null,
   "metadata": {
    "slideshow": {
     "slide_type": "fragment"
    }
   },
   "outputs": [],
   "source": [
    "import math\n",
    "\n",
    "def hypotenuse(y,theta):\n",
    "    \"\"\"\n",
    "    Return a hypotenuse given y and theta in radians.\n",
    "    \"\"\"\n",
    "    \n",
    "    return math.sin(theta)*y\n",
    "    \n",
    "\n",
    "h = hypotenuse(1,math.pi/2)\n",
    "\n",
    "print(h)\n",
    "    "
   ]
  },
  {
   "cell_type": "markdown",
   "metadata": {
    "slideshow": {
     "slide_type": "slide"
    }
   },
   "source": [
    "### Summarize:\n",
    "What is the syntax for defining a function?"
   ]
  },
  {
   "cell_type": "markdown",
   "metadata": {
    "slideshow": {
     "slide_type": "fragment"
    }
   },
   "source": [
    "\n",
    "```python\n",
    "def FUNCTION_NAME(ARGUMENT_1,ARGUMENT_2,...,ARGUMENT_N):\n",
    "    \"\"\"\n",
    "    Description of function.\n",
    "    \"\"\"\n",
    "    \n",
    "    do_stuff\n",
    "    do_other_stuff\n",
    "    do_more_stuff\n",
    "    \n",
    "    return VALUE_1, VALUE_2, ... VALUE_N\n",
    "```\n",
    "    "
   ]
  },
  {
   "cell_type": "markdown",
   "metadata": {
    "slideshow": {
     "slide_type": "slide"
    }
   },
   "source": [
    "### How do you get information into a function?"
   ]
  },
  {
   "cell_type": "code",
   "execution_count": null,
   "metadata": {
    "slideshow": {
     "slide_type": "-"
    }
   },
   "outputs": [],
   "source": [
    "def some_function(ARGUMENT):\n",
    "    \"\"\"\n",
    "    Print out ARGUMENT.\n",
    "    \"\"\"\n",
    "    return 1\n",
    "    \n",
    "    print(ARGUMENT)\n",
    "    \n",
    "some_function(10)\n",
    "some_function(\"test\")"
   ]
  },
  {
   "cell_type": "markdown",
   "metadata": {
    "slideshow": {
     "slide_type": "slide"
    }
   },
   "source": [
    "### Summarize\n",
    "How do you get information into the function?"
   ]
  },
  {
   "cell_type": "markdown",
   "metadata": {
    "slideshow": {
     "slide_type": "fragment"
    }
   },
   "source": [
    "You get information into the function via **arguments** defined in the function name."
   ]
  },
  {
   "cell_type": "markdown",
   "metadata": {
    "slideshow": {
     "slide_type": "slide"
    }
   },
   "source": [
    "### Modify\n",
    "Alter the code below so it takes two arguments (`a` and `b`) and prints out both of them."
   ]
  },
  {
   "cell_type": "code",
   "execution_count": null,
   "metadata": {
    "slideshow": {
     "slide_type": "-"
    }
   },
   "outputs": [],
   "source": [
    "def some_function(a):\n",
    "    \"\"\"\n",
    "    print out a\n",
    "    \"\"\"\n",
    "    print(a)"
   ]
  },
  {
   "cell_type": "code",
   "execution_count": null,
   "metadata": {
    "slideshow": {
     "slide_type": "fragment"
    }
   },
   "outputs": [],
   "source": [
    "def some_function(a,b):\n",
    "    \"\"\"\n",
    "    print out a and b\n",
    "    \"\"\"\n",
    "    print(a,b)"
   ]
  },
  {
   "cell_type": "markdown",
   "metadata": {
    "slideshow": {
     "slide_type": "slide"
    }
   },
   "source": [
    "### Predict\n",
    "What does b=5 let you do?"
   ]
  },
  {
   "cell_type": "code",
   "execution_count": null,
   "metadata": {
    "slideshow": {
     "slide_type": "-"
    }
   },
   "outputs": [],
   "source": [
    "def some_function(a,b=5,c=7):\n",
    "    \"\"\"\n",
    "    Print a and b.\n",
    "    \"\"\"\n",
    "    \n",
    "    print(a,b,c)\n",
    "    \n",
    "some_function(1,c=2)\n",
    "some_function(1,2)\n",
    "some_function(a=5,b=4)"
   ]
  },
  {
   "cell_type": "markdown",
   "metadata": {
    "slideshow": {
     "slide_type": "fragment"
    }
   },
   "source": [
    "`b=5` allows you to define a default value for the argument."
   ]
  },
  {
   "cell_type": "markdown",
   "metadata": {
    "slideshow": {
     "slide_type": "slide"
    }
   },
   "source": [
    "### How do you get information out of a function?"
   ]
  },
  {
   "cell_type": "code",
   "execution_count": null,
   "metadata": {
    "slideshow": {
     "slide_type": "-"
    }
   },
   "outputs": [],
   "source": [
    "def some_function(a):\n",
    "    \"\"\"\n",
    "    Multiply a by 5.\n",
    "    \"\"\"\n",
    "    \n",
    "    return a*5\n",
    "\n",
    "print(some_function(2))\n",
    "print(some_function(80.5))\n",
    "\n",
    "x = some_function(5)\n",
    "print(x)"
   ]
  },
  {
   "cell_type": "markdown",
   "metadata": {
    "slideshow": {
     "slide_type": "slide"
    }
   },
   "source": [
    "### Summarize\n",
    "How do you get information out of the function?"
   ]
  },
  {
   "cell_type": "markdown",
   "metadata": {
    "slideshow": {
     "slide_type": "fragment"
    }
   },
   "source": [
    "By putting `return` at the end of a function, you can capture output."
   ]
  },
  {
   "cell_type": "markdown",
   "metadata": {
    "slideshow": {
     "slide_type": "slide"
    }
   },
   "source": [
    "### Modify\n",
    "Alter the program below so it returns the calculated value."
   ]
  },
  {
   "cell_type": "code",
   "execution_count": null,
   "metadata": {
    "slideshow": {
     "slide_type": "-"
    }
   },
   "outputs": [],
   "source": [
    "def some_function(a,b):\n",
    "    \"\"\"\n",
    "    Sum up a and b.\n",
    "    \"\"\"\n",
    "    \n",
    "    v = a + b\n",
    "    \n",
    "    return v\n",
    "\n",
    "v = some_function(1,2)\n",
    "\n",
    "print(v)"
   ]
  },
  {
   "cell_type": "code",
   "execution_count": null,
   "metadata": {
    "slideshow": {
     "slide_type": "fragment"
    }
   },
   "outputs": [],
   "source": [
    "def some_function(a,b):\n",
    "    \"\"\"\n",
    "    Sum up a and b.\n",
    "    \"\"\"\n",
    "    \n",
    "    v = a + b\n",
    "    \n",
    "    return v"
   ]
  },
  {
   "cell_type": "markdown",
   "metadata": {
    "slideshow": {
     "slide_type": "slide"
    }
   },
   "source": [
    "To return multiple values, use commas:"
   ]
  },
  {
   "cell_type": "code",
   "execution_count": null,
   "metadata": {},
   "outputs": [],
   "source": [
    "def some_function(a):\n",
    "    \"\"\"\n",
    "    Multiply a by 5 and 2.\n",
    "    \"\"\"\n",
    "    \n",
    "    return a*5, a*2\n",
    "\n",
    "x, y = some_function(5)\n",
    "\n",
    "print(x)"
   ]
  },
  {
   "cell_type": "markdown",
   "metadata": {
    "slideshow": {
     "slide_type": "slide"
    }
   },
   "source": [
    "### Implement\n",
    "Write a function that uses the quadratic equation to find both roots of a polynomial for any $a$, $b$, and $c$. \n"
   ]
  },
  {
   "cell_type": "code",
   "execution_count": null,
   "metadata": {
    "slideshow": {
     "slide_type": "-"
    }
   },
   "outputs": [],
   "source": [
    "## Code here\n",
    "\n"
   ]
  },
  {
   "cell_type": "markdown",
   "metadata": {
    "slideshow": {
     "slide_type": "slide"
    }
   },
   "source": [
    "## Summary\n",
    "+ Functions are defined by:\n",
    "\n",
    "```python\n",
    "def FUNCTION_NAME(ARGUMENT_1,ARGUMENT_2,...,ARGUMENT_N):\n",
    "    \"\"\"\n",
    "    Description of function.\n",
    "    \"\"\"\n",
    "    \n",
    "    do_stuff\n",
    "    do_other_stuff\n",
    "    do_more_stuff\n",
    "    \n",
    "    return VALUE_1, VALUE_2, ... VALUE_N\n",
    "```\n",
    "    "
   ]
  },
  {
   "cell_type": "markdown",
   "metadata": {
    "slideshow": {
     "slide_type": "slide"
    }
   },
   "source": [
    "### Rule of thumb: <font color=\"red\">NEVER</font> copy a block of code in the same program! "
   ]
  }
 ],
 "metadata": {
  "celltoolbar": "Slideshow",
  "kernelspec": {
   "display_name": "Python 3",
   "language": "python",
   "name": "python3"
  },
  "language_info": {
   "codemirror_mode": {
    "name": "ipython",
    "version": 3
   },
   "file_extension": ".py",
   "mimetype": "text/x-python",
   "name": "python",
   "nbconvert_exporter": "python",
   "pygments_lexer": "ipython3",
   "version": "3.6.6"
  }
 },
 "nbformat": 4,
 "nbformat_minor": 1
}
